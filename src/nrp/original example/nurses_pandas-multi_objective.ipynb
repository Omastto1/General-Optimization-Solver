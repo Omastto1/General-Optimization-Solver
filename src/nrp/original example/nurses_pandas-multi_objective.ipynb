{
 "cells": [
  {
   "cell_type": "markdown",
   "metadata": {},
   "source": [
    "# The Nurse Assignment Problem\n",
    "\n",
    "This tutorial includes everything you need to set up IBM Decision Optimization CPLEX Modeling for Python (DOcplex), build a Mathematical Programming model, and get its solution by solving the model on the cloud with IBM ILOG CPLEX Optimizer.\n",
    "\n",
    "When you finish this tutorial, you'll have a foundational knowledge of _Prescriptive Analytics_.\n",
    "\n",
    ">This notebook is part of **[Prescriptive Analytics for Python](http://ibmdecisionoptimization.github.io/docplex-doc/)**\n",
    ">\n",
    ">It requires either an [installation of CPLEX Optimizers](http://ibmdecisionoptimization.github.io/docplex-doc/getting_started.html) or it can be run on [IBM Cloud Pak for Data as a Service](https://www.ibm.com/products/cloud-pak-for-data/as-a-service/) (Sign up for a [free IBM Cloud account](https://dataplatform.cloud.ibm.com/registration/stepone?context=wdp&apps=all>)\n",
    "and you can start using `IBM Cloud Pak for Data as a Service` right away).\n",
    ">\n",
    "> CPLEX is available on <i>IBM Cloud Pack for Data</i> and <i>IBM Cloud Pak for Data as a Service</i>:\n",
    ">    - <i>IBM Cloud Pak for Data as a Service</i>: Depends on the runtime used:\n",
    ">         - <i>Python 3.x</i> runtime: Community edition\n",
    ">         - <i>Python 3.x + DO</i> runtime: full edition\n",
    ">    - <i>Cloud Pack for Data</i>: Community edition is installed by default. Please install `DO` addon in `Watson Studio Premium` for the full edition\n",
    "\n",
    "\n",
    "Table of contents:\n",
    "\n",
    "-  [Describe the business problem](#Describe-the-business-problem)\n",
    "*  [How decision optimization (prescriptive analytics) can help](#How--decision-optimization-can-help)\n",
    "*  [Use decision optimization](#Use-decision-optimization)\n",
    "    *  [Step 1: Import the library](#Step-1:-Import-the-library)\n",
    "    -  [Step 2: Model the data](#Step-2:-Model-the-data)\n",
    "    *  [Step 3: Prepare the data](#Step-3:-Prepare-the-data)\n",
    "    -  [Step 4: Set up the prescriptive model](#Step-4:-Set-up-the-prescriptive-model)\n",
    "        * [Define the decision variables](#Define-the-decision-variables)\n",
    "        * [Express the business constraints](#Express-the-business-constraints)\n",
    "        * [Express the objective](#Express-the-objective)\n",
    "        * [Solve with Decision Optimization](#Solve-with-Decision-Optimization)\n",
    "    *  [Step 5: Investigate the solution and run an example analysis](#Step-5:-Investigate-the-solution-and-then-run-an-example-analysis)\n",
    "*  [Summary](#Summary)\n",
    "\n",
    "****"
   ]
  },
  {
   "cell_type": "markdown",
   "metadata": {},
   "source": [
    "## Describe the business problem\n",
    "\n",
    "This notebook describes how to use CPLEX Modeling for Python together with *pandas* to\n",
    "manage the assignment of nurses to shifts in a hospital.\n",
    "\n",
    "Nurses must be assigned to hospital shifts in accordance with various skill and staffing constraints.\n",
    "\n",
    "The goal of the model is to find an efficient balance between the different objectives:\n",
    "\n",
    "* minimize the overall cost of the plan and\n",
    "* assign shifts as fairly as possible.\n"
   ]
  },
  {
   "cell_type": "markdown",
   "metadata": {},
   "source": [
    "## How  decision optimization can help\n",
    "\n",
    "* Prescriptive analytics (decision optimization) technology recommends actions that are based on desired outcomes.  It takes into account specific scenarios, resources, and knowledge of past and current events. With this insight, your organization can make better decisions and have greater control of business outcomes.  \n",
    "\n",
    "* Prescriptive analytics is the next step on the path to insight-based actions. It creates value through synergy with predictive analytics, which analyzes data to predict future outcomes.  \n",
    "\n",
    "* Prescriptive analytics takes that insight to the next level by suggesting the optimal way to handle that future situation. Organizations that can act fast in dynamic conditions and make superior decisions in uncertain environments gain a strong competitive advantage.  \n",
    "<br/>\n",
    "\n",
    "<u>With prescriptive analytics, you can:</u> \n",
    "\n",
    "* Automate the complex decisions and trade-offs to better manage your limited resources.\n",
    "* Take advantage of a future opportunity or mitigate a future risk.\n",
    "* Proactively update recommendations based on changing events.\n",
    "* Meet operational goals, increase customer loyalty, prevent threats and fraud, and optimize business processes."
   ]
  },
  {
   "cell_type": "markdown",
   "metadata": {},
   "source": [
    "## Checking minimum requirements\n",
    "This notebook uses some features of pandas that are available in version 0.17.1 or above."
   ]
  },
  {
   "cell_type": "code",
   "execution_count": 1,
   "metadata": {},
   "outputs": [],
   "source": [
    "import pip\n",
    "REQUIRED_MINIMUM_PANDAS_VERSION = '0.17.1'\n",
    "try:\n",
    "    import pandas as pd\n",
    "    assert pd.__version__ >= REQUIRED_MINIMUM_PANDAS_VERSION\n",
    "except:\n",
    "    raise Exception(\"Version %s or above of Pandas is required to run this notebook\" % REQUIRED_MINIMUM_PANDAS_VERSION)"
   ]
  },
  {
   "cell_type": "markdown",
   "metadata": {},
   "source": [
    "## Use decision optimization"
   ]
  },
  {
   "cell_type": "markdown",
   "metadata": {},
   "source": [
    "### Step 1: Import the library\n",
    "\n",
    "Run the following code to import the Decision Optimization CPLEX Modeling library.  The *DOcplex* library contains the two modeling packages, Mathematical Programming (docplex.mp) and Constraint Programming (docplex.cp)."
   ]
  },
  {
   "cell_type": "code",
   "execution_count": 2,
   "metadata": {},
   "outputs": [],
   "source": [
    "import sys\n",
    "try:\n",
    "    import docplex.mp\n",
    "except:\n",
    "    raise Exception('Please install docplex. See https://pypi.org/project/docplex/')"
   ]
  },
  {
   "cell_type": "markdown",
   "metadata": {},
   "source": [
    "### Step 2: Model the data\n",
    "\n",
    "The input data consists of several tables:\n",
    "\n",
    "* The Departments table lists all departments in the scope of the assignment.\n",
    "* The Skills table list all skills.\n",
    "* The Shifts table lists all shifts to be staffed. A shift contains a department, a day in the week, plus the start and end times.\n",
    "* The Nurses table lists all nurses, identified by their names.\n",
    "* The NurseSkills table gives the skills of each nurse.\n",
    "* The SkillRequirements table lists the minimum number of persons required for a given department and skill.\n",
    "* The NurseVacations table lists days off for each nurse.\n",
    "* The NurseAssociations table lists pairs of nurses who wish to work together.\n",
    "* The NurseIncompatibilities table lists pairs of nurses who do not want to work together."
   ]
  },
  {
   "cell_type": "markdown",
   "metadata": {},
   "source": [
    "#### Loading data from Excel with pandas\n",
    "\n",
    "We load the data from an Excel file using *pandas*.\n",
    "Each sheet is read into a separate *pandas* DataFrame."
   ]
  },
  {
   "cell_type": "code",
   "execution_count": 3,
   "metadata": {},
   "outputs": [],
   "source": [
    "CSS = \"\"\"\n",
    "body {\n",
    "    margin: 0;\n",
    "    font-family: Helvetica;\n",
    "}\n",
    "table.dataframe {\n",
    "    border-collapse: collapse;\n",
    "    border: none;\n",
    "}\n",
    "table.dataframe tr {\n",
    "    border: none;\n",
    "}\n",
    "table.dataframe td, table.dataframe th {\n",
    "    margin: 0;\n",
    "    border: 1px solid white;\n",
    "    padding-left: 0.25em;\n",
    "    padding-right: 0.25em;\n",
    "}\n",
    "table.dataframe th:not(:empty) {\n",
    "    background-color: #fec;\n",
    "    text-align: left;\n",
    "    font-weight: normal;\n",
    "}\n",
    "table.dataframe tr:nth-child(2) th:empty {\n",
    "    border-left: none;\n",
    "    border-right: 1px dashed #888;\n",
    "}\n",
    "table.dataframe td {\n",
    "    border: 2px solid #ccf;\n",
    "    background-color: #f4f4ff;\n",
    "}\n",
    "    table.dataframe thead th:first-child {\n",
    "        display: none;\n",
    "    }\n",
    "    table.dataframe tbody th {\n",
    "        display: none;\n",
    "    }\n",
    "\"\"\""
   ]
  },
  {
   "cell_type": "code",
   "execution_count": 4,
   "metadata": {},
   "outputs": [],
   "source": [
    "from IPython.core.display import HTML\n",
    "HTML('<style>{}</style>'.format(CSS))\n",
    "\n",
    "from IPython.display import display"
   ]
  },
  {
   "cell_type": "code",
   "execution_count": 5,
   "metadata": {},
   "outputs": [],
   "source": [
    "try:\n",
    "    from StringIO import StringIO\n",
    "except ImportError:\n",
    "    from io import StringIO"
   ]
  },
  {
   "cell_type": "code",
   "execution_count": 6,
   "metadata": {},
   "outputs": [],
   "source": [
    "try:\n",
    "    from urllib2 import urlopen\n",
    "except ImportError:\n",
    "    from urllib.request import urlopen"
   ]
  },
  {
   "cell_type": "code",
   "execution_count": 7,
   "metadata": {},
   "outputs": [
    {
     "name": "stdout",
     "output_type": "stream",
     "text": [
      "#nurses = 32\n",
      "#shifts = 42\n",
      "#vacations = 59\n"
     ]
    }
   ],
   "source": [
    "# This notebook requires pandas to work\n",
    "import pandas as pd\n",
    "from pandas import DataFrame\n",
    "\n",
    "# Make sure that xlrd package, which is a pandas optional dependency, is installed\n",
    "# This package is required for Excel I/O\n",
    "try:\n",
    "    import xlrd\n",
    "except:\n",
    "    if hasattr(sys, 'real_prefix'):\n",
    "        #we are in a virtual env.\n",
    "        !pip install xlrd \n",
    "    else:\n",
    "        !pip install --user xlrd      \n",
    "\n",
    "# Use pandas to read the file, one tab for each table.\n",
    "data_url = \"https://github.com/IBMDecisionOptimization/docplex-examples/blob/master/examples/mp/jupyter/nurses_data.xls?raw=true\"\n",
    "nurse_xls_file = pd.ExcelFile(urlopen(data_url).read())\n",
    "\n",
    "df_skills = nurse_xls_file.parse('Skills')\n",
    "df_depts  = nurse_xls_file.parse('Departments')\n",
    "df_shifts = nurse_xls_file.parse('Shifts')\n",
    "# Rename df_shifts index\n",
    "df_shifts.index.name = 'shiftId'\n",
    "\n",
    "# Index is column 0: name\n",
    "df_nurses = nurse_xls_file.parse('Nurses', header=0, index_col=0)\n",
    "df_nurse_skilles = nurse_xls_file.parse('NurseSkills')\n",
    "df_vacations = nurse_xls_file.parse('NurseVacations')\n",
    "df_associations = nurse_xls_file.parse('NurseAssociations')\n",
    "df_incompatibilities = nurse_xls_file.parse('NurseIncompatibilities')\n",
    "\n",
    "# Display the nurses dataframe\n",
    "print(\"#nurses = {}\".format(len(df_nurses)))\n",
    "print(\"#shifts = {}\".format(len(df_shifts)))\n",
    "print(\"#vacations = {}\".format(len(df_vacations)))"
   ]
  },
  {
   "cell_type": "markdown",
   "metadata": {},
   "source": [
    "In addition, we introduce some extra global data:\n",
    "\n",
    "* The maximum work time for each nurse.\n",
    "* The maximum and minimum number of shifts worked by a nurse in a week."
   ]
  },
  {
   "cell_type": "code",
   "execution_count": 8,
   "metadata": {},
   "outputs": [],
   "source": [
    "# maximum work time (in hours)\n",
    "max_work_time = 40\n",
    "\n",
    "# maximum number of shifts worked in a week.\n",
    "max_nb_shifts = 5"
   ]
  },
  {
   "cell_type": "markdown",
   "metadata": {},
   "source": [
    "Shifts are stored in a separate DataFrame."
   ]
  },
  {
   "cell_type": "code",
   "execution_count": 9,
   "metadata": {},
   "outputs": [
    {
     "data": {
      "text/plain": "           department        day  start_time  end_time  min_req  max_req\nshiftId                                                                 \n0           Emergency     Monday           2         8        3        5\n1           Emergency     Monday           8        12        4        7\n2           Emergency     Monday          12        18        2        5\n3           Emergency     Monday          18         2        3        7\n4        Consultation     Monday           8        12       10       13\n5        Consultation     Monday          12        18        8       12\n6        Cardiac Care     Monday           8        12       10       13\n7        Cardiac Care     Monday          12        18        8       12\n8           Emergency    Tuesday           2         8        3        5\n9           Emergency    Tuesday           8        12        4        7\n10          Emergency    Tuesday          12        18        2        5\n11          Emergency    Tuesday          18         2        3        7\n12       Consultation    Tuesday           8        12       10       13\n13       Consultation    Tuesday          12        18        8       12\n14       Cardiac Care    Tuesday           8        12        4        7\n15       Cardiac Care    Tuesday          12        18        2        5\n16       Cardiac Care    Tuesday          18         2        3        7\n17          Emergency  Wednesday           2         8        3        5\n18          Emergency  Wednesday           8        12        4        7\n19          Emergency  Wednesday          12        18        2        5\n20          Emergency  Wednesday          18         2        3        7\n21       Consultation  Wednesday           8        12       10       13\n22       Consultation  Wednesday          12        18        8       12\n23          Emergency   Thursday           2         8        3        5\n24          Emergency   Thursday           8        12        4        7\n25          Emergency   Thursday          12        18        2        5\n26          Emergency   Thursday          18         2        3        7\n27       Consultation   Thursday           8        12       10       13\n28       Consultation   Thursday          12        18        8       12\n29          Emergency     Friday           2         8        3        5\n30          Emergency     Friday           8        12        4        7\n31          Emergency     Friday          12        18        2        5\n32          Emergency     Friday          18         2        3        7\n33       Consultation     Friday           8        12       10       13\n34       Consultation     Friday          12        18        8       12\n35          Emergency   Saturday           2        12        5        7\n36          Emergency   Saturday          12        20        7        9\n37          Emergency   Saturday          20         2       12       12\n38          Emergency     Sunday           2        12        5        7\n39          Emergency     Sunday          12        20        7        9\n40          Emergency     Sunday          20         2        8       12\n41         Geriatrics     Sunday           8        10        2        5",
      "text/html": "<div>\n<style scoped>\n    .dataframe tbody tr th:only-of-type {\n        vertical-align: middle;\n    }\n\n    .dataframe tbody tr th {\n        vertical-align: top;\n    }\n\n    .dataframe thead th {\n        text-align: right;\n    }\n</style>\n<table border=\"1\" class=\"dataframe\">\n  <thead>\n    <tr style=\"text-align: right;\">\n      <th></th>\n      <th>department</th>\n      <th>day</th>\n      <th>start_time</th>\n      <th>end_time</th>\n      <th>min_req</th>\n      <th>max_req</th>\n    </tr>\n    <tr>\n      <th>shiftId</th>\n      <th></th>\n      <th></th>\n      <th></th>\n      <th></th>\n      <th></th>\n      <th></th>\n    </tr>\n  </thead>\n  <tbody>\n    <tr>\n      <th>0</th>\n      <td>Emergency</td>\n      <td>Monday</td>\n      <td>2</td>\n      <td>8</td>\n      <td>3</td>\n      <td>5</td>\n    </tr>\n    <tr>\n      <th>1</th>\n      <td>Emergency</td>\n      <td>Monday</td>\n      <td>8</td>\n      <td>12</td>\n      <td>4</td>\n      <td>7</td>\n    </tr>\n    <tr>\n      <th>2</th>\n      <td>Emergency</td>\n      <td>Monday</td>\n      <td>12</td>\n      <td>18</td>\n      <td>2</td>\n      <td>5</td>\n    </tr>\n    <tr>\n      <th>3</th>\n      <td>Emergency</td>\n      <td>Monday</td>\n      <td>18</td>\n      <td>2</td>\n      <td>3</td>\n      <td>7</td>\n    </tr>\n    <tr>\n      <th>4</th>\n      <td>Consultation</td>\n      <td>Monday</td>\n      <td>8</td>\n      <td>12</td>\n      <td>10</td>\n      <td>13</td>\n    </tr>\n    <tr>\n      <th>5</th>\n      <td>Consultation</td>\n      <td>Monday</td>\n      <td>12</td>\n      <td>18</td>\n      <td>8</td>\n      <td>12</td>\n    </tr>\n    <tr>\n      <th>6</th>\n      <td>Cardiac Care</td>\n      <td>Monday</td>\n      <td>8</td>\n      <td>12</td>\n      <td>10</td>\n      <td>13</td>\n    </tr>\n    <tr>\n      <th>7</th>\n      <td>Cardiac Care</td>\n      <td>Monday</td>\n      <td>12</td>\n      <td>18</td>\n      <td>8</td>\n      <td>12</td>\n    </tr>\n    <tr>\n      <th>8</th>\n      <td>Emergency</td>\n      <td>Tuesday</td>\n      <td>2</td>\n      <td>8</td>\n      <td>3</td>\n      <td>5</td>\n    </tr>\n    <tr>\n      <th>9</th>\n      <td>Emergency</td>\n      <td>Tuesday</td>\n      <td>8</td>\n      <td>12</td>\n      <td>4</td>\n      <td>7</td>\n    </tr>\n    <tr>\n      <th>10</th>\n      <td>Emergency</td>\n      <td>Tuesday</td>\n      <td>12</td>\n      <td>18</td>\n      <td>2</td>\n      <td>5</td>\n    </tr>\n    <tr>\n      <th>11</th>\n      <td>Emergency</td>\n      <td>Tuesday</td>\n      <td>18</td>\n      <td>2</td>\n      <td>3</td>\n      <td>7</td>\n    </tr>\n    <tr>\n      <th>12</th>\n      <td>Consultation</td>\n      <td>Tuesday</td>\n      <td>8</td>\n      <td>12</td>\n      <td>10</td>\n      <td>13</td>\n    </tr>\n    <tr>\n      <th>13</th>\n      <td>Consultation</td>\n      <td>Tuesday</td>\n      <td>12</td>\n      <td>18</td>\n      <td>8</td>\n      <td>12</td>\n    </tr>\n    <tr>\n      <th>14</th>\n      <td>Cardiac Care</td>\n      <td>Tuesday</td>\n      <td>8</td>\n      <td>12</td>\n      <td>4</td>\n      <td>7</td>\n    </tr>\n    <tr>\n      <th>15</th>\n      <td>Cardiac Care</td>\n      <td>Tuesday</td>\n      <td>12</td>\n      <td>18</td>\n      <td>2</td>\n      <td>5</td>\n    </tr>\n    <tr>\n      <th>16</th>\n      <td>Cardiac Care</td>\n      <td>Tuesday</td>\n      <td>18</td>\n      <td>2</td>\n      <td>3</td>\n      <td>7</td>\n    </tr>\n    <tr>\n      <th>17</th>\n      <td>Emergency</td>\n      <td>Wednesday</td>\n      <td>2</td>\n      <td>8</td>\n      <td>3</td>\n      <td>5</td>\n    </tr>\n    <tr>\n      <th>18</th>\n      <td>Emergency</td>\n      <td>Wednesday</td>\n      <td>8</td>\n      <td>12</td>\n      <td>4</td>\n      <td>7</td>\n    </tr>\n    <tr>\n      <th>19</th>\n      <td>Emergency</td>\n      <td>Wednesday</td>\n      <td>12</td>\n      <td>18</td>\n      <td>2</td>\n      <td>5</td>\n    </tr>\n    <tr>\n      <th>20</th>\n      <td>Emergency</td>\n      <td>Wednesday</td>\n      <td>18</td>\n      <td>2</td>\n      <td>3</td>\n      <td>7</td>\n    </tr>\n    <tr>\n      <th>21</th>\n      <td>Consultation</td>\n      <td>Wednesday</td>\n      <td>8</td>\n      <td>12</td>\n      <td>10</td>\n      <td>13</td>\n    </tr>\n    <tr>\n      <th>22</th>\n      <td>Consultation</td>\n      <td>Wednesday</td>\n      <td>12</td>\n      <td>18</td>\n      <td>8</td>\n      <td>12</td>\n    </tr>\n    <tr>\n      <th>23</th>\n      <td>Emergency</td>\n      <td>Thursday</td>\n      <td>2</td>\n      <td>8</td>\n      <td>3</td>\n      <td>5</td>\n    </tr>\n    <tr>\n      <th>24</th>\n      <td>Emergency</td>\n      <td>Thursday</td>\n      <td>8</td>\n      <td>12</td>\n      <td>4</td>\n      <td>7</td>\n    </tr>\n    <tr>\n      <th>25</th>\n      <td>Emergency</td>\n      <td>Thursday</td>\n      <td>12</td>\n      <td>18</td>\n      <td>2</td>\n      <td>5</td>\n    </tr>\n    <tr>\n      <th>26</th>\n      <td>Emergency</td>\n      <td>Thursday</td>\n      <td>18</td>\n      <td>2</td>\n      <td>3</td>\n      <td>7</td>\n    </tr>\n    <tr>\n      <th>27</th>\n      <td>Consultation</td>\n      <td>Thursday</td>\n      <td>8</td>\n      <td>12</td>\n      <td>10</td>\n      <td>13</td>\n    </tr>\n    <tr>\n      <th>28</th>\n      <td>Consultation</td>\n      <td>Thursday</td>\n      <td>12</td>\n      <td>18</td>\n      <td>8</td>\n      <td>12</td>\n    </tr>\n    <tr>\n      <th>29</th>\n      <td>Emergency</td>\n      <td>Friday</td>\n      <td>2</td>\n      <td>8</td>\n      <td>3</td>\n      <td>5</td>\n    </tr>\n    <tr>\n      <th>30</th>\n      <td>Emergency</td>\n      <td>Friday</td>\n      <td>8</td>\n      <td>12</td>\n      <td>4</td>\n      <td>7</td>\n    </tr>\n    <tr>\n      <th>31</th>\n      <td>Emergency</td>\n      <td>Friday</td>\n      <td>12</td>\n      <td>18</td>\n      <td>2</td>\n      <td>5</td>\n    </tr>\n    <tr>\n      <th>32</th>\n      <td>Emergency</td>\n      <td>Friday</td>\n      <td>18</td>\n      <td>2</td>\n      <td>3</td>\n      <td>7</td>\n    </tr>\n    <tr>\n      <th>33</th>\n      <td>Consultation</td>\n      <td>Friday</td>\n      <td>8</td>\n      <td>12</td>\n      <td>10</td>\n      <td>13</td>\n    </tr>\n    <tr>\n      <th>34</th>\n      <td>Consultation</td>\n      <td>Friday</td>\n      <td>12</td>\n      <td>18</td>\n      <td>8</td>\n      <td>12</td>\n    </tr>\n    <tr>\n      <th>35</th>\n      <td>Emergency</td>\n      <td>Saturday</td>\n      <td>2</td>\n      <td>12</td>\n      <td>5</td>\n      <td>7</td>\n    </tr>\n    <tr>\n      <th>36</th>\n      <td>Emergency</td>\n      <td>Saturday</td>\n      <td>12</td>\n      <td>20</td>\n      <td>7</td>\n      <td>9</td>\n    </tr>\n    <tr>\n      <th>37</th>\n      <td>Emergency</td>\n      <td>Saturday</td>\n      <td>20</td>\n      <td>2</td>\n      <td>12</td>\n      <td>12</td>\n    </tr>\n    <tr>\n      <th>38</th>\n      <td>Emergency</td>\n      <td>Sunday</td>\n      <td>2</td>\n      <td>12</td>\n      <td>5</td>\n      <td>7</td>\n    </tr>\n    <tr>\n      <th>39</th>\n      <td>Emergency</td>\n      <td>Sunday</td>\n      <td>12</td>\n      <td>20</td>\n      <td>7</td>\n      <td>9</td>\n    </tr>\n    <tr>\n      <th>40</th>\n      <td>Emergency</td>\n      <td>Sunday</td>\n      <td>20</td>\n      <td>2</td>\n      <td>8</td>\n      <td>12</td>\n    </tr>\n    <tr>\n      <th>41</th>\n      <td>Geriatrics</td>\n      <td>Sunday</td>\n      <td>8</td>\n      <td>10</td>\n      <td>2</td>\n      <td>5</td>\n    </tr>\n  </tbody>\n</table>\n</div>"
     },
     "execution_count": 9,
     "metadata": {},
     "output_type": "execute_result"
    }
   ],
   "source": [
    "df_shifts"
   ]
  },
  {
   "cell_type": "markdown",
   "metadata": {},
   "source": [
    "### Step 3: Prepare the data\n",
    "\n",
    "We need to precompute additional data for shifts. \n",
    "For each shift, we need the start time and end time expressed in hours, counting from the beginning of the week: Monday 8am is converted to 8, Tuesday 8am is converted to 24+8 = 32, and so on.\n",
    "\n",
    "#### Sub-step #1\n",
    "We start by adding an extra column `dow` (day of week) which converts the string \"day\" into an integer in 0..6 (Monday is 0, Sunday is 6)."
   ]
  },
  {
   "cell_type": "code",
   "execution_count": 10,
   "metadata": {},
   "outputs": [
    {
     "data": {
      "text/plain": "           department        day  start_time  end_time  min_req  max_req  dow\nshiftId                                                                      \n0           Emergency     Monday           2         8        3        5    0\n1           Emergency     Monday           8        12        4        7    0\n2           Emergency     Monday          12        18        2        5    0\n3           Emergency     Monday          18         2        3        7    0\n4        Consultation     Monday           8        12       10       13    0\n5        Consultation     Monday          12        18        8       12    0\n6        Cardiac Care     Monday           8        12       10       13    0\n7        Cardiac Care     Monday          12        18        8       12    0\n8           Emergency    Tuesday           2         8        3        5    1\n9           Emergency    Tuesday           8        12        4        7    1\n10          Emergency    Tuesday          12        18        2        5    1\n11          Emergency    Tuesday          18         2        3        7    1\n12       Consultation    Tuesday           8        12       10       13    1\n13       Consultation    Tuesday          12        18        8       12    1\n14       Cardiac Care    Tuesday           8        12        4        7    1\n15       Cardiac Care    Tuesday          12        18        2        5    1\n16       Cardiac Care    Tuesday          18         2        3        7    1\n17          Emergency  Wednesday           2         8        3        5    2\n18          Emergency  Wednesday           8        12        4        7    2\n19          Emergency  Wednesday          12        18        2        5    2\n20          Emergency  Wednesday          18         2        3        7    2\n21       Consultation  Wednesday           8        12       10       13    2\n22       Consultation  Wednesday          12        18        8       12    2\n23          Emergency   Thursday           2         8        3        5    3\n24          Emergency   Thursday           8        12        4        7    3\n25          Emergency   Thursday          12        18        2        5    3\n26          Emergency   Thursday          18         2        3        7    3\n27       Consultation   Thursday           8        12       10       13    3\n28       Consultation   Thursday          12        18        8       12    3\n29          Emergency     Friday           2         8        3        5    4\n30          Emergency     Friday           8        12        4        7    4\n31          Emergency     Friday          12        18        2        5    4\n32          Emergency     Friday          18         2        3        7    4\n33       Consultation     Friday           8        12       10       13    4\n34       Consultation     Friday          12        18        8       12    4\n35          Emergency   Saturday           2        12        5        7    5\n36          Emergency   Saturday          12        20        7        9    5\n37          Emergency   Saturday          20         2       12       12    5\n38          Emergency     Sunday           2        12        5        7    6\n39          Emergency     Sunday          12        20        7        9    6\n40          Emergency     Sunday          20         2        8       12    6\n41         Geriatrics     Sunday           8        10        2        5    6",
      "text/html": "<div>\n<style scoped>\n    .dataframe tbody tr th:only-of-type {\n        vertical-align: middle;\n    }\n\n    .dataframe tbody tr th {\n        vertical-align: top;\n    }\n\n    .dataframe thead th {\n        text-align: right;\n    }\n</style>\n<table border=\"1\" class=\"dataframe\">\n  <thead>\n    <tr style=\"text-align: right;\">\n      <th></th>\n      <th>department</th>\n      <th>day</th>\n      <th>start_time</th>\n      <th>end_time</th>\n      <th>min_req</th>\n      <th>max_req</th>\n      <th>dow</th>\n    </tr>\n    <tr>\n      <th>shiftId</th>\n      <th></th>\n      <th></th>\n      <th></th>\n      <th></th>\n      <th></th>\n      <th></th>\n      <th></th>\n    </tr>\n  </thead>\n  <tbody>\n    <tr>\n      <th>0</th>\n      <td>Emergency</td>\n      <td>Monday</td>\n      <td>2</td>\n      <td>8</td>\n      <td>3</td>\n      <td>5</td>\n      <td>0</td>\n    </tr>\n    <tr>\n      <th>1</th>\n      <td>Emergency</td>\n      <td>Monday</td>\n      <td>8</td>\n      <td>12</td>\n      <td>4</td>\n      <td>7</td>\n      <td>0</td>\n    </tr>\n    <tr>\n      <th>2</th>\n      <td>Emergency</td>\n      <td>Monday</td>\n      <td>12</td>\n      <td>18</td>\n      <td>2</td>\n      <td>5</td>\n      <td>0</td>\n    </tr>\n    <tr>\n      <th>3</th>\n      <td>Emergency</td>\n      <td>Monday</td>\n      <td>18</td>\n      <td>2</td>\n      <td>3</td>\n      <td>7</td>\n      <td>0</td>\n    </tr>\n    <tr>\n      <th>4</th>\n      <td>Consultation</td>\n      <td>Monday</td>\n      <td>8</td>\n      <td>12</td>\n      <td>10</td>\n      <td>13</td>\n      <td>0</td>\n    </tr>\n    <tr>\n      <th>5</th>\n      <td>Consultation</td>\n      <td>Monday</td>\n      <td>12</td>\n      <td>18</td>\n      <td>8</td>\n      <td>12</td>\n      <td>0</td>\n    </tr>\n    <tr>\n      <th>6</th>\n      <td>Cardiac Care</td>\n      <td>Monday</td>\n      <td>8</td>\n      <td>12</td>\n      <td>10</td>\n      <td>13</td>\n      <td>0</td>\n    </tr>\n    <tr>\n      <th>7</th>\n      <td>Cardiac Care</td>\n      <td>Monday</td>\n      <td>12</td>\n      <td>18</td>\n      <td>8</td>\n      <td>12</td>\n      <td>0</td>\n    </tr>\n    <tr>\n      <th>8</th>\n      <td>Emergency</td>\n      <td>Tuesday</td>\n      <td>2</td>\n      <td>8</td>\n      <td>3</td>\n      <td>5</td>\n      <td>1</td>\n    </tr>\n    <tr>\n      <th>9</th>\n      <td>Emergency</td>\n      <td>Tuesday</td>\n      <td>8</td>\n      <td>12</td>\n      <td>4</td>\n      <td>7</td>\n      <td>1</td>\n    </tr>\n    <tr>\n      <th>10</th>\n      <td>Emergency</td>\n      <td>Tuesday</td>\n      <td>12</td>\n      <td>18</td>\n      <td>2</td>\n      <td>5</td>\n      <td>1</td>\n    </tr>\n    <tr>\n      <th>11</th>\n      <td>Emergency</td>\n      <td>Tuesday</td>\n      <td>18</td>\n      <td>2</td>\n      <td>3</td>\n      <td>7</td>\n      <td>1</td>\n    </tr>\n    <tr>\n      <th>12</th>\n      <td>Consultation</td>\n      <td>Tuesday</td>\n      <td>8</td>\n      <td>12</td>\n      <td>10</td>\n      <td>13</td>\n      <td>1</td>\n    </tr>\n    <tr>\n      <th>13</th>\n      <td>Consultation</td>\n      <td>Tuesday</td>\n      <td>12</td>\n      <td>18</td>\n      <td>8</td>\n      <td>12</td>\n      <td>1</td>\n    </tr>\n    <tr>\n      <th>14</th>\n      <td>Cardiac Care</td>\n      <td>Tuesday</td>\n      <td>8</td>\n      <td>12</td>\n      <td>4</td>\n      <td>7</td>\n      <td>1</td>\n    </tr>\n    <tr>\n      <th>15</th>\n      <td>Cardiac Care</td>\n      <td>Tuesday</td>\n      <td>12</td>\n      <td>18</td>\n      <td>2</td>\n      <td>5</td>\n      <td>1</td>\n    </tr>\n    <tr>\n      <th>16</th>\n      <td>Cardiac Care</td>\n      <td>Tuesday</td>\n      <td>18</td>\n      <td>2</td>\n      <td>3</td>\n      <td>7</td>\n      <td>1</td>\n    </tr>\n    <tr>\n      <th>17</th>\n      <td>Emergency</td>\n      <td>Wednesday</td>\n      <td>2</td>\n      <td>8</td>\n      <td>3</td>\n      <td>5</td>\n      <td>2</td>\n    </tr>\n    <tr>\n      <th>18</th>\n      <td>Emergency</td>\n      <td>Wednesday</td>\n      <td>8</td>\n      <td>12</td>\n      <td>4</td>\n      <td>7</td>\n      <td>2</td>\n    </tr>\n    <tr>\n      <th>19</th>\n      <td>Emergency</td>\n      <td>Wednesday</td>\n      <td>12</td>\n      <td>18</td>\n      <td>2</td>\n      <td>5</td>\n      <td>2</td>\n    </tr>\n    <tr>\n      <th>20</th>\n      <td>Emergency</td>\n      <td>Wednesday</td>\n      <td>18</td>\n      <td>2</td>\n      <td>3</td>\n      <td>7</td>\n      <td>2</td>\n    </tr>\n    <tr>\n      <th>21</th>\n      <td>Consultation</td>\n      <td>Wednesday</td>\n      <td>8</td>\n      <td>12</td>\n      <td>10</td>\n      <td>13</td>\n      <td>2</td>\n    </tr>\n    <tr>\n      <th>22</th>\n      <td>Consultation</td>\n      <td>Wednesday</td>\n      <td>12</td>\n      <td>18</td>\n      <td>8</td>\n      <td>12</td>\n      <td>2</td>\n    </tr>\n    <tr>\n      <th>23</th>\n      <td>Emergency</td>\n      <td>Thursday</td>\n      <td>2</td>\n      <td>8</td>\n      <td>3</td>\n      <td>5</td>\n      <td>3</td>\n    </tr>\n    <tr>\n      <th>24</th>\n      <td>Emergency</td>\n      <td>Thursday</td>\n      <td>8</td>\n      <td>12</td>\n      <td>4</td>\n      <td>7</td>\n      <td>3</td>\n    </tr>\n    <tr>\n      <th>25</th>\n      <td>Emergency</td>\n      <td>Thursday</td>\n      <td>12</td>\n      <td>18</td>\n      <td>2</td>\n      <td>5</td>\n      <td>3</td>\n    </tr>\n    <tr>\n      <th>26</th>\n      <td>Emergency</td>\n      <td>Thursday</td>\n      <td>18</td>\n      <td>2</td>\n      <td>3</td>\n      <td>7</td>\n      <td>3</td>\n    </tr>\n    <tr>\n      <th>27</th>\n      <td>Consultation</td>\n      <td>Thursday</td>\n      <td>8</td>\n      <td>12</td>\n      <td>10</td>\n      <td>13</td>\n      <td>3</td>\n    </tr>\n    <tr>\n      <th>28</th>\n      <td>Consultation</td>\n      <td>Thursday</td>\n      <td>12</td>\n      <td>18</td>\n      <td>8</td>\n      <td>12</td>\n      <td>3</td>\n    </tr>\n    <tr>\n      <th>29</th>\n      <td>Emergency</td>\n      <td>Friday</td>\n      <td>2</td>\n      <td>8</td>\n      <td>3</td>\n      <td>5</td>\n      <td>4</td>\n    </tr>\n    <tr>\n      <th>30</th>\n      <td>Emergency</td>\n      <td>Friday</td>\n      <td>8</td>\n      <td>12</td>\n      <td>4</td>\n      <td>7</td>\n      <td>4</td>\n    </tr>\n    <tr>\n      <th>31</th>\n      <td>Emergency</td>\n      <td>Friday</td>\n      <td>12</td>\n      <td>18</td>\n      <td>2</td>\n      <td>5</td>\n      <td>4</td>\n    </tr>\n    <tr>\n      <th>32</th>\n      <td>Emergency</td>\n      <td>Friday</td>\n      <td>18</td>\n      <td>2</td>\n      <td>3</td>\n      <td>7</td>\n      <td>4</td>\n    </tr>\n    <tr>\n      <th>33</th>\n      <td>Consultation</td>\n      <td>Friday</td>\n      <td>8</td>\n      <td>12</td>\n      <td>10</td>\n      <td>13</td>\n      <td>4</td>\n    </tr>\n    <tr>\n      <th>34</th>\n      <td>Consultation</td>\n      <td>Friday</td>\n      <td>12</td>\n      <td>18</td>\n      <td>8</td>\n      <td>12</td>\n      <td>4</td>\n    </tr>\n    <tr>\n      <th>35</th>\n      <td>Emergency</td>\n      <td>Saturday</td>\n      <td>2</td>\n      <td>12</td>\n      <td>5</td>\n      <td>7</td>\n      <td>5</td>\n    </tr>\n    <tr>\n      <th>36</th>\n      <td>Emergency</td>\n      <td>Saturday</td>\n      <td>12</td>\n      <td>20</td>\n      <td>7</td>\n      <td>9</td>\n      <td>5</td>\n    </tr>\n    <tr>\n      <th>37</th>\n      <td>Emergency</td>\n      <td>Saturday</td>\n      <td>20</td>\n      <td>2</td>\n      <td>12</td>\n      <td>12</td>\n      <td>5</td>\n    </tr>\n    <tr>\n      <th>38</th>\n      <td>Emergency</td>\n      <td>Sunday</td>\n      <td>2</td>\n      <td>12</td>\n      <td>5</td>\n      <td>7</td>\n      <td>6</td>\n    </tr>\n    <tr>\n      <th>39</th>\n      <td>Emergency</td>\n      <td>Sunday</td>\n      <td>12</td>\n      <td>20</td>\n      <td>7</td>\n      <td>9</td>\n      <td>6</td>\n    </tr>\n    <tr>\n      <th>40</th>\n      <td>Emergency</td>\n      <td>Sunday</td>\n      <td>20</td>\n      <td>2</td>\n      <td>8</td>\n      <td>12</td>\n      <td>6</td>\n    </tr>\n    <tr>\n      <th>41</th>\n      <td>Geriatrics</td>\n      <td>Sunday</td>\n      <td>8</td>\n      <td>10</td>\n      <td>2</td>\n      <td>5</td>\n      <td>6</td>\n    </tr>\n  </tbody>\n</table>\n</div>"
     },
     "execution_count": 10,
     "metadata": {},
     "output_type": "execute_result"
    }
   ],
   "source": [
    "days = [\"monday\", \"tuesday\", \"wednesday\", \"thursday\", \"friday\", \"saturday\", \"sunday\"]\n",
    "day_of_weeks = dict(zip(days, range(7)))\n",
    "\n",
    "# utility to convert a day string e.g. \"Monday\" to an integer in 0..6\n",
    "def day_to_day_of_week(day):\n",
    "    return day_of_weeks[day.strip().lower()]\n",
    "\n",
    "# for each day name, we normalize it by stripping whitespace and converting it to lowercase\n",
    "# \" Monday\" -> \"monday\"\n",
    "df_shifts[\"dow\"] = df_shifts.day.apply(day_to_day_of_week)\n",
    "df_shifts"
   ]
  },
  {
   "cell_type": "markdown",
   "metadata": {},
   "source": [
    "#### Sub-step #2 : Compute the absolute start time of each shift.\n",
    "\n",
    "Computing the start time in the week is easy: just add `24*dow` to column `start_time`. The result is stored in a new column `wstart`."
   ]
  },
  {
   "cell_type": "code",
   "execution_count": 11,
   "metadata": {},
   "outputs": [],
   "source": [
    "df_shifts[\"wstart\"] = df_shifts.start_time + 24 * df_shifts.dow"
   ]
  },
  {
   "cell_type": "markdown",
   "metadata": {},
   "source": [
    "#### Sub-Step #3 : Compute the absolute end time of each shift.\n",
    "\n",
    "Computing the absolute end time is a little more complicated as certain shifts span across midnight. For example, Shift #3 starts on Monday at 18:00 and ends Tuesday at 2:00 AM. The absolute end time of Shift #3 is 26, not 2.\n",
    "The general rule for computing absolute end time is:\n",
    "\n",
    "`abs_end_time = end_time + 24 * dow + (start_time>= end_time ? 24 : 0)`\n",
    "\n",
    "Again, we use *pandas* to add a new calculated column `wend`. This is done by using the *pandas* `apply` method with an anonymous `lambda` function over rows. The `raw=True` parameter prevents the creation of a *pandas* Series for each row, which improves the performance significantly on large data sets."
   ]
  },
  {
   "cell_type": "code",
   "execution_count": 12,
   "metadata": {},
   "outputs": [],
   "source": [
    "# an auxiliary function to calculate absolute end time of a shift\n",
    "def calculate_absolute_endtime(start, end, dow):\n",
    "    return 24*dow + end + (24 if start>=end else 0)\n",
    "\n",
    "# store the results in a new column\n",
    "df_shifts[\"wend\"] = df_shifts.apply(lambda row: calculate_absolute_endtime(\n",
    "        row.start_time, row.end_time, row.dow), axis=1)"
   ]
  },
  {
   "cell_type": "markdown",
   "metadata": {},
   "source": [
    "#### Sub-step #4 : Compute the duration of each shift.\n",
    "\n",
    "Computing the duration of each shift is now a straightforward difference of columns. The result is stored in column `duration`."
   ]
  },
  {
   "cell_type": "code",
   "execution_count": 13,
   "metadata": {},
   "outputs": [],
   "source": [
    "df_shifts[\"duration\"] = df_shifts.wend - df_shifts.wstart"
   ]
  },
  {
   "cell_type": "markdown",
   "metadata": {},
   "source": [
    "#### Sub-step #5 : Compute the minimum demand for each shift.\n",
    "\n",
    "Minimum demand is the product of duration (in hours) by the minimum required number of nurses. Thus, in number of \n",
    "nurse-hours, this demand is stored in another new column `min_demand`.\n",
    "\n",
    "Finally, we display the updated shifts DataFrame with all calculated columns."
   ]
  },
  {
   "cell_type": "code",
   "execution_count": 14,
   "metadata": {},
   "outputs": [
    {
     "data": {
      "text/plain": "           department        day  start_time  end_time  min_req  max_req  dow  \\\nshiftId                                                                         \n0           Emergency     Monday           2         8        3        5    0   \n1           Emergency     Monday           8        12        4        7    0   \n2           Emergency     Monday          12        18        2        5    0   \n3           Emergency     Monday          18         2        3        7    0   \n4        Consultation     Monday           8        12       10       13    0   \n5        Consultation     Monday          12        18        8       12    0   \n6        Cardiac Care     Monday           8        12       10       13    0   \n7        Cardiac Care     Monday          12        18        8       12    0   \n8           Emergency    Tuesday           2         8        3        5    1   \n9           Emergency    Tuesday           8        12        4        7    1   \n10          Emergency    Tuesday          12        18        2        5    1   \n11          Emergency    Tuesday          18         2        3        7    1   \n12       Consultation    Tuesday           8        12       10       13    1   \n13       Consultation    Tuesday          12        18        8       12    1   \n14       Cardiac Care    Tuesday           8        12        4        7    1   \n15       Cardiac Care    Tuesday          12        18        2        5    1   \n16       Cardiac Care    Tuesday          18         2        3        7    1   \n17          Emergency  Wednesday           2         8        3        5    2   \n18          Emergency  Wednesday           8        12        4        7    2   \n19          Emergency  Wednesday          12        18        2        5    2   \n20          Emergency  Wednesday          18         2        3        7    2   \n21       Consultation  Wednesday           8        12       10       13    2   \n22       Consultation  Wednesday          12        18        8       12    2   \n23          Emergency   Thursday           2         8        3        5    3   \n24          Emergency   Thursday           8        12        4        7    3   \n25          Emergency   Thursday          12        18        2        5    3   \n26          Emergency   Thursday          18         2        3        7    3   \n27       Consultation   Thursday           8        12       10       13    3   \n28       Consultation   Thursday          12        18        8       12    3   \n29          Emergency     Friday           2         8        3        5    4   \n30          Emergency     Friday           8        12        4        7    4   \n31          Emergency     Friday          12        18        2        5    4   \n32          Emergency     Friday          18         2        3        7    4   \n33       Consultation     Friday           8        12       10       13    4   \n34       Consultation     Friday          12        18        8       12    4   \n35          Emergency   Saturday           2        12        5        7    5   \n36          Emergency   Saturday          12        20        7        9    5   \n37          Emergency   Saturday          20         2       12       12    5   \n38          Emergency     Sunday           2        12        5        7    6   \n39          Emergency     Sunday          12        20        7        9    6   \n40          Emergency     Sunday          20         2        8       12    6   \n41         Geriatrics     Sunday           8        10        2        5    6   \n\n         wstart  wend  duration  min_demand  \nshiftId                                      \n0             2     8         6          18  \n1             8    12         4          16  \n2            12    18         6          12  \n3            18    26         8          24  \n4             8    12         4          40  \n5            12    18         6          48  \n6             8    12         4          40  \n7            12    18         6          48  \n8            26    32         6          18  \n9            32    36         4          16  \n10           36    42         6          12  \n11           42    50         8          24  \n12           32    36         4          40  \n13           36    42         6          48  \n14           32    36         4          16  \n15           36    42         6          12  \n16           42    50         8          24  \n17           50    56         6          18  \n18           56    60         4          16  \n19           60    66         6          12  \n20           66    74         8          24  \n21           56    60         4          40  \n22           60    66         6          48  \n23           74    80         6          18  \n24           80    84         4          16  \n25           84    90         6          12  \n26           90    98         8          24  \n27           80    84         4          40  \n28           84    90         6          48  \n29           98   104         6          18  \n30          104   108         4          16  \n31          108   114         6          12  \n32          114   122         8          24  \n33          104   108         4          40  \n34          108   114         6          48  \n35          122   132        10          50  \n36          132   140         8          56  \n37          140   146         6          72  \n38          146   156        10          50  \n39          156   164         8          56  \n40          164   170         6          48  \n41          152   154         2           4  ",
      "text/html": "<div>\n<style scoped>\n    .dataframe tbody tr th:only-of-type {\n        vertical-align: middle;\n    }\n\n    .dataframe tbody tr th {\n        vertical-align: top;\n    }\n\n    .dataframe thead th {\n        text-align: right;\n    }\n</style>\n<table border=\"1\" class=\"dataframe\">\n  <thead>\n    <tr style=\"text-align: right;\">\n      <th></th>\n      <th>department</th>\n      <th>day</th>\n      <th>start_time</th>\n      <th>end_time</th>\n      <th>min_req</th>\n      <th>max_req</th>\n      <th>dow</th>\n      <th>wstart</th>\n      <th>wend</th>\n      <th>duration</th>\n      <th>min_demand</th>\n    </tr>\n    <tr>\n      <th>shiftId</th>\n      <th></th>\n      <th></th>\n      <th></th>\n      <th></th>\n      <th></th>\n      <th></th>\n      <th></th>\n      <th></th>\n      <th></th>\n      <th></th>\n      <th></th>\n    </tr>\n  </thead>\n  <tbody>\n    <tr>\n      <th>0</th>\n      <td>Emergency</td>\n      <td>Monday</td>\n      <td>2</td>\n      <td>8</td>\n      <td>3</td>\n      <td>5</td>\n      <td>0</td>\n      <td>2</td>\n      <td>8</td>\n      <td>6</td>\n      <td>18</td>\n    </tr>\n    <tr>\n      <th>1</th>\n      <td>Emergency</td>\n      <td>Monday</td>\n      <td>8</td>\n      <td>12</td>\n      <td>4</td>\n      <td>7</td>\n      <td>0</td>\n      <td>8</td>\n      <td>12</td>\n      <td>4</td>\n      <td>16</td>\n    </tr>\n    <tr>\n      <th>2</th>\n      <td>Emergency</td>\n      <td>Monday</td>\n      <td>12</td>\n      <td>18</td>\n      <td>2</td>\n      <td>5</td>\n      <td>0</td>\n      <td>12</td>\n      <td>18</td>\n      <td>6</td>\n      <td>12</td>\n    </tr>\n    <tr>\n      <th>3</th>\n      <td>Emergency</td>\n      <td>Monday</td>\n      <td>18</td>\n      <td>2</td>\n      <td>3</td>\n      <td>7</td>\n      <td>0</td>\n      <td>18</td>\n      <td>26</td>\n      <td>8</td>\n      <td>24</td>\n    </tr>\n    <tr>\n      <th>4</th>\n      <td>Consultation</td>\n      <td>Monday</td>\n      <td>8</td>\n      <td>12</td>\n      <td>10</td>\n      <td>13</td>\n      <td>0</td>\n      <td>8</td>\n      <td>12</td>\n      <td>4</td>\n      <td>40</td>\n    </tr>\n    <tr>\n      <th>5</th>\n      <td>Consultation</td>\n      <td>Monday</td>\n      <td>12</td>\n      <td>18</td>\n      <td>8</td>\n      <td>12</td>\n      <td>0</td>\n      <td>12</td>\n      <td>18</td>\n      <td>6</td>\n      <td>48</td>\n    </tr>\n    <tr>\n      <th>6</th>\n      <td>Cardiac Care</td>\n      <td>Monday</td>\n      <td>8</td>\n      <td>12</td>\n      <td>10</td>\n      <td>13</td>\n      <td>0</td>\n      <td>8</td>\n      <td>12</td>\n      <td>4</td>\n      <td>40</td>\n    </tr>\n    <tr>\n      <th>7</th>\n      <td>Cardiac Care</td>\n      <td>Monday</td>\n      <td>12</td>\n      <td>18</td>\n      <td>8</td>\n      <td>12</td>\n      <td>0</td>\n      <td>12</td>\n      <td>18</td>\n      <td>6</td>\n      <td>48</td>\n    </tr>\n    <tr>\n      <th>8</th>\n      <td>Emergency</td>\n      <td>Tuesday</td>\n      <td>2</td>\n      <td>8</td>\n      <td>3</td>\n      <td>5</td>\n      <td>1</td>\n      <td>26</td>\n      <td>32</td>\n      <td>6</td>\n      <td>18</td>\n    </tr>\n    <tr>\n      <th>9</th>\n      <td>Emergency</td>\n      <td>Tuesday</td>\n      <td>8</td>\n      <td>12</td>\n      <td>4</td>\n      <td>7</td>\n      <td>1</td>\n      <td>32</td>\n      <td>36</td>\n      <td>4</td>\n      <td>16</td>\n    </tr>\n    <tr>\n      <th>10</th>\n      <td>Emergency</td>\n      <td>Tuesday</td>\n      <td>12</td>\n      <td>18</td>\n      <td>2</td>\n      <td>5</td>\n      <td>1</td>\n      <td>36</td>\n      <td>42</td>\n      <td>6</td>\n      <td>12</td>\n    </tr>\n    <tr>\n      <th>11</th>\n      <td>Emergency</td>\n      <td>Tuesday</td>\n      <td>18</td>\n      <td>2</td>\n      <td>3</td>\n      <td>7</td>\n      <td>1</td>\n      <td>42</td>\n      <td>50</td>\n      <td>8</td>\n      <td>24</td>\n    </tr>\n    <tr>\n      <th>12</th>\n      <td>Consultation</td>\n      <td>Tuesday</td>\n      <td>8</td>\n      <td>12</td>\n      <td>10</td>\n      <td>13</td>\n      <td>1</td>\n      <td>32</td>\n      <td>36</td>\n      <td>4</td>\n      <td>40</td>\n    </tr>\n    <tr>\n      <th>13</th>\n      <td>Consultation</td>\n      <td>Tuesday</td>\n      <td>12</td>\n      <td>18</td>\n      <td>8</td>\n      <td>12</td>\n      <td>1</td>\n      <td>36</td>\n      <td>42</td>\n      <td>6</td>\n      <td>48</td>\n    </tr>\n    <tr>\n      <th>14</th>\n      <td>Cardiac Care</td>\n      <td>Tuesday</td>\n      <td>8</td>\n      <td>12</td>\n      <td>4</td>\n      <td>7</td>\n      <td>1</td>\n      <td>32</td>\n      <td>36</td>\n      <td>4</td>\n      <td>16</td>\n    </tr>\n    <tr>\n      <th>15</th>\n      <td>Cardiac Care</td>\n      <td>Tuesday</td>\n      <td>12</td>\n      <td>18</td>\n      <td>2</td>\n      <td>5</td>\n      <td>1</td>\n      <td>36</td>\n      <td>42</td>\n      <td>6</td>\n      <td>12</td>\n    </tr>\n    <tr>\n      <th>16</th>\n      <td>Cardiac Care</td>\n      <td>Tuesday</td>\n      <td>18</td>\n      <td>2</td>\n      <td>3</td>\n      <td>7</td>\n      <td>1</td>\n      <td>42</td>\n      <td>50</td>\n      <td>8</td>\n      <td>24</td>\n    </tr>\n    <tr>\n      <th>17</th>\n      <td>Emergency</td>\n      <td>Wednesday</td>\n      <td>2</td>\n      <td>8</td>\n      <td>3</td>\n      <td>5</td>\n      <td>2</td>\n      <td>50</td>\n      <td>56</td>\n      <td>6</td>\n      <td>18</td>\n    </tr>\n    <tr>\n      <th>18</th>\n      <td>Emergency</td>\n      <td>Wednesday</td>\n      <td>8</td>\n      <td>12</td>\n      <td>4</td>\n      <td>7</td>\n      <td>2</td>\n      <td>56</td>\n      <td>60</td>\n      <td>4</td>\n      <td>16</td>\n    </tr>\n    <tr>\n      <th>19</th>\n      <td>Emergency</td>\n      <td>Wednesday</td>\n      <td>12</td>\n      <td>18</td>\n      <td>2</td>\n      <td>5</td>\n      <td>2</td>\n      <td>60</td>\n      <td>66</td>\n      <td>6</td>\n      <td>12</td>\n    </tr>\n    <tr>\n      <th>20</th>\n      <td>Emergency</td>\n      <td>Wednesday</td>\n      <td>18</td>\n      <td>2</td>\n      <td>3</td>\n      <td>7</td>\n      <td>2</td>\n      <td>66</td>\n      <td>74</td>\n      <td>8</td>\n      <td>24</td>\n    </tr>\n    <tr>\n      <th>21</th>\n      <td>Consultation</td>\n      <td>Wednesday</td>\n      <td>8</td>\n      <td>12</td>\n      <td>10</td>\n      <td>13</td>\n      <td>2</td>\n      <td>56</td>\n      <td>60</td>\n      <td>4</td>\n      <td>40</td>\n    </tr>\n    <tr>\n      <th>22</th>\n      <td>Consultation</td>\n      <td>Wednesday</td>\n      <td>12</td>\n      <td>18</td>\n      <td>8</td>\n      <td>12</td>\n      <td>2</td>\n      <td>60</td>\n      <td>66</td>\n      <td>6</td>\n      <td>48</td>\n    </tr>\n    <tr>\n      <th>23</th>\n      <td>Emergency</td>\n      <td>Thursday</td>\n      <td>2</td>\n      <td>8</td>\n      <td>3</td>\n      <td>5</td>\n      <td>3</td>\n      <td>74</td>\n      <td>80</td>\n      <td>6</td>\n      <td>18</td>\n    </tr>\n    <tr>\n      <th>24</th>\n      <td>Emergency</td>\n      <td>Thursday</td>\n      <td>8</td>\n      <td>12</td>\n      <td>4</td>\n      <td>7</td>\n      <td>3</td>\n      <td>80</td>\n      <td>84</td>\n      <td>4</td>\n      <td>16</td>\n    </tr>\n    <tr>\n      <th>25</th>\n      <td>Emergency</td>\n      <td>Thursday</td>\n      <td>12</td>\n      <td>18</td>\n      <td>2</td>\n      <td>5</td>\n      <td>3</td>\n      <td>84</td>\n      <td>90</td>\n      <td>6</td>\n      <td>12</td>\n    </tr>\n    <tr>\n      <th>26</th>\n      <td>Emergency</td>\n      <td>Thursday</td>\n      <td>18</td>\n      <td>2</td>\n      <td>3</td>\n      <td>7</td>\n      <td>3</td>\n      <td>90</td>\n      <td>98</td>\n      <td>8</td>\n      <td>24</td>\n    </tr>\n    <tr>\n      <th>27</th>\n      <td>Consultation</td>\n      <td>Thursday</td>\n      <td>8</td>\n      <td>12</td>\n      <td>10</td>\n      <td>13</td>\n      <td>3</td>\n      <td>80</td>\n      <td>84</td>\n      <td>4</td>\n      <td>40</td>\n    </tr>\n    <tr>\n      <th>28</th>\n      <td>Consultation</td>\n      <td>Thursday</td>\n      <td>12</td>\n      <td>18</td>\n      <td>8</td>\n      <td>12</td>\n      <td>3</td>\n      <td>84</td>\n      <td>90</td>\n      <td>6</td>\n      <td>48</td>\n    </tr>\n    <tr>\n      <th>29</th>\n      <td>Emergency</td>\n      <td>Friday</td>\n      <td>2</td>\n      <td>8</td>\n      <td>3</td>\n      <td>5</td>\n      <td>4</td>\n      <td>98</td>\n      <td>104</td>\n      <td>6</td>\n      <td>18</td>\n    </tr>\n    <tr>\n      <th>30</th>\n      <td>Emergency</td>\n      <td>Friday</td>\n      <td>8</td>\n      <td>12</td>\n      <td>4</td>\n      <td>7</td>\n      <td>4</td>\n      <td>104</td>\n      <td>108</td>\n      <td>4</td>\n      <td>16</td>\n    </tr>\n    <tr>\n      <th>31</th>\n      <td>Emergency</td>\n      <td>Friday</td>\n      <td>12</td>\n      <td>18</td>\n      <td>2</td>\n      <td>5</td>\n      <td>4</td>\n      <td>108</td>\n      <td>114</td>\n      <td>6</td>\n      <td>12</td>\n    </tr>\n    <tr>\n      <th>32</th>\n      <td>Emergency</td>\n      <td>Friday</td>\n      <td>18</td>\n      <td>2</td>\n      <td>3</td>\n      <td>7</td>\n      <td>4</td>\n      <td>114</td>\n      <td>122</td>\n      <td>8</td>\n      <td>24</td>\n    </tr>\n    <tr>\n      <th>33</th>\n      <td>Consultation</td>\n      <td>Friday</td>\n      <td>8</td>\n      <td>12</td>\n      <td>10</td>\n      <td>13</td>\n      <td>4</td>\n      <td>104</td>\n      <td>108</td>\n      <td>4</td>\n      <td>40</td>\n    </tr>\n    <tr>\n      <th>34</th>\n      <td>Consultation</td>\n      <td>Friday</td>\n      <td>12</td>\n      <td>18</td>\n      <td>8</td>\n      <td>12</td>\n      <td>4</td>\n      <td>108</td>\n      <td>114</td>\n      <td>6</td>\n      <td>48</td>\n    </tr>\n    <tr>\n      <th>35</th>\n      <td>Emergency</td>\n      <td>Saturday</td>\n      <td>2</td>\n      <td>12</td>\n      <td>5</td>\n      <td>7</td>\n      <td>5</td>\n      <td>122</td>\n      <td>132</td>\n      <td>10</td>\n      <td>50</td>\n    </tr>\n    <tr>\n      <th>36</th>\n      <td>Emergency</td>\n      <td>Saturday</td>\n      <td>12</td>\n      <td>20</td>\n      <td>7</td>\n      <td>9</td>\n      <td>5</td>\n      <td>132</td>\n      <td>140</td>\n      <td>8</td>\n      <td>56</td>\n    </tr>\n    <tr>\n      <th>37</th>\n      <td>Emergency</td>\n      <td>Saturday</td>\n      <td>20</td>\n      <td>2</td>\n      <td>12</td>\n      <td>12</td>\n      <td>5</td>\n      <td>140</td>\n      <td>146</td>\n      <td>6</td>\n      <td>72</td>\n    </tr>\n    <tr>\n      <th>38</th>\n      <td>Emergency</td>\n      <td>Sunday</td>\n      <td>2</td>\n      <td>12</td>\n      <td>5</td>\n      <td>7</td>\n      <td>6</td>\n      <td>146</td>\n      <td>156</td>\n      <td>10</td>\n      <td>50</td>\n    </tr>\n    <tr>\n      <th>39</th>\n      <td>Emergency</td>\n      <td>Sunday</td>\n      <td>12</td>\n      <td>20</td>\n      <td>7</td>\n      <td>9</td>\n      <td>6</td>\n      <td>156</td>\n      <td>164</td>\n      <td>8</td>\n      <td>56</td>\n    </tr>\n    <tr>\n      <th>40</th>\n      <td>Emergency</td>\n      <td>Sunday</td>\n      <td>20</td>\n      <td>2</td>\n      <td>8</td>\n      <td>12</td>\n      <td>6</td>\n      <td>164</td>\n      <td>170</td>\n      <td>6</td>\n      <td>48</td>\n    </tr>\n    <tr>\n      <th>41</th>\n      <td>Geriatrics</td>\n      <td>Sunday</td>\n      <td>8</td>\n      <td>10</td>\n      <td>2</td>\n      <td>5</td>\n      <td>6</td>\n      <td>152</td>\n      <td>154</td>\n      <td>2</td>\n      <td>4</td>\n    </tr>\n  </tbody>\n</table>\n</div>"
     },
     "execution_count": 14,
     "metadata": {},
     "output_type": "execute_result"
    }
   ],
   "source": [
    "# also compute minimum demand in nurse-hours\n",
    "df_shifts[\"min_demand\"] = df_shifts.min_req * df_shifts.duration\n",
    "\n",
    "# finally check the modified shifts dataframe\n",
    "df_shifts"
   ]
  },
  {
   "cell_type": "markdown",
   "metadata": {},
   "source": [
    "### Step 4: Set up the prescriptive model"
   ]
  },
  {
   "cell_type": "markdown",
   "metadata": {},
   "source": [
    "#### Create the DOcplex model\n",
    "The model contains all the business constraints and defines the objective.\n",
    "\n",
    "We now use CPLEX Modeling for Python to build a Mixed Integer Programming (MIP) model for this problem."
   ]
  },
  {
   "cell_type": "code",
   "execution_count": 15,
   "metadata": {},
   "outputs": [],
   "source": [
    "from docplex.mp.model import Model\n",
    "mdl = Model(name=\"nurses\")"
   ]
  },
  {
   "cell_type": "markdown",
   "metadata": {},
   "source": [
    "#### Define the decision variables\n",
    "\n",
    "For each (nurse, shift) pair, we create one binary variable that is equal to 1 when the nurse is assigned to the shift.\n",
    "\n",
    "We use the `binary_var_matrix` method of class `Model`, as each binary variable is indexed by _two_ objects: one nurse and one shift."
   ]
  },
  {
   "cell_type": "code",
   "execution_count": 16,
   "metadata": {},
   "outputs": [],
   "source": [
    "# first global collections to iterate upon\n",
    "all_nurses = df_nurses.index.values\n",
    "all_shifts = df_shifts.index.values\n",
    "\n",
    "# the assignment variables.\n",
    "assigned = mdl.binary_var_matrix(keys1=all_nurses, keys2=all_shifts, name=\"assign_%s_%s\")"
   ]
  },
  {
   "cell_type": "markdown",
   "metadata": {},
   "source": [
    "#### Express the business constraints\n",
    "\n",
    "#####  Overlapping shifts\n",
    "\n",
    "Some shifts overlap in time, and thus cannot be assigned to the same nurse.\n",
    "To check whether two shifts overlap in time, we start by ordering all shifts with respect to their *wstart* and *duration* properties. Then, for each shift, we iterate over the subsequent shifts in this ordered list to easily compute the subset of overlapping shifts.\n",
    "\n",
    "We use *pandas* operations to implement this algorithm. But first, we organize all decision variables in a DataFrame.\n",
    "\n",
    "For convenience, we also organize the decision variables in a pivot table with *nurses* as row index and *shifts* as columns. The *pandas* *unstack* operation does this."
   ]
  },
  {
   "cell_type": "code",
   "execution_count": 17,
   "metadata": {},
   "outputs": [
    {
     "data": {
      "text/plain": "                     assigned                                        \\\nall_shifts                 0                  1                  2    \nall_nurses                                                            \nAnne            assign_Anne_0      assign_Anne_1      assign_Anne_2   \nBethanie    assign_Bethanie_0  assign_Bethanie_1  assign_Bethanie_2   \nBetsy          assign_Betsy_0     assign_Betsy_1     assign_Betsy_2   \nCathy          assign_Cathy_0     assign_Cathy_1     assign_Cathy_2   \nCecilia      assign_Cecilia_0   assign_Cecilia_1   assign_Cecilia_2   \n\n                                                                     \\\nall_shifts                 3                  4                  5    \nall_nurses                                                            \nAnne            assign_Anne_3      assign_Anne_4      assign_Anne_5   \nBethanie    assign_Bethanie_3  assign_Bethanie_4  assign_Bethanie_5   \nBetsy          assign_Betsy_3     assign_Betsy_4     assign_Betsy_5   \nCathy          assign_Cathy_3     assign_Cathy_4     assign_Cathy_5   \nCecilia      assign_Cecilia_3   assign_Cecilia_4   assign_Cecilia_5   \n\n                                                                     \\\nall_shifts                 6                  7                  8    \nall_nurses                                                            \nAnne            assign_Anne_6      assign_Anne_7      assign_Anne_8   \nBethanie    assign_Bethanie_6  assign_Bethanie_7  assign_Bethanie_8   \nBetsy          assign_Betsy_6     assign_Betsy_7     assign_Betsy_8   \nCathy          assign_Cathy_6     assign_Cathy_7     assign_Cathy_8   \nCecilia      assign_Cecilia_6   assign_Cecilia_7   assign_Cecilia_8   \n\n                               ...                                          \\\nall_shifts                 9   ...                  32                  33   \nall_nurses                     ...                                           \nAnne            assign_Anne_9  ...      assign_Anne_32      assign_Anne_33   \nBethanie    assign_Bethanie_9  ...  assign_Bethanie_32  assign_Bethanie_33   \nBetsy          assign_Betsy_9  ...     assign_Betsy_32     assign_Betsy_33   \nCathy          assign_Cathy_9  ...     assign_Cathy_32     assign_Cathy_33   \nCecilia      assign_Cecilia_9  ...   assign_Cecilia_32   assign_Cecilia_33   \n\n                                                                        \\\nall_shifts                  34                  35                  36   \nall_nurses                                                               \nAnne            assign_Anne_34      assign_Anne_35      assign_Anne_36   \nBethanie    assign_Bethanie_34  assign_Bethanie_35  assign_Bethanie_36   \nBetsy          assign_Betsy_34     assign_Betsy_35     assign_Betsy_36   \nCathy          assign_Cathy_34     assign_Cathy_35     assign_Cathy_36   \nCecilia      assign_Cecilia_34   assign_Cecilia_35   assign_Cecilia_36   \n\n                                                                        \\\nall_shifts                  37                  38                  39   \nall_nurses                                                               \nAnne            assign_Anne_37      assign_Anne_38      assign_Anne_39   \nBethanie    assign_Bethanie_37  assign_Bethanie_38  assign_Bethanie_39   \nBetsy          assign_Betsy_37     assign_Betsy_38     assign_Betsy_39   \nCathy          assign_Cathy_37     assign_Cathy_38     assign_Cathy_39   \nCecilia      assign_Cecilia_37   assign_Cecilia_38   assign_Cecilia_39   \n\n                                                    \nall_shifts                  40                  41  \nall_nurses                                          \nAnne            assign_Anne_40      assign_Anne_41  \nBethanie    assign_Bethanie_40  assign_Bethanie_41  \nBetsy          assign_Betsy_40     assign_Betsy_41  \nCathy          assign_Cathy_40     assign_Cathy_41  \nCecilia      assign_Cecilia_40   assign_Cecilia_41  \n\n[5 rows x 42 columns]",
      "text/html": "<div>\n<style scoped>\n    .dataframe tbody tr th:only-of-type {\n        vertical-align: middle;\n    }\n\n    .dataframe tbody tr th {\n        vertical-align: top;\n    }\n\n    .dataframe thead tr th {\n        text-align: left;\n    }\n\n    .dataframe thead tr:last-of-type th {\n        text-align: right;\n    }\n</style>\n<table border=\"1\" class=\"dataframe\">\n  <thead>\n    <tr>\n      <th></th>\n      <th colspan=\"21\" halign=\"left\">assigned</th>\n    </tr>\n    <tr>\n      <th>all_shifts</th>\n      <th>0</th>\n      <th>1</th>\n      <th>2</th>\n      <th>3</th>\n      <th>4</th>\n      <th>5</th>\n      <th>6</th>\n      <th>7</th>\n      <th>8</th>\n      <th>9</th>\n      <th>...</th>\n      <th>32</th>\n      <th>33</th>\n      <th>34</th>\n      <th>35</th>\n      <th>36</th>\n      <th>37</th>\n      <th>38</th>\n      <th>39</th>\n      <th>40</th>\n      <th>41</th>\n    </tr>\n    <tr>\n      <th>all_nurses</th>\n      <th></th>\n      <th></th>\n      <th></th>\n      <th></th>\n      <th></th>\n      <th></th>\n      <th></th>\n      <th></th>\n      <th></th>\n      <th></th>\n      <th></th>\n      <th></th>\n      <th></th>\n      <th></th>\n      <th></th>\n      <th></th>\n      <th></th>\n      <th></th>\n      <th></th>\n      <th></th>\n      <th></th>\n    </tr>\n  </thead>\n  <tbody>\n    <tr>\n      <th>Anne</th>\n      <td>assign_Anne_0</td>\n      <td>assign_Anne_1</td>\n      <td>assign_Anne_2</td>\n      <td>assign_Anne_3</td>\n      <td>assign_Anne_4</td>\n      <td>assign_Anne_5</td>\n      <td>assign_Anne_6</td>\n      <td>assign_Anne_7</td>\n      <td>assign_Anne_8</td>\n      <td>assign_Anne_9</td>\n      <td>...</td>\n      <td>assign_Anne_32</td>\n      <td>assign_Anne_33</td>\n      <td>assign_Anne_34</td>\n      <td>assign_Anne_35</td>\n      <td>assign_Anne_36</td>\n      <td>assign_Anne_37</td>\n      <td>assign_Anne_38</td>\n      <td>assign_Anne_39</td>\n      <td>assign_Anne_40</td>\n      <td>assign_Anne_41</td>\n    </tr>\n    <tr>\n      <th>Bethanie</th>\n      <td>assign_Bethanie_0</td>\n      <td>assign_Bethanie_1</td>\n      <td>assign_Bethanie_2</td>\n      <td>assign_Bethanie_3</td>\n      <td>assign_Bethanie_4</td>\n      <td>assign_Bethanie_5</td>\n      <td>assign_Bethanie_6</td>\n      <td>assign_Bethanie_7</td>\n      <td>assign_Bethanie_8</td>\n      <td>assign_Bethanie_9</td>\n      <td>...</td>\n      <td>assign_Bethanie_32</td>\n      <td>assign_Bethanie_33</td>\n      <td>assign_Bethanie_34</td>\n      <td>assign_Bethanie_35</td>\n      <td>assign_Bethanie_36</td>\n      <td>assign_Bethanie_37</td>\n      <td>assign_Bethanie_38</td>\n      <td>assign_Bethanie_39</td>\n      <td>assign_Bethanie_40</td>\n      <td>assign_Bethanie_41</td>\n    </tr>\n    <tr>\n      <th>Betsy</th>\n      <td>assign_Betsy_0</td>\n      <td>assign_Betsy_1</td>\n      <td>assign_Betsy_2</td>\n      <td>assign_Betsy_3</td>\n      <td>assign_Betsy_4</td>\n      <td>assign_Betsy_5</td>\n      <td>assign_Betsy_6</td>\n      <td>assign_Betsy_7</td>\n      <td>assign_Betsy_8</td>\n      <td>assign_Betsy_9</td>\n      <td>...</td>\n      <td>assign_Betsy_32</td>\n      <td>assign_Betsy_33</td>\n      <td>assign_Betsy_34</td>\n      <td>assign_Betsy_35</td>\n      <td>assign_Betsy_36</td>\n      <td>assign_Betsy_37</td>\n      <td>assign_Betsy_38</td>\n      <td>assign_Betsy_39</td>\n      <td>assign_Betsy_40</td>\n      <td>assign_Betsy_41</td>\n    </tr>\n    <tr>\n      <th>Cathy</th>\n      <td>assign_Cathy_0</td>\n      <td>assign_Cathy_1</td>\n      <td>assign_Cathy_2</td>\n      <td>assign_Cathy_3</td>\n      <td>assign_Cathy_4</td>\n      <td>assign_Cathy_5</td>\n      <td>assign_Cathy_6</td>\n      <td>assign_Cathy_7</td>\n      <td>assign_Cathy_8</td>\n      <td>assign_Cathy_9</td>\n      <td>...</td>\n      <td>assign_Cathy_32</td>\n      <td>assign_Cathy_33</td>\n      <td>assign_Cathy_34</td>\n      <td>assign_Cathy_35</td>\n      <td>assign_Cathy_36</td>\n      <td>assign_Cathy_37</td>\n      <td>assign_Cathy_38</td>\n      <td>assign_Cathy_39</td>\n      <td>assign_Cathy_40</td>\n      <td>assign_Cathy_41</td>\n    </tr>\n    <tr>\n      <th>Cecilia</th>\n      <td>assign_Cecilia_0</td>\n      <td>assign_Cecilia_1</td>\n      <td>assign_Cecilia_2</td>\n      <td>assign_Cecilia_3</td>\n      <td>assign_Cecilia_4</td>\n      <td>assign_Cecilia_5</td>\n      <td>assign_Cecilia_6</td>\n      <td>assign_Cecilia_7</td>\n      <td>assign_Cecilia_8</td>\n      <td>assign_Cecilia_9</td>\n      <td>...</td>\n      <td>assign_Cecilia_32</td>\n      <td>assign_Cecilia_33</td>\n      <td>assign_Cecilia_34</td>\n      <td>assign_Cecilia_35</td>\n      <td>assign_Cecilia_36</td>\n      <td>assign_Cecilia_37</td>\n      <td>assign_Cecilia_38</td>\n      <td>assign_Cecilia_39</td>\n      <td>assign_Cecilia_40</td>\n      <td>assign_Cecilia_41</td>\n    </tr>\n  </tbody>\n</table>\n<p>5 rows × 42 columns</p>\n</div>"
     },
     "execution_count": 17,
     "metadata": {},
     "output_type": "execute_result"
    }
   ],
   "source": [
    "# Organize decision variables in a DataFrame\n",
    "df_assigned = DataFrame({'assigned': assigned})\n",
    "df_assigned.index.names=['all_nurses', 'all_shifts']\n",
    "\n",
    "# Re-organize the Data Frame as a pivot table with nurses as row index and shifts as columns:\n",
    "df_assigned_pivot = df_assigned.unstack(level='all_shifts')\n",
    "\n",
    "# Create a pivot using nurses and shifts index as dimensions\n",
    "#df_assigned_pivot = df_assigned.reset_index().pivot(index='all_nurses', columns='all_shifts', values='assigned')\n",
    "\n",
    "# Display first rows of the pivot table\n",
    "df_assigned_pivot.head()"
   ]
  },
  {
   "cell_type": "markdown",
   "metadata": {},
   "source": [
    "We create a DataFrame representing a list of shifts sorted by *\"wstart\"* and *\"duration\"*.\n",
    "This sorted list will be used to easily detect overlapping shifts.\n",
    "\n",
    "Note that indices are reset after sorting so that the DataFrame can be indexed with respect to\n",
    "the index in the sorted list and not the original unsorted list. This is the purpose of the *reset_index()*\n",
    "operation which also adds a new column named *\"shiftId\"* with the original index."
   ]
  },
  {
   "cell_type": "code",
   "execution_count": 18,
   "metadata": {},
   "outputs": [
    {
     "data": {
      "text/plain": "   shiftId  wstart  wend\n0        0       2     8\n1        1       8    12\n2        4       8    12\n3        6       8    12\n4        2      12    18",
      "text/html": "<div>\n<style scoped>\n    .dataframe tbody tr th:only-of-type {\n        vertical-align: middle;\n    }\n\n    .dataframe tbody tr th {\n        vertical-align: top;\n    }\n\n    .dataframe thead th {\n        text-align: right;\n    }\n</style>\n<table border=\"1\" class=\"dataframe\">\n  <thead>\n    <tr style=\"text-align: right;\">\n      <th></th>\n      <th>shiftId</th>\n      <th>wstart</th>\n      <th>wend</th>\n    </tr>\n  </thead>\n  <tbody>\n    <tr>\n      <th>0</th>\n      <td>0</td>\n      <td>2</td>\n      <td>8</td>\n    </tr>\n    <tr>\n      <th>1</th>\n      <td>1</td>\n      <td>8</td>\n      <td>12</td>\n    </tr>\n    <tr>\n      <th>2</th>\n      <td>4</td>\n      <td>8</td>\n      <td>12</td>\n    </tr>\n    <tr>\n      <th>3</th>\n      <td>6</td>\n      <td>8</td>\n      <td>12</td>\n    </tr>\n    <tr>\n      <th>4</th>\n      <td>2</td>\n      <td>12</td>\n      <td>18</td>\n    </tr>\n  </tbody>\n</table>\n</div>"
     },
     "execution_count": 18,
     "metadata": {},
     "output_type": "execute_result"
    }
   ],
   "source": [
    "# Create a Data Frame representing a list of shifts sorted by wstart and duration.\n",
    "# One keeps only the three relevant columns: 'shiftId', 'wstart' and 'wend' in the resulting Data Frame \n",
    "df_sorted_shifts = df_shifts.sort_values(['wstart','duration']).reset_index()[['shiftId', 'wstart', 'wend']]\n",
    "\n",
    "# Display the first rows of the newly created Data Frame\n",
    "df_sorted_shifts.head()"
   ]
  },
  {
   "cell_type": "markdown",
   "metadata": {},
   "source": [
    "Next, we state that for any pair of shifts that overlap in time, a nurse can be assigned to only one of the two."
   ]
  },
  {
   "cell_type": "code",
   "execution_count": 19,
   "metadata": {},
   "outputs": [
    {
     "name": "stdout",
     "output_type": "stream",
     "text": [
      "#incompatible shift constraints: 640\n"
     ]
    }
   ],
   "source": [
    "number_of_incompatible_shift_constraints = 0\n",
    "for shift in df_sorted_shifts.itertuples():\n",
    "    # Iterate over following shifts\n",
    "    # 'shift[0]' contains the index of the current shift in the df_sorted_shifts Data Frame\n",
    "    for shift_2 in df_sorted_shifts.iloc[shift[0] + 1:].itertuples():\n",
    "        if (shift_2.wstart < shift.wend):\n",
    "            # Iterate over all nurses to force incompatible assignment for the current pair of overlapping shifts\n",
    "            for nurse_assignments in df_assigned_pivot.iloc[:, [shift.shiftId, shift_2.shiftId]].itertuples():\n",
    "                # this is actually a logical OR\n",
    "                mdl.add_constraint(nurse_assignments[1] + nurse_assignments[2] <= 1)\n",
    "                number_of_incompatible_shift_constraints += 1\n",
    "        else:\n",
    "            # No need to test overlap with following shifts\n",
    "            break\n",
    "print(\"#incompatible shift constraints: {}\".format(number_of_incompatible_shift_constraints))"
   ]
  },
  {
   "cell_type": "markdown",
   "metadata": {},
   "source": [
    "##### Vacations\n",
    "\n",
    "When the nurse is on vacation, he cannot be assigned to any shift starting that day.\n",
    "\n",
    "We use the *pandas* *merge* operation to create a join between the *\"df_vacations\"*, *\"df_shifts\"*, and *\"df_assigned\"* DataFrames. Each row of the resulting DataFrame contains the assignment decision variable corresponding to the matching (nurse, shift) pair."
   ]
  },
  {
   "cell_type": "code",
   "execution_count": 20,
   "metadata": {},
   "outputs": [
    {
     "data": {
      "text/plain": "  nurse     day  dow  shiftId all_nurses  all_shifts        assigned\n0  Anne  Friday    4       29       Anne          29  assign_Anne_29\n1  Anne  Friday    4       30       Anne          30  assign_Anne_30\n2  Anne  Friday    4       31       Anne          31  assign_Anne_31\n3  Anne  Friday    4       32       Anne          32  assign_Anne_32\n4  Anne  Friday    4       33       Anne          33  assign_Anne_33",
      "text/html": "<div>\n<style scoped>\n    .dataframe tbody tr th:only-of-type {\n        vertical-align: middle;\n    }\n\n    .dataframe tbody tr th {\n        vertical-align: top;\n    }\n\n    .dataframe thead th {\n        text-align: right;\n    }\n</style>\n<table border=\"1\" class=\"dataframe\">\n  <thead>\n    <tr style=\"text-align: right;\">\n      <th></th>\n      <th>nurse</th>\n      <th>day</th>\n      <th>dow</th>\n      <th>shiftId</th>\n      <th>all_nurses</th>\n      <th>all_shifts</th>\n      <th>assigned</th>\n    </tr>\n  </thead>\n  <tbody>\n    <tr>\n      <th>0</th>\n      <td>Anne</td>\n      <td>Friday</td>\n      <td>4</td>\n      <td>29</td>\n      <td>Anne</td>\n      <td>29</td>\n      <td>assign_Anne_29</td>\n    </tr>\n    <tr>\n      <th>1</th>\n      <td>Anne</td>\n      <td>Friday</td>\n      <td>4</td>\n      <td>30</td>\n      <td>Anne</td>\n      <td>30</td>\n      <td>assign_Anne_30</td>\n    </tr>\n    <tr>\n      <th>2</th>\n      <td>Anne</td>\n      <td>Friday</td>\n      <td>4</td>\n      <td>31</td>\n      <td>Anne</td>\n      <td>31</td>\n      <td>assign_Anne_31</td>\n    </tr>\n    <tr>\n      <th>3</th>\n      <td>Anne</td>\n      <td>Friday</td>\n      <td>4</td>\n      <td>32</td>\n      <td>Anne</td>\n      <td>32</td>\n      <td>assign_Anne_32</td>\n    </tr>\n    <tr>\n      <th>4</th>\n      <td>Anne</td>\n      <td>Friday</td>\n      <td>4</td>\n      <td>33</td>\n      <td>Anne</td>\n      <td>33</td>\n      <td>assign_Anne_33</td>\n    </tr>\n  </tbody>\n</table>\n</div>"
     },
     "execution_count": 20,
     "metadata": {},
     "output_type": "execute_result"
    }
   ],
   "source": [
    "# Add 'day of week' column to vacations Data Frame\n",
    "df_vacations['dow'] = df_vacations.day.apply(day_to_day_of_week)\n",
    "\n",
    "# Join 'df_vacations', 'df_shifts' and 'df_assigned' Data Frames to create the list of 'forbidden' assigments.\n",
    "# The 'reset_index()' function is invoked to move 'shiftId' index as a column in 'df_shifts' Data Frame, and\n",
    "# to move the index pair ('all_nurses', 'all_shifts') as columns in 'df_assigned' Data Frame.\n",
    "# 'reset_index()' is invoked so that a join can be performed between Data Frame, based on column names.\n",
    "df_assigned_reindexed = df_assigned.reset_index()\n",
    "df_vacation_forbidden_assignments = df_vacations.merge(df_shifts.reset_index()[['dow', 'shiftId']]).merge(\n",
    "    df_assigned_reindexed, left_on=['nurse', 'shiftId'], right_on=['all_nurses', 'all_shifts'])\n",
    "\n",
    "# Here are the first few rows of the resulting Data Frames joins\n",
    "df_vacation_forbidden_assignments.head()"
   ]
  },
  {
   "cell_type": "code",
   "execution_count": 21,
   "metadata": {},
   "outputs": [
    {
     "name": "stdout",
     "output_type": "stream",
     "text": [
      "assign_Anne_29\n",
      "assign_Anne_30\n",
      "assign_Anne_31\n",
      "assign_Anne_32\n",
      "assign_Anne_33\n",
      "assign_Anne_34\n",
      "assign_Nicole_29\n",
      "assign_Nicole_30\n",
      "assign_Nicole_31\n",
      "assign_Nicole_32\n",
      "assign_Nicole_33\n",
      "assign_Nicole_34\n",
      "assign_Jude_29\n",
      "assign_Jude_30\n",
      "assign_Jude_31\n",
      "assign_Jude_32\n",
      "assign_Jude_33\n",
      "assign_Jude_34\n",
      "assign_Cecilia_29\n",
      "assign_Cecilia_30\n",
      "assign_Cecilia_31\n",
      "assign_Cecilia_32\n",
      "assign_Cecilia_33\n",
      "assign_Cecilia_34\n",
      "assign_Dee_29\n",
      "assign_Dee_30\n",
      "assign_Dee_31\n",
      "assign_Dee_32\n",
      "assign_Dee_33\n",
      "assign_Dee_34\n",
      "assign_Jemma_29\n",
      "assign_Jemma_30\n",
      "assign_Jemma_31\n",
      "assign_Jemma_32\n",
      "assign_Jemma_33\n",
      "assign_Jemma_34\n",
      "assign_Janelle_29\n",
      "assign_Janelle_30\n",
      "assign_Janelle_31\n",
      "assign_Janelle_32\n",
      "assign_Janelle_33\n",
      "assign_Janelle_34\n",
      "assign_Roberta_29\n",
      "assign_Roberta_30\n",
      "assign_Roberta_31\n",
      "assign_Roberta_32\n",
      "assign_Roberta_33\n",
      "assign_Roberta_34\n",
      "assign_Janice_29\n",
      "assign_Janice_30\n",
      "assign_Janice_31\n",
      "assign_Janice_32\n",
      "assign_Janice_33\n",
      "assign_Janice_34\n",
      "assign_Vickie_29\n",
      "assign_Vickie_30\n",
      "assign_Vickie_31\n",
      "assign_Vickie_32\n",
      "assign_Vickie_33\n",
      "assign_Vickie_34\n",
      "assign_Anne_38\n",
      "assign_Anne_39\n",
      "assign_Anne_40\n",
      "assign_Anne_41\n",
      "assign_Nathalie_38\n",
      "assign_Nathalie_39\n",
      "assign_Nathalie_40\n",
      "assign_Nathalie_41\n",
      "assign_Joyce_38\n",
      "assign_Joyce_39\n",
      "assign_Joyce_40\n",
      "assign_Joyce_41\n",
      "assign_Patrick_38\n",
      "assign_Patrick_39\n",
      "assign_Patrick_40\n",
      "assign_Patrick_41\n",
      "assign_Cindy_38\n",
      "assign_Cindy_39\n",
      "assign_Cindy_40\n",
      "assign_Cindy_41\n",
      "assign_Jane_38\n",
      "assign_Jane_39\n",
      "assign_Jane_40\n",
      "assign_Jane_41\n",
      "assign_Julie_38\n",
      "assign_Julie_39\n",
      "assign_Julie_40\n",
      "assign_Julie_41\n",
      "assign_Nancy_38\n",
      "assign_Nancy_39\n",
      "assign_Nancy_40\n",
      "assign_Nancy_41\n",
      "assign_Zoe_38\n",
      "assign_Zoe_39\n",
      "assign_Zoe_40\n",
      "assign_Zoe_41\n",
      "assign_Cathy_23\n",
      "assign_Cathy_24\n",
      "assign_Cathy_25\n",
      "assign_Cathy_26\n",
      "assign_Cathy_27\n",
      "assign_Cathy_28\n",
      "assign_Joan_23\n",
      "assign_Joan_24\n",
      "assign_Joan_25\n",
      "assign_Joan_26\n",
      "assign_Joan_27\n",
      "assign_Joan_28\n",
      "assign_Juliet_23\n",
      "assign_Juliet_24\n",
      "assign_Juliet_25\n",
      "assign_Juliet_26\n",
      "assign_Juliet_27\n",
      "assign_Juliet_28\n",
      "assign_Nathalie_23\n",
      "assign_Nathalie_24\n",
      "assign_Nathalie_25\n",
      "assign_Nathalie_26\n",
      "assign_Nathalie_27\n",
      "assign_Nathalie_28\n",
      "assign_Isabelle_23\n",
      "assign_Isabelle_24\n",
      "assign_Isabelle_25\n",
      "assign_Isabelle_26\n",
      "assign_Isabelle_27\n",
      "assign_Isabelle_28\n",
      "assign_Joyce_23\n",
      "assign_Joyce_24\n",
      "assign_Joyce_25\n",
      "assign_Joyce_26\n",
      "assign_Joyce_27\n",
      "assign_Joyce_28\n",
      "assign_Chris_23\n",
      "assign_Chris_24\n",
      "assign_Chris_25\n",
      "assign_Chris_26\n",
      "assign_Chris_27\n",
      "assign_Chris_28\n",
      "assign_Betsy_23\n",
      "assign_Betsy_24\n",
      "assign_Betsy_25\n",
      "assign_Betsy_26\n",
      "assign_Betsy_27\n",
      "assign_Betsy_28\n",
      "assign_Wendie_23\n",
      "assign_Wendie_24\n",
      "assign_Wendie_25\n",
      "assign_Wendie_26\n",
      "assign_Wendie_27\n",
      "assign_Wendie_28\n",
      "assign_Cathy_8\n",
      "assign_Cathy_9\n",
      "assign_Cathy_10\n",
      "assign_Cathy_11\n",
      "assign_Cathy_12\n",
      "assign_Cathy_13\n",
      "assign_Cathy_14\n",
      "assign_Cathy_15\n",
      "assign_Cathy_16\n",
      "assign_Juliet_8\n",
      "assign_Juliet_9\n",
      "assign_Juliet_10\n",
      "assign_Juliet_11\n",
      "assign_Juliet_12\n",
      "assign_Juliet_13\n",
      "assign_Juliet_14\n",
      "assign_Juliet_15\n",
      "assign_Juliet_16\n",
      "assign_Jude_8\n",
      "assign_Jude_9\n",
      "assign_Jude_10\n",
      "assign_Jude_11\n",
      "assign_Jude_12\n",
      "assign_Jude_13\n",
      "assign_Jude_14\n",
      "assign_Jude_15\n",
      "assign_Jude_16\n",
      "assign_Chris_8\n",
      "assign_Chris_9\n",
      "assign_Chris_10\n",
      "assign_Chris_11\n",
      "assign_Chris_12\n",
      "assign_Chris_13\n",
      "assign_Chris_14\n",
      "assign_Chris_15\n",
      "assign_Chris_16\n",
      "assign_Dee_8\n",
      "assign_Dee_9\n",
      "assign_Dee_10\n",
      "assign_Dee_11\n",
      "assign_Dee_12\n",
      "assign_Dee_13\n",
      "assign_Dee_14\n",
      "assign_Dee_15\n",
      "assign_Dee_16\n",
      "assign_Bethanie_8\n",
      "assign_Bethanie_9\n",
      "assign_Bethanie_10\n",
      "assign_Bethanie_11\n",
      "assign_Bethanie_12\n",
      "assign_Bethanie_13\n",
      "assign_Bethanie_14\n",
      "assign_Bethanie_15\n",
      "assign_Bethanie_16\n",
      "assign_Kate_8\n",
      "assign_Kate_9\n",
      "assign_Kate_10\n",
      "assign_Kate_11\n",
      "assign_Kate_12\n",
      "assign_Kate_13\n",
      "assign_Kate_14\n",
      "assign_Kate_15\n",
      "assign_Kate_16\n",
      "assign_Janice_8\n",
      "assign_Janice_9\n",
      "assign_Janice_10\n",
      "assign_Janice_11\n",
      "assign_Janice_12\n",
      "assign_Janice_13\n",
      "assign_Janice_14\n",
      "assign_Janice_15\n",
      "assign_Janice_16\n",
      "assign_Joan_35\n",
      "assign_Joan_36\n",
      "assign_Joan_37\n",
      "assign_Patricia_35\n",
      "assign_Patricia_36\n",
      "assign_Patricia_37\n",
      "assign_Debbie_35\n",
      "assign_Debbie_36\n",
      "assign_Debbie_37\n",
      "assign_Patrick_35\n",
      "assign_Patrick_36\n",
      "assign_Patrick_37\n",
      "assign_Jane_35\n",
      "assign_Jane_36\n",
      "assign_Jane_37\n",
      "assign_Roberta_35\n",
      "assign_Roberta_36\n",
      "assign_Roberta_37\n",
      "assign_Wendie_35\n",
      "assign_Wendie_36\n",
      "assign_Wendie_37\n",
      "assign_Zoe_35\n",
      "assign_Zoe_36\n",
      "assign_Zoe_37\n",
      "assign_Juliet_0\n",
      "assign_Juliet_1\n",
      "assign_Juliet_2\n",
      "assign_Juliet_3\n",
      "assign_Juliet_4\n",
      "assign_Juliet_5\n",
      "assign_Juliet_6\n",
      "assign_Juliet_7\n",
      "assign_Isabelle_0\n",
      "assign_Isabelle_1\n",
      "assign_Isabelle_2\n",
      "assign_Isabelle_3\n",
      "assign_Isabelle_4\n",
      "assign_Isabelle_5\n",
      "assign_Isabelle_6\n",
      "assign_Isabelle_7\n",
      "assign_Betsy_0\n",
      "assign_Betsy_1\n",
      "assign_Betsy_2\n",
      "assign_Betsy_3\n",
      "assign_Betsy_4\n",
      "assign_Betsy_5\n",
      "assign_Betsy_6\n",
      "assign_Betsy_7\n",
      "assign_David_0\n",
      "assign_David_1\n",
      "assign_David_2\n",
      "assign_David_3\n",
      "assign_David_4\n",
      "assign_David_5\n",
      "assign_David_6\n",
      "assign_David_7\n",
      "assign_Gloria_0\n",
      "assign_Gloria_1\n",
      "assign_Gloria_2\n",
      "assign_Gloria_3\n",
      "assign_Gloria_4\n",
      "assign_Gloria_5\n",
      "assign_Gloria_6\n",
      "assign_Gloria_7\n",
      "assign_Kate_0\n",
      "assign_Kate_1\n",
      "assign_Kate_2\n",
      "assign_Kate_3\n",
      "assign_Kate_4\n",
      "assign_Kate_5\n",
      "assign_Kate_6\n",
      "assign_Kate_7\n",
      "assign_Suzanne_0\n",
      "assign_Suzanne_1\n",
      "assign_Suzanne_2\n",
      "assign_Suzanne_3\n",
      "assign_Suzanne_4\n",
      "assign_Suzanne_5\n",
      "assign_Suzanne_6\n",
      "assign_Suzanne_7\n",
      "assign_Patricia_17\n",
      "assign_Patricia_18\n",
      "assign_Patricia_19\n",
      "assign_Patricia_20\n",
      "assign_Patricia_21\n",
      "assign_Patricia_22\n",
      "assign_Nicole_17\n",
      "assign_Nicole_18\n",
      "assign_Nicole_19\n",
      "assign_Nicole_20\n",
      "assign_Nicole_21\n",
      "assign_Nicole_22\n",
      "assign_Debbie_17\n",
      "assign_Debbie_18\n",
      "assign_Debbie_19\n",
      "assign_Debbie_20\n",
      "assign_Debbie_21\n",
      "assign_Debbie_22\n",
      "assign_Cecilia_17\n",
      "assign_Cecilia_18\n",
      "assign_Cecilia_19\n",
      "assign_Cecilia_20\n",
      "assign_Cecilia_21\n",
      "assign_Cecilia_22\n",
      "assign_Jemma_17\n",
      "assign_Jemma_18\n",
      "assign_Jemma_19\n",
      "assign_Jemma_20\n",
      "assign_Jemma_21\n",
      "assign_Jemma_22\n",
      "assign_Bethanie_17\n",
      "assign_Bethanie_18\n",
      "assign_Bethanie_19\n",
      "assign_Bethanie_20\n",
      "assign_Bethanie_21\n",
      "assign_Bethanie_22\n",
      "assign_Janelle_17\n",
      "assign_Janelle_18\n",
      "assign_Janelle_19\n",
      "assign_Janelle_20\n",
      "assign_Janelle_21\n",
      "assign_Janelle_22\n",
      "assign_Vickie_17\n",
      "assign_Vickie_18\n",
      "assign_Vickie_19\n",
      "assign_Vickie_20\n",
      "assign_Vickie_21\n",
      "assign_Vickie_22\n",
      "# vacation forbids: 350 assignments\n"
     ]
    }
   ],
   "source": [
    "for forbidden_assignment in df_vacation_forbidden_assignments.itertuples():\n",
    "    # to forbid an assignment just set the variable to zero.\n",
    "    mdl.add_constraint(forbidden_assignment.assigned == 0)\n",
    "    print(forbidden_assignment.assigned)\n",
    "print(\"# vacation forbids: {} assignments\".format(len(df_vacation_forbidden_assignments)))"
   ]
  },
  {
   "cell_type": "markdown",
   "metadata": {},
   "source": [
    "##### Associations\n",
    "\n",
    "Some pairs of nurses get along particularly well, so we wish to assign them together as a team. In other words, for every such couple and for each shift, both assignment variables should always be equal.\n",
    "Either both nurses work the shift, or both do not.\n",
    "\n",
    "In the same way we modeled *vacations*, we use the *pandas* merge operation to create a DataFrame for which each row contains the pair of nurse-shift assignment decision variables matching each association."
   ]
  },
  {
   "cell_type": "code",
   "execution_count": 22,
   "metadata": {},
   "outputs": [
    {
     "data": {
      "text/plain": "     nurse1 nurse2 all_nurses_1  all_shifts         assigned_1 all_nurses_2  \\\n0  Isabelle    Dee     Isabelle           0  assign_Isabelle_0          Dee   \n1  Isabelle    Dee     Isabelle           1  assign_Isabelle_1          Dee   \n2  Isabelle    Dee     Isabelle           2  assign_Isabelle_2          Dee   \n3  Isabelle    Dee     Isabelle           3  assign_Isabelle_3          Dee   \n4  Isabelle    Dee     Isabelle           4  assign_Isabelle_4          Dee   \n\n     assigned_2  \n0  assign_Dee_0  \n1  assign_Dee_1  \n2  assign_Dee_2  \n3  assign_Dee_3  \n4  assign_Dee_4  ",
      "text/html": "<div>\n<style scoped>\n    .dataframe tbody tr th:only-of-type {\n        vertical-align: middle;\n    }\n\n    .dataframe tbody tr th {\n        vertical-align: top;\n    }\n\n    .dataframe thead th {\n        text-align: right;\n    }\n</style>\n<table border=\"1\" class=\"dataframe\">\n  <thead>\n    <tr style=\"text-align: right;\">\n      <th></th>\n      <th>nurse1</th>\n      <th>nurse2</th>\n      <th>all_nurses_1</th>\n      <th>all_shifts</th>\n      <th>assigned_1</th>\n      <th>all_nurses_2</th>\n      <th>assigned_2</th>\n    </tr>\n  </thead>\n  <tbody>\n    <tr>\n      <th>0</th>\n      <td>Isabelle</td>\n      <td>Dee</td>\n      <td>Isabelle</td>\n      <td>0</td>\n      <td>assign_Isabelle_0</td>\n      <td>Dee</td>\n      <td>assign_Dee_0</td>\n    </tr>\n    <tr>\n      <th>1</th>\n      <td>Isabelle</td>\n      <td>Dee</td>\n      <td>Isabelle</td>\n      <td>1</td>\n      <td>assign_Isabelle_1</td>\n      <td>Dee</td>\n      <td>assign_Dee_1</td>\n    </tr>\n    <tr>\n      <th>2</th>\n      <td>Isabelle</td>\n      <td>Dee</td>\n      <td>Isabelle</td>\n      <td>2</td>\n      <td>assign_Isabelle_2</td>\n      <td>Dee</td>\n      <td>assign_Dee_2</td>\n    </tr>\n    <tr>\n      <th>3</th>\n      <td>Isabelle</td>\n      <td>Dee</td>\n      <td>Isabelle</td>\n      <td>3</td>\n      <td>assign_Isabelle_3</td>\n      <td>Dee</td>\n      <td>assign_Dee_3</td>\n    </tr>\n    <tr>\n      <th>4</th>\n      <td>Isabelle</td>\n      <td>Dee</td>\n      <td>Isabelle</td>\n      <td>4</td>\n      <td>assign_Isabelle_4</td>\n      <td>Dee</td>\n      <td>assign_Dee_4</td>\n    </tr>\n  </tbody>\n</table>\n</div>"
     },
     "execution_count": 22,
     "metadata": {},
     "output_type": "execute_result"
    }
   ],
   "source": [
    "# Join 'df_assignment' Data Frame twice, based on associations to get corresponding decision variables pairs for all shifts\n",
    "# The 'suffixes' parameter in the second merge indicates our preference for updating the name of columns that occur both\n",
    "# in the first and second argument Data Frames (in our case, these columns are 'all_nurses' and 'assigned').\n",
    "df_preferred_assign = df_associations.merge(\n",
    "    df_assigned_reindexed, left_on='nurse1', right_on='all_nurses').merge(\n",
    "    df_assigned_reindexed, left_on=['nurse2', 'all_shifts'], right_on=['all_nurses', 'all_shifts'], suffixes=('_1','_2'))\n",
    "\n",
    "# Here are the first few rows of the resulting Data Frames joins\n",
    "df_preferred_assign.head()"
   ]
  },
  {
   "cell_type": "markdown",
   "metadata": {},
   "source": [
    "The associations constraint can now easily be formulated by iterating on the rows of the *\"df_preferred_assign\"* DataFrame."
   ]
  },
  {
   "cell_type": "code",
   "execution_count": 23,
   "metadata": {},
   "outputs": [],
   "source": [
    "for preferred_assign in df_preferred_assign.itertuples():\n",
    "    mdl.add_constraint(preferred_assign.assigned_1 == preferred_assign.assigned_2)"
   ]
  },
  {
   "cell_type": "markdown",
   "metadata": {},
   "source": [
    "##### Incompatibilities\n",
    "\n",
    "Similarly, certain pairs of nurses do not get along well, and we want to avoid having them together on a shift.\n",
    "In other terms, for each shift, both nurses of an incompatible pair cannot be assigned together to the sift. Again, we state a logical OR between the two assignments: at most one nurse from the pair can work the shift.\n",
    "\n",
    "We first create a DataFrame whose rows contain pairs of invalid assignment decision variables, using the same *pandas* `merge` operations as in the previous step."
   ]
  },
  {
   "cell_type": "code",
   "execution_count": 24,
   "metadata": {},
   "outputs": [
    {
     "data": {
      "text/plain": "     nurse1   nurse2 all_nurses_1  all_shifts         assigned_1 all_nurses_2  \\\n0  Patricia  Patrick     Patricia           0  assign_Patricia_0      Patrick   \n1  Patricia  Patrick     Patricia           1  assign_Patricia_1      Patrick   \n2  Patricia  Patrick     Patricia           2  assign_Patricia_2      Patrick   \n3  Patricia  Patrick     Patricia           3  assign_Patricia_3      Patrick   \n4  Patricia  Patrick     Patricia           4  assign_Patricia_4      Patrick   \n\n         assigned_2  \n0  assign_Patrick_0  \n1  assign_Patrick_1  \n2  assign_Patrick_2  \n3  assign_Patrick_3  \n4  assign_Patrick_4  ",
      "text/html": "<div>\n<style scoped>\n    .dataframe tbody tr th:only-of-type {\n        vertical-align: middle;\n    }\n\n    .dataframe tbody tr th {\n        vertical-align: top;\n    }\n\n    .dataframe thead th {\n        text-align: right;\n    }\n</style>\n<table border=\"1\" class=\"dataframe\">\n  <thead>\n    <tr style=\"text-align: right;\">\n      <th></th>\n      <th>nurse1</th>\n      <th>nurse2</th>\n      <th>all_nurses_1</th>\n      <th>all_shifts</th>\n      <th>assigned_1</th>\n      <th>all_nurses_2</th>\n      <th>assigned_2</th>\n    </tr>\n  </thead>\n  <tbody>\n    <tr>\n      <th>0</th>\n      <td>Patricia</td>\n      <td>Patrick</td>\n      <td>Patricia</td>\n      <td>0</td>\n      <td>assign_Patricia_0</td>\n      <td>Patrick</td>\n      <td>assign_Patrick_0</td>\n    </tr>\n    <tr>\n      <th>1</th>\n      <td>Patricia</td>\n      <td>Patrick</td>\n      <td>Patricia</td>\n      <td>1</td>\n      <td>assign_Patricia_1</td>\n      <td>Patrick</td>\n      <td>assign_Patrick_1</td>\n    </tr>\n    <tr>\n      <th>2</th>\n      <td>Patricia</td>\n      <td>Patrick</td>\n      <td>Patricia</td>\n      <td>2</td>\n      <td>assign_Patricia_2</td>\n      <td>Patrick</td>\n      <td>assign_Patrick_2</td>\n    </tr>\n    <tr>\n      <th>3</th>\n      <td>Patricia</td>\n      <td>Patrick</td>\n      <td>Patricia</td>\n      <td>3</td>\n      <td>assign_Patricia_3</td>\n      <td>Patrick</td>\n      <td>assign_Patrick_3</td>\n    </tr>\n    <tr>\n      <th>4</th>\n      <td>Patricia</td>\n      <td>Patrick</td>\n      <td>Patricia</td>\n      <td>4</td>\n      <td>assign_Patricia_4</td>\n      <td>Patrick</td>\n      <td>assign_Patrick_4</td>\n    </tr>\n  </tbody>\n</table>\n</div>"
     },
     "execution_count": 24,
     "metadata": {},
     "output_type": "execute_result"
    }
   ],
   "source": [
    "# Join assignment Data Frame twice, based on incompatibilities Data Frame to get corresponding decision variables pairs\n",
    "#  for all shifts\n",
    "df_incompatible_assign = df_incompatibilities.merge(\n",
    "    df_assigned_reindexed, left_on='nurse1', right_on='all_nurses').merge(\n",
    "    df_assigned_reindexed, left_on=['nurse2', 'all_shifts'], right_on=['all_nurses', 'all_shifts'], suffixes=('_1','_2'))\n",
    "\n",
    "# Here are the first few rows of the resulting Data Frames joins\n",
    "df_incompatible_assign.head()"
   ]
  },
  {
   "cell_type": "markdown",
   "metadata": {},
   "source": [
    "The incompatibilities constraint can now easily be formulated, by iterating on the rows of the *\"df_incompatible_assign\"* DataFrame."
   ]
  },
  {
   "cell_type": "code",
   "execution_count": 25,
   "metadata": {},
   "outputs": [],
   "source": [
    "for incompatible_assign in df_incompatible_assign.itertuples():\n",
    "    mdl.add_constraint(incompatible_assign.assigned_1 + incompatible_assign.assigned_2 <= 1)"
   ]
  },
  {
   "cell_type": "markdown",
   "metadata": {},
   "source": [
    "##### Constraints on work time\n",
    "\n",
    "Regulations force constraints on the total work time over a week;\n",
    "and we compute this total work time in a new variable. We store the variable in an extra column in the nurse DataFrame.\n",
    "\n",
    "The variable is declared as _continuous_ though it contains only integer values. This is done to avoid adding unnecessary integer variables for the _branch and bound_ algorithm. \n",
    "These variables are not true decision variables; they are used to express work constraints.\n",
    "\n",
    "From a *pandas* perspective, we apply a function over the rows of the nurse DataFrame to create this variable and store it into a new column of the DataFrame."
   ]
  },
  {
   "cell_type": "code",
   "execution_count": 26,
   "metadata": {},
   "outputs": [
    {
     "data": {
      "text/plain": "          seniority  qualification  pay_rate           worktime\nname                                                           \nAnne             11              1        25      worktime_Anne\nBethanie          4              5        28  worktime_Bethanie\nBetsy             2              2        17     worktime_Betsy\nCathy             2              2        17     worktime_Cathy\nCecilia           9              5        38   worktime_Cecilia\nChris            11              4        38     worktime_Chris\nCindy             5              2        21     worktime_Cindy\nDavid             1              2        15     worktime_David\nDebbie            7              2        24    worktime_Debbie\nDee               3              3        21       worktime_Dee\nGloria            8              2        25    worktime_Gloria\nIsabelle          3              1        16  worktime_Isabelle\nJane              3              4        23      worktime_Jane\nJanelle           4              3        22   worktime_Janelle\nJanice            2              2        17    worktime_Janice\nJemma             2              4        22     worktime_Jemma\nJoan              5              3        24      worktime_Joan\nJoyce             8              3        29     worktime_Joyce\nJude              4              3        22      worktime_Jude\nJulie             6              2        22     worktime_Julie\nJuliet            7              4        31    worktime_Juliet\nKate              5              3        24      worktime_Kate\nNancy             8              4        32     worktime_Nancy\nNathalie          9              5        38  worktime_Nathalie\nNicole            0              2        14    worktime_Nicole\nPatricia          1              1        13  worktime_Patricia\nPatrick           6              1        19   worktime_Patrick\nRoberta           3              5        26   worktime_Roberta\nSuzanne           5              1        18   worktime_Suzanne\nVickie            7              1        20    worktime_Vickie\nWendie            5              2        21    worktime_Wendie\nZoe               8              3        29       worktime_Zoe",
      "text/html": "<div>\n<style scoped>\n    .dataframe tbody tr th:only-of-type {\n        vertical-align: middle;\n    }\n\n    .dataframe tbody tr th {\n        vertical-align: top;\n    }\n\n    .dataframe thead th {\n        text-align: right;\n    }\n</style>\n<table border=\"1\" class=\"dataframe\">\n  <thead>\n    <tr style=\"text-align: right;\">\n      <th></th>\n      <th>seniority</th>\n      <th>qualification</th>\n      <th>pay_rate</th>\n      <th>worktime</th>\n    </tr>\n    <tr>\n      <th>name</th>\n      <th></th>\n      <th></th>\n      <th></th>\n      <th></th>\n    </tr>\n  </thead>\n  <tbody>\n    <tr>\n      <th>Anne</th>\n      <td>11</td>\n      <td>1</td>\n      <td>25</td>\n      <td>worktime_Anne</td>\n    </tr>\n    <tr>\n      <th>Bethanie</th>\n      <td>4</td>\n      <td>5</td>\n      <td>28</td>\n      <td>worktime_Bethanie</td>\n    </tr>\n    <tr>\n      <th>Betsy</th>\n      <td>2</td>\n      <td>2</td>\n      <td>17</td>\n      <td>worktime_Betsy</td>\n    </tr>\n    <tr>\n      <th>Cathy</th>\n      <td>2</td>\n      <td>2</td>\n      <td>17</td>\n      <td>worktime_Cathy</td>\n    </tr>\n    <tr>\n      <th>Cecilia</th>\n      <td>9</td>\n      <td>5</td>\n      <td>38</td>\n      <td>worktime_Cecilia</td>\n    </tr>\n    <tr>\n      <th>Chris</th>\n      <td>11</td>\n      <td>4</td>\n      <td>38</td>\n      <td>worktime_Chris</td>\n    </tr>\n    <tr>\n      <th>Cindy</th>\n      <td>5</td>\n      <td>2</td>\n      <td>21</td>\n      <td>worktime_Cindy</td>\n    </tr>\n    <tr>\n      <th>David</th>\n      <td>1</td>\n      <td>2</td>\n      <td>15</td>\n      <td>worktime_David</td>\n    </tr>\n    <tr>\n      <th>Debbie</th>\n      <td>7</td>\n      <td>2</td>\n      <td>24</td>\n      <td>worktime_Debbie</td>\n    </tr>\n    <tr>\n      <th>Dee</th>\n      <td>3</td>\n      <td>3</td>\n      <td>21</td>\n      <td>worktime_Dee</td>\n    </tr>\n    <tr>\n      <th>Gloria</th>\n      <td>8</td>\n      <td>2</td>\n      <td>25</td>\n      <td>worktime_Gloria</td>\n    </tr>\n    <tr>\n      <th>Isabelle</th>\n      <td>3</td>\n      <td>1</td>\n      <td>16</td>\n      <td>worktime_Isabelle</td>\n    </tr>\n    <tr>\n      <th>Jane</th>\n      <td>3</td>\n      <td>4</td>\n      <td>23</td>\n      <td>worktime_Jane</td>\n    </tr>\n    <tr>\n      <th>Janelle</th>\n      <td>4</td>\n      <td>3</td>\n      <td>22</td>\n      <td>worktime_Janelle</td>\n    </tr>\n    <tr>\n      <th>Janice</th>\n      <td>2</td>\n      <td>2</td>\n      <td>17</td>\n      <td>worktime_Janice</td>\n    </tr>\n    <tr>\n      <th>Jemma</th>\n      <td>2</td>\n      <td>4</td>\n      <td>22</td>\n      <td>worktime_Jemma</td>\n    </tr>\n    <tr>\n      <th>Joan</th>\n      <td>5</td>\n      <td>3</td>\n      <td>24</td>\n      <td>worktime_Joan</td>\n    </tr>\n    <tr>\n      <th>Joyce</th>\n      <td>8</td>\n      <td>3</td>\n      <td>29</td>\n      <td>worktime_Joyce</td>\n    </tr>\n    <tr>\n      <th>Jude</th>\n      <td>4</td>\n      <td>3</td>\n      <td>22</td>\n      <td>worktime_Jude</td>\n    </tr>\n    <tr>\n      <th>Julie</th>\n      <td>6</td>\n      <td>2</td>\n      <td>22</td>\n      <td>worktime_Julie</td>\n    </tr>\n    <tr>\n      <th>Juliet</th>\n      <td>7</td>\n      <td>4</td>\n      <td>31</td>\n      <td>worktime_Juliet</td>\n    </tr>\n    <tr>\n      <th>Kate</th>\n      <td>5</td>\n      <td>3</td>\n      <td>24</td>\n      <td>worktime_Kate</td>\n    </tr>\n    <tr>\n      <th>Nancy</th>\n      <td>8</td>\n      <td>4</td>\n      <td>32</td>\n      <td>worktime_Nancy</td>\n    </tr>\n    <tr>\n      <th>Nathalie</th>\n      <td>9</td>\n      <td>5</td>\n      <td>38</td>\n      <td>worktime_Nathalie</td>\n    </tr>\n    <tr>\n      <th>Nicole</th>\n      <td>0</td>\n      <td>2</td>\n      <td>14</td>\n      <td>worktime_Nicole</td>\n    </tr>\n    <tr>\n      <th>Patricia</th>\n      <td>1</td>\n      <td>1</td>\n      <td>13</td>\n      <td>worktime_Patricia</td>\n    </tr>\n    <tr>\n      <th>Patrick</th>\n      <td>6</td>\n      <td>1</td>\n      <td>19</td>\n      <td>worktime_Patrick</td>\n    </tr>\n    <tr>\n      <th>Roberta</th>\n      <td>3</td>\n      <td>5</td>\n      <td>26</td>\n      <td>worktime_Roberta</td>\n    </tr>\n    <tr>\n      <th>Suzanne</th>\n      <td>5</td>\n      <td>1</td>\n      <td>18</td>\n      <td>worktime_Suzanne</td>\n    </tr>\n    <tr>\n      <th>Vickie</th>\n      <td>7</td>\n      <td>1</td>\n      <td>20</td>\n      <td>worktime_Vickie</td>\n    </tr>\n    <tr>\n      <th>Wendie</th>\n      <td>5</td>\n      <td>2</td>\n      <td>21</td>\n      <td>worktime_Wendie</td>\n    </tr>\n    <tr>\n      <th>Zoe</th>\n      <td>8</td>\n      <td>3</td>\n      <td>29</td>\n      <td>worktime_Zoe</td>\n    </tr>\n  </tbody>\n</table>\n</div>"
     },
     "execution_count": 26,
     "metadata": {},
     "output_type": "execute_result"
    }
   ],
   "source": [
    "# auxiliary function to create worktime variable from a row\n",
    "def make_var(row, varname_fmt):\n",
    "    return mdl.continuous_var(name=varname_fmt % row.name, lb=0)\n",
    "\n",
    "# apply the function over nurse rows and store result in a new column\n",
    "df_nurses[\"worktime\"] = df_nurses.apply(lambda r: make_var(r, \"worktime_%s\"), axis=1)\n",
    "\n",
    "# display nurse dataframe\n",
    "df_nurses"
   ]
  },
  {
   "cell_type": "markdown",
   "metadata": {},
   "source": [
    "###### Define total work time\n",
    "\n",
    "Work time variables must be constrained to be equal to the sum of hours actually worked.\n",
    "\n",
    "We use the *pandas* *groupby* operation to collect all assignment decision variables for each nurse in a separate series. Then, we iterate over nurses to post a constraint calculating the actual worktime for each nurse as the dot product of the series of nurse-shift assignments with the series of shift durations."
   ]
  },
  {
   "cell_type": "code",
   "execution_count": 27,
   "metadata": {},
   "outputs": [
    {
     "name": "stdout",
     "output_type": "stream",
     "text": [
      "Model: nurses\n",
      " - number of variables: 1376\n",
      "   - binary=1344, integer=0, continuous=32\n",
      " - number of constraints: 1568\n",
      "   - linear=1568\n",
      " - parameters: defaults\n",
      " - objective: none\n",
      " - problem type is: MILP\n"
     ]
    }
   ],
   "source": [
    "# Use pandas' groupby operation to enforce constraint calculating worktime for each nurse as the sum of all assigned\n",
    "#  shifts times the duration of each shift\n",
    "for nurse, nurse_assignments in df_assigned.groupby(level='all_nurses'):\n",
    "    mdl.add_constraint(df_nurses.worktime[nurse] == mdl.dot(nurse_assignments.assigned, df_shifts.duration))\n",
    "                       \n",
    "# print model information and check we now have 32 extra continuous variables\n",
    "mdl.print_information()"
   ]
  },
  {
   "cell_type": "markdown",
   "metadata": {},
   "source": [
    "###### Maximum work time\n",
    "\n",
    "For each nurse, we add a constraint to enforce the maximum work time for a week.\n",
    "Again we use the `apply` method, this time with an anonymous lambda function."
   ]
  },
  {
   "cell_type": "code",
   "execution_count": 28,
   "metadata": {},
   "outputs": [
    {
     "data": {
      "text/plain": "name\nAnne            worktime_Anne <= 40\nBethanie    worktime_Bethanie <= 40\nBetsy          worktime_Betsy <= 40\nCathy          worktime_Cathy <= 40\nCecilia      worktime_Cecilia <= 40\nChris          worktime_Chris <= 40\nCindy          worktime_Cindy <= 40\nDavid          worktime_David <= 40\nDebbie        worktime_Debbie <= 40\nDee              worktime_Dee <= 40\nGloria        worktime_Gloria <= 40\nIsabelle    worktime_Isabelle <= 40\nJane            worktime_Jane <= 40\nJanelle      worktime_Janelle <= 40\nJanice        worktime_Janice <= 40\nJemma          worktime_Jemma <= 40\nJoan            worktime_Joan <= 40\nJoyce          worktime_Joyce <= 40\nJude            worktime_Jude <= 40\nJulie          worktime_Julie <= 40\nJuliet        worktime_Juliet <= 40\nKate            worktime_Kate <= 40\nNancy          worktime_Nancy <= 40\nNathalie    worktime_Nathalie <= 40\nNicole        worktime_Nicole <= 40\nPatricia    worktime_Patricia <= 40\nPatrick      worktime_Patrick <= 40\nRoberta      worktime_Roberta <= 40\nSuzanne      worktime_Suzanne <= 40\nVickie        worktime_Vickie <= 40\nWendie        worktime_Wendie <= 40\nZoe              worktime_Zoe <= 40\nName: worktime, dtype: object"
     },
     "execution_count": 28,
     "metadata": {},
     "output_type": "execute_result"
    }
   ],
   "source": [
    "# we use pandas' apply() method to set an upper bound on all worktime variables.\n",
    "def set_max_work_time(v):\n",
    "    v.ub = max_work_time\n",
    "    # Optionally: return a string for fancy display of the constraint in the Output cell\n",
    "    return str(v) + ' <= ' + str(v.ub)\n",
    "\n",
    "df_nurses[\"worktime\"].apply(convert_dtype=False, func=set_max_work_time)"
   ]
  },
  {
   "cell_type": "markdown",
   "metadata": {},
   "source": [
    "##### Minimum requirement for shifts\n",
    "\n",
    "Each shift requires a minimum number of nurses. \n",
    "For each shift, the sum over all nurses of assignments to this shift\n",
    "must be greater than the minimum requirement.\n",
    "\n",
    "The *pandas* *groupby* operation is invoked to collect all assignment decision variables for each shift in a separate series. Then, we iterate over shifts to post the constraint enforcing the minimum number of nurse assignments for each shift."
   ]
  },
  {
   "cell_type": "code",
   "execution_count": 29,
   "metadata": {},
   "outputs": [],
   "source": [
    "# Use pandas' groupby operation to enforce minimum requirement constraint for each shift\n",
    "for shift, shift_nurses in df_assigned.groupby(level='all_shifts'):\n",
    "    mdl.add_constraint(mdl.sum(shift_nurses.assigned) >= df_shifts.min_req[shift])"
   ]
  },
  {
   "cell_type": "markdown",
   "metadata": {},
   "source": [
    "#### Express the objective\n",
    "\n",
    "The objective mixes different (and contradictory) KPIs. \n",
    "\n",
    "The first KPI is the total salary cost, computed as the sum of work times over all nurses, weighted by pay rate.\n",
    "\n",
    "We compute this KPI as an expression from the variables we previously defined by using the panda summation over the DOcplex objects."
   ]
  },
  {
   "cell_type": "code",
   "execution_count": 30,
   "metadata": {},
   "outputs": [
    {
     "data": {
      "text/plain": "DecisionKPI(name=Total salary cost,expr=25worktime_Anne+28worktime_Bethanie+17worktime_Betsy+17worktime_..)"
     },
     "execution_count": 30,
     "metadata": {},
     "output_type": "execute_result"
    }
   ],
   "source": [
    "# again leverage pandas to create a series of expressions: costs of each nurse\n",
    "total_salary_series = df_nurses.worktime * df_nurses.pay_rate\n",
    "\n",
    "# compute global salary cost using pandas sum()\n",
    "# Note that the result is a DOcplex expression: DOcplex if fully compatible with pandas\n",
    "total_salary_cost = total_salary_series.sum()\n",
    "mdl.add_kpi(total_salary_cost, \"Total salary cost\")"
   ]
  },
  {
   "cell_type": "markdown",
   "metadata": {},
   "source": [
    "##### Minimizing salary cost\n",
    "\n",
    "In a preliminary version of the model, we minimize the total salary cost. This is accomplished\n",
    "using the `Model.minimize()` method."
   ]
  },
  {
   "cell_type": "code",
   "execution_count": 31,
   "metadata": {},
   "outputs": [
    {
     "name": "stdout",
     "output_type": "stream",
     "text": [
      "Model: nurses\n",
      " - number of variables: 1376\n",
      "   - binary=1344, integer=0, continuous=32\n",
      " - number of constraints: 1610\n",
      "   - linear=1610\n",
      " - parameters: defaults\n",
      " - objective: minimize\n",
      " - problem type is: MILP\n"
     ]
    }
   ],
   "source": [
    "mdl.minimize(total_salary_cost)\n",
    "mdl.print_information()"
   ]
  },
  {
   "cell_type": "markdown",
   "metadata": {},
   "source": [
    "#### Solve with Decision Optimization\n",
    "\n",
    "Now we have everything we need to solve the model, using `Model.solve()`. The following cell solves using your local CPLEX (if any, and provided you have added it to your `PYTHONPATH` variable). \n"
   ]
  },
  {
   "cell_type": "code",
   "execution_count": 32,
   "metadata": {},
   "outputs": [
    {
     "name": "stdout",
     "output_type": "stream",
     "text": [
      "Version identifier: 22.1.1.0 | 2022-11-27 | 9160aff4d\n",
      "CPXPARAM_Read_DataCheck                          1\n",
      "CPXPARAM_MIP_Tolerances_MIPGap                   1.0000000000000001e-05\n",
      "Tried aggregator 2 times.\n",
      "MIP Presolve eliminated 1010 rows and 388 columns.\n",
      "MIP Presolve modified 90 coefficients.\n",
      "Aggregator did 42 substitutions.\n",
      "Reduced MIP has 558 rows, 944 columns, and 2920 nonzeros.\n",
      "Reduced MIP has 914 binaries, 0 generals, 0 SOSs, and 0 indicators.\n",
      "Presolve time = 0.02 sec. (3.71 ticks)\n",
      "Probing time = 0.00 sec. (0.51 ticks)\n",
      "Tried aggregator 1 time.\n",
      "Detecting symmetries...\n",
      "Reduced MIP has 558 rows, 944 columns, and 2920 nonzeros.\n",
      "Reduced MIP has 914 binaries, 30 generals, 0 SOSs, and 0 indicators.\n",
      "Presolve time = 0.00 sec. (2.05 ticks)\n",
      "Probing time = 0.00 sec. (0.51 ticks)\n",
      "Clique table members: 486.\n",
      "MIP emphasis: balance optimality and feasibility.\n",
      "MIP search method: dynamic search.\n",
      "Parallel mode: deterministic, using up to 12 threads.\n",
      "Root relaxation solution time = 0.00 sec. (4.77 ticks)\n",
      "\n",
      "        Nodes                                         Cuts/\n",
      "   Node  Left     Objective  IInf  Best Integer    Best Bound    ItCnt     Gap\n",
      "\n",
      "      0     0    29508.0000    44                  29508.0000      500         \n",
      "      0     0    29508.0000    49                    Cuts: 87      616         \n",
      "      0     0    29508.0000    44                    Cuts: 69      750         \n",
      "      0     0    29508.0000    68                    Cuts: 61      873         \n",
      "*     0+    0                        29704.0000    29508.0000             0.66%\n",
      "*     0+    0                        29674.0000    29508.0000             0.56%\n",
      "      0     0  -1.00000e+75     0    29674.0000    29508.0000      873    0.56%\n",
      "      0     2    29508.0000     8    29674.0000    29508.0000      873    0.56%\n",
      "Elapsed time = 0.19 sec. (113.29 ticks, tree = 0.02 MB, solutions = 2)\n",
      "*    10+    5                        29654.0000    29508.0000             0.49%\n",
      "*    10+    4                        29624.0000    29508.0000             0.39%\n",
      "*    16+    5                        29620.0000    29508.0000             0.38%\n",
      "*    20+    6                        29610.0000    29508.0000             0.34%\n",
      "*    20+    5                        29580.0000    29508.0000             0.24%\n",
      "*    25+    5                        29540.0000    29508.0000             0.11%\n",
      "*    92+    9                        29534.0000    29508.0000             0.09%\n",
      "*    98+   11                        29528.0000    29508.0000             0.07%\n",
      "*  4127+ 3479                        29508.0000    29508.0000             0.00%\n",
      "\n",
      "GUB cover cuts applied:  13\n",
      "Cover cuts applied:  139\n",
      "Flow cuts applied:  13\n",
      "Mixed integer rounding cuts applied:  16\n",
      "Zero-half cuts applied:  10\n",
      "Lift and project cuts applied:  4\n",
      "Gomory fractional cuts applied:  3\n",
      "\n",
      "Root node processing (before b&c):\n",
      "  Real time             =    0.17 sec. (113.21 ticks)\n",
      "Parallel b&c, 12 threads:\n",
      "  Real time             =    0.30 sec. (261.42 ticks)\n",
      "  Sync time (average)   =    0.05 sec.\n",
      "  Wait time (average)   =    0.00 sec.\n",
      "                          ------------\n",
      "Total (root+branch&cut) =    0.47 sec. (374.63 ticks)\n",
      "* model nurses solved with objective = 29508.000\n",
      "*  KPI: Total salary cost = 29508.000\n"
     ]
    }
   ],
   "source": [
    "# Set Cplex mipgap to 1e-5 to enforce precision to be of the order of a unit (objective value magnitude is ~1e+5).\n",
    "mdl.parameters.mip.tolerances.mipgap = 1e-5\n",
    "\n",
    "s = mdl.solve(log_output=True)\n",
    "assert s, \"solve failed\"\n",
    "mdl.report()"
   ]
  },
  {
   "cell_type": "markdown",
   "metadata": {},
   "source": [
    "### Step 6: Investigate the solution and then run an example analysis\n",
    "\n",
    "We take advantage of *pandas* to analyze the results. First we store the solution values of the assignment variables into a new *pandas* Series.\n",
    "\n",
    "Calling `solution_value` on a DOcplex variable returns its value in the solution (provided the model has been successfully solved)."
   ]
  },
  {
   "cell_type": "code",
   "execution_count": 33,
   "metadata": {},
   "outputs": [
    {
     "data": {
      "text/plain": "all_shifts   0    1    2    3    4    5    6    7    8    9   ...   32   33  \\\nall_nurses                                                    ...             \nAnne        0.0  0.0  0.0  1.0  0.0  0.0  1.0  1.0  0.0  1.0  ...  0.0  0.0   \nBethanie    0.0  1.0  0.0  0.0  0.0  1.0  0.0  0.0  0.0  0.0  ...  0.0  0.0   \nBetsy       0.0  0.0  0.0  0.0  0.0  0.0  0.0  0.0  1.0  1.0  ...  0.0  0.0   \nCathy       0.0  0.0  0.0  0.0  0.0  0.0  1.0  0.0  0.0  0.0  ...  0.0  0.0   \nCecilia     0.0  0.0  0.0  0.0  1.0  0.0  0.0  0.0  0.0  0.0  ...  0.0  0.0   \n\nall_shifts   34   35   36   37   38   39   40   41  \nall_nurses                                          \nAnne        0.0  0.0  0.0  0.0  0.0  0.0  0.0  0.0  \nBethanie    1.0  0.0  0.0  0.0  0.0  0.0  1.0  1.0  \nBetsy       1.0  0.0  0.0  1.0  0.0  0.0  0.0  0.0  \nCathy       0.0  0.0  1.0  1.0  1.0  0.0  0.0  0.0  \nCecilia     0.0  0.0  0.0  1.0  0.0  0.0  0.0  0.0  \n\n[5 rows x 42 columns]",
      "text/html": "<div>\n<style scoped>\n    .dataframe tbody tr th:only-of-type {\n        vertical-align: middle;\n    }\n\n    .dataframe tbody tr th {\n        vertical-align: top;\n    }\n\n    .dataframe thead th {\n        text-align: right;\n    }\n</style>\n<table border=\"1\" class=\"dataframe\">\n  <thead>\n    <tr style=\"text-align: right;\">\n      <th>all_shifts</th>\n      <th>0</th>\n      <th>1</th>\n      <th>2</th>\n      <th>3</th>\n      <th>4</th>\n      <th>5</th>\n      <th>6</th>\n      <th>7</th>\n      <th>8</th>\n      <th>9</th>\n      <th>...</th>\n      <th>32</th>\n      <th>33</th>\n      <th>34</th>\n      <th>35</th>\n      <th>36</th>\n      <th>37</th>\n      <th>38</th>\n      <th>39</th>\n      <th>40</th>\n      <th>41</th>\n    </tr>\n    <tr>\n      <th>all_nurses</th>\n      <th></th>\n      <th></th>\n      <th></th>\n      <th></th>\n      <th></th>\n      <th></th>\n      <th></th>\n      <th></th>\n      <th></th>\n      <th></th>\n      <th></th>\n      <th></th>\n      <th></th>\n      <th></th>\n      <th></th>\n      <th></th>\n      <th></th>\n      <th></th>\n      <th></th>\n      <th></th>\n      <th></th>\n    </tr>\n  </thead>\n  <tbody>\n    <tr>\n      <th>Anne</th>\n      <td>0.0</td>\n      <td>0.0</td>\n      <td>0.0</td>\n      <td>1.0</td>\n      <td>0.0</td>\n      <td>0.0</td>\n      <td>1.0</td>\n      <td>1.0</td>\n      <td>0.0</td>\n      <td>1.0</td>\n      <td>...</td>\n      <td>0.0</td>\n      <td>0.0</td>\n      <td>0.0</td>\n      <td>0.0</td>\n      <td>0.0</td>\n      <td>0.0</td>\n      <td>0.0</td>\n      <td>0.0</td>\n      <td>0.0</td>\n      <td>0.0</td>\n    </tr>\n    <tr>\n      <th>Bethanie</th>\n      <td>0.0</td>\n      <td>1.0</td>\n      <td>0.0</td>\n      <td>0.0</td>\n      <td>0.0</td>\n      <td>1.0</td>\n      <td>0.0</td>\n      <td>0.0</td>\n      <td>0.0</td>\n      <td>0.0</td>\n      <td>...</td>\n      <td>0.0</td>\n      <td>0.0</td>\n      <td>1.0</td>\n      <td>0.0</td>\n      <td>0.0</td>\n      <td>0.0</td>\n      <td>0.0</td>\n      <td>0.0</td>\n      <td>1.0</td>\n      <td>1.0</td>\n    </tr>\n    <tr>\n      <th>Betsy</th>\n      <td>0.0</td>\n      <td>0.0</td>\n      <td>0.0</td>\n      <td>0.0</td>\n      <td>0.0</td>\n      <td>0.0</td>\n      <td>0.0</td>\n      <td>0.0</td>\n      <td>1.0</td>\n      <td>1.0</td>\n      <td>...</td>\n      <td>0.0</td>\n      <td>0.0</td>\n      <td>1.0</td>\n      <td>0.0</td>\n      <td>0.0</td>\n      <td>1.0</td>\n      <td>0.0</td>\n      <td>0.0</td>\n      <td>0.0</td>\n      <td>0.0</td>\n    </tr>\n    <tr>\n      <th>Cathy</th>\n      <td>0.0</td>\n      <td>0.0</td>\n      <td>0.0</td>\n      <td>0.0</td>\n      <td>0.0</td>\n      <td>0.0</td>\n      <td>1.0</td>\n      <td>0.0</td>\n      <td>0.0</td>\n      <td>0.0</td>\n      <td>...</td>\n      <td>0.0</td>\n      <td>0.0</td>\n      <td>0.0</td>\n      <td>0.0</td>\n      <td>1.0</td>\n      <td>1.0</td>\n      <td>1.0</td>\n      <td>0.0</td>\n      <td>0.0</td>\n      <td>0.0</td>\n    </tr>\n    <tr>\n      <th>Cecilia</th>\n      <td>0.0</td>\n      <td>0.0</td>\n      <td>0.0</td>\n      <td>0.0</td>\n      <td>1.0</td>\n      <td>0.0</td>\n      <td>0.0</td>\n      <td>0.0</td>\n      <td>0.0</td>\n      <td>0.0</td>\n      <td>...</td>\n      <td>0.0</td>\n      <td>0.0</td>\n      <td>0.0</td>\n      <td>0.0</td>\n      <td>0.0</td>\n      <td>1.0</td>\n      <td>0.0</td>\n      <td>0.0</td>\n      <td>0.0</td>\n      <td>0.0</td>\n    </tr>\n  </tbody>\n</table>\n<p>5 rows × 42 columns</p>\n</div>"
     },
     "execution_count": 33,
     "metadata": {},
     "output_type": "execute_result"
    }
   ],
   "source": [
    "# Create a pandas Series containing actual shift assignment decision variables value\n",
    "s_assigned = df_assigned.assigned.apply(lambda v: v.solution_value)\n",
    "\n",
    "# Create a pivot table by (nurses, shifts), using pandas' \"unstack\" method to transform the 'all_shifts' row index\n",
    "#  into columns\n",
    "df_res = s_assigned.unstack(level='all_shifts')\n",
    "\n",
    "# Display the first few rows of the resulting pivot table\n",
    "df_res.head()"
   ]
  },
  {
   "cell_type": "markdown",
   "metadata": {},
   "source": [
    "#### Analyzing how worktime is distributed\n",
    "\n",
    "Let's analyze how worktime is distributed among nurses. \n",
    "\n",
    "First, we compute the global average work time as the total minimum requirement in hours, divided by number of nurses."
   ]
  },
  {
   "cell_type": "code",
   "execution_count": 34,
   "metadata": {},
   "outputs": [
    {
     "name": "stdout",
     "output_type": "stream",
     "text": [
      "* theoretical average work time is 39.5625 h\n"
     ]
    }
   ],
   "source": [
    "s_demand  = df_shifts.min_req * df_shifts.duration\n",
    "total_demand = s_demand.sum()\n",
    "avg_worktime = total_demand / float(len(all_nurses))\n",
    "print(\"* theoretical average work time is {0:g} h\".format(avg_worktime))"
   ]
  },
  {
   "cell_type": "markdown",
   "metadata": {},
   "source": [
    "Let's analyze the series of deviations to the average, stored in a *pandas* Series."
   ]
  },
  {
   "cell_type": "code",
   "execution_count": 35,
   "metadata": {},
   "outputs": [
    {
     "name": "stdout",
     "output_type": "stream",
     "text": [
      "* the sum of absolute deviations from mean is 26.25\n"
     ]
    }
   ],
   "source": [
    "# a pandas series of worktimes solution values\n",
    "s_worktime = df_nurses.worktime.apply(lambda v: v.solution_value)\n",
    "\n",
    "# returns a new series computed as deviation from average\n",
    "s_to_mean = s_worktime - avg_worktime\n",
    "\n",
    "# take the absolute value\n",
    "s_abs_to_mean = s_to_mean.apply(abs)\n",
    "\n",
    "\n",
    "total_to_mean = s_abs_to_mean.sum()\n",
    "print(\"* the sum of absolute deviations from mean is {}\".format(total_to_mean))"
   ]
  },
  {
   "cell_type": "markdown",
   "metadata": {},
   "source": [
    "To see how work time is distributed among nurses, print a histogram of work time values.\n",
    "Note that, as all time data are integers, work times in the solution can take only integer values."
   ]
  },
  {
   "cell_type": "code",
   "execution_count": 36,
   "metadata": {},
   "outputs": [
    {
     "data": {
      "text/plain": "Text(0.5, 0, 'worktime')"
     },
     "execution_count": 36,
     "metadata": {},
     "output_type": "execute_result"
    },
    {
     "data": {
      "text/plain": "<Figure size 640x480 with 1 Axes>",
      "image/png": "[encoded data removed]"
     },
     "metadata": {},
     "output_type": "display_data"
    }
   ],
   "source": [
    "import matplotlib.pyplot as plt\n",
    "%matplotlib inline\n",
    "\n",
    "# we can also plot as a histogram the distribution of worktimes\n",
    "s_worktime.plot.hist(color='LightBlue')\n",
    "plt.xlabel(\"worktime\")"
   ]
  },
  {
   "cell_type": "markdown",
   "metadata": {},
   "source": [
    "#### How shifts are distributed\n",
    "\n",
    "Let's now analyze the solution from the _number of shifts_ perspective.\n",
    "How many shifts does each nurse work? Are these shifts fairly distributed amongst nurses?\n",
    "\n",
    "We compute a new column in our result DataFrame for the number of shifts worked,\n",
    "by summing rows (the *\"axis=1\"* argument in the *sum()* call indicates to *pandas* that each sum is performed by row instead of column):"
   ]
  },
  {
   "cell_type": "code",
   "execution_count": 37,
   "metadata": {},
   "outputs": [
    {
     "data": {
      "text/plain": "Text(0, 0.5, '#shifts worked')"
     },
     "execution_count": 37,
     "metadata": {},
     "output_type": "execute_result"
    },
    {
     "data": {
      "text/plain": "<Figure size 640x480 with 1 Axes>",
      "image/png": "[encoded data removed]"
     },
     "metadata": {},
     "output_type": "display_data"
    }
   ],
   "source": [
    "# a pandas series of #shifts worked\n",
    "df_worked = df_res[all_shifts].sum(axis=1)\n",
    "df_res[\"worked\"] = df_worked\n",
    "\n",
    "df_worked.plot.hist(color=\"gold\", xlim=(0,10))\n",
    "plt.ylabel(\"#shifts worked\")"
   ]
  },
  {
   "cell_type": "markdown",
   "metadata": {},
   "source": [
    "We see that one nurse works significantly fewer shifts than others do. What is the average number of shifts worked by a nurse? This is equal to the total demand divided by the number of nurses.\n",
    "\n",
    "Of course, this yields a fractional number of shifts that is not practical, but nonetheless will help us quantify\n",
    "the _fairness_ in shift distribution."
   ]
  },
  {
   "cell_type": "code",
   "execution_count": 38,
   "metadata": {},
   "outputs": [
    {
     "name": "stdout",
     "output_type": "stream",
     "text": [
      "-- expected avg #shifts worked is 6.96875\n",
      "-- total absolute deviation to mean #shifts is 15.5625\n"
     ]
    }
   ],
   "source": [
    "avg_worked = df_shifts[\"min_req\"].sum() / float(len(all_nurses))\n",
    "print(\"-- expected avg #shifts worked is {}\".format(avg_worked))\n",
    "\n",
    "worked_to_avg = df_res[\"worked\"] - avg_worked\n",
    "total_to_mean = worked_to_avg.apply(abs).sum()\n",
    "print(\"-- total absolute deviation to mean #shifts is {}\".format(total_to_mean))"
   ]
  },
  {
   "cell_type": "markdown",
   "metadata": {},
   "source": [
    "### Introducing a fairness goal\n",
    "\n",
    "As the above diagram suggests, the distribution of shifts could be improved.\n",
    "We implement this by adding one extra objective, _fairness_, which balances\n",
    "the shifts assigned over nurses.\n",
    "\n",
    "Note that we can edit the model, that  is add (or remove) constraints, even after it has been solved. \n",
    "\n",
    "### Step #1 : Introduce three new variables per nurse to model the \n",
    "number of shifts worked and positive and negative deviations to the average."
   ]
  },
  {
   "cell_type": "code",
   "execution_count": 39,
   "metadata": {},
   "outputs": [],
   "source": [
    "# add two extra variables per nurse: deviations above and below average\n",
    "df_nurses[\"worked\"]      = df_nurses.apply(lambda r: make_var(r, \"worked%s\"), axis=1)\n",
    "df_nurses[\"overworked\"]  = df_nurses.apply(lambda r: make_var(r, \"overw_%s\"), axis=1)\n",
    "df_nurses[\"underworked\"] = df_nurses.apply(lambda r: make_var(r, \"underw_%s\"), axis=1)"
   ]
  },
  {
   "cell_type": "markdown",
   "metadata": {},
   "source": [
    "### Step #2 : Post the constraint that links these variables together."
   ]
  },
  {
   "cell_type": "code",
   "execution_count": 40,
   "metadata": {},
   "outputs": [],
   "source": [
    "# Use the pandas groupby operation to enforce the constraint calculating number of worked shifts for each nurse\n",
    "for nurse, nurse_assignments in df_assigned.groupby(level='all_nurses'):\n",
    "    # nb of worked shifts is sum of assigned shifts\n",
    "    mdl.add_constraint(df_nurses.worked[nurse] == mdl.sum(nurse_assignments.assigned))\n",
    "\n",
    "for nurse in df_nurses.itertuples():\n",
    "    # nb worked is average + over - under\n",
    "    mdl.add_constraint(nurse.worked == avg_worked + nurse.overworked - nurse.underworked)"
   ]
  },
  {
   "cell_type": "markdown",
   "metadata": {},
   "source": [
    "### Step #3 : Define KPIs to measure the result after solve."
   ]
  },
  {
   "cell_type": "code",
   "execution_count": 41,
   "metadata": {},
   "outputs": [
    {
     "data": {
      "text/plain": "DecisionKPI(name=Total under-worked,expr=underw_Anne+underw_Bethanie+underw_Betsy+underw_Cathy+underw_Cec..)"
     },
     "execution_count": 41,
     "metadata": {},
     "output_type": "execute_result"
    }
   ],
   "source": [
    "# finally, define kpis for over and under average quantities\n",
    "total_overw = mdl.sum(df_nurses[\"overworked\"])\n",
    "mdl.add_kpi(total_overw, \"Total over-worked\")\n",
    "total_underw = mdl.sum(df_nurses[\"underworked\"])\n",
    "mdl.add_kpi(total_underw, \"Total under-worked\")"
   ]
  },
  {
   "cell_type": "markdown",
   "metadata": {},
   "source": [
    "Finally, let's modify the objective by adding the sum of `over_worked and under_worked` to the previous objective.\n",
    "\n",
    "**Note:** The definitions of `over_worked` and `under_worked` as described above are not sufficient to give them an unambiguous value. However, as all these variables are minimized, CPLEX ensures that these variables take the minimum possible values in the solution."
   ]
  },
  {
   "cell_type": "code",
   "execution_count": 42,
   "metadata": {},
   "outputs": [],
   "source": [
    "mdl.minimize(total_salary_cost + total_overw + total_underw)  # incorporate over_worked and under_worked in objective"
   ]
  },
  {
   "cell_type": "markdown",
   "metadata": {},
   "source": [
    "Our modified model is ready to solve.\n",
    "\n",
    "The `log_output=True` parameter tells CPLEX to print the log on the standard output."
   ]
  },
  {
   "cell_type": "code",
   "execution_count": 43,
   "metadata": {},
   "outputs": [
    {
     "name": "stdout",
     "output_type": "stream",
     "text": [
      "Version identifier: 22.1.1.0 | 2022-11-27 | 9160aff4d\n",
      "CPXPARAM_Read_DataCheck                          1\n",
      "CPXPARAM_MIP_Tolerances_MIPGap                   1.0000000000000001e-05\n",
      "1 of 27 MIP starts provided solutions.\n",
      "MIP start 'm1' defined initial solution with objective 29523.5625.\n",
      "Tried aggregator 2 times.\n",
      "MIP Presolve eliminated 1010 rows and 388 columns.\n",
      "MIP Presolve modified 90 coefficients.\n",
      "Aggregator did 74 substitutions.\n",
      "Reduced MIP has 590 rows, 1008 columns, and 3940 nonzeros.\n",
      "Reduced MIP has 914 binaries, 0 generals, 0 SOSs, and 0 indicators.\n",
      "Presolve time = 0.00 sec. (4.39 ticks)\n",
      "Probing time = 0.00 sec. (0.60 ticks)\n",
      "Tried aggregator 1 time.\n",
      "Detecting symmetries...\n",
      "MIP Presolve eliminated 2 rows and 4 columns.\n",
      "Reduced MIP has 588 rows, 1004 columns, and 3894 nonzeros.\n",
      "Reduced MIP has 914 binaries, 30 generals, 0 SOSs, and 0 indicators.\n",
      "Presolve time = 0.00 sec. (2.43 ticks)\n",
      "Probing time = 0.00 sec. (0.60 ticks)\n",
      "Clique table members: 486.\n",
      "MIP emphasis: balance optimality and feasibility.\n",
      "MIP search method: dynamic search.\n",
      "Parallel mode: deterministic, using up to 12 threads.\n",
      "Root relaxation solution time = 0.00 sec. (12.28 ticks)\n",
      "\n",
      "        Nodes                                         Cuts/\n",
      "   Node  Left     Objective  IInf  Best Integer    Best Bound    ItCnt     Gap\n",
      "\n",
      "*     0+    0                        29523.5625        0.0000           100.00%\n",
      "      0     0    29508.0000   104    29523.5625    29508.0000      909    0.05%\n",
      "      0     0    29509.9375    76    29523.5625      Cuts: 98     1329    0.05%\n",
      "*     0+    0                        29521.5625    29509.9375             0.04%\n",
      "      0     0    29509.9375    88    29521.5625      Cuts: 92     1591    0.04%\n",
      "      0     0    29509.9375    21    29521.5625       Cuts: 6     1634    0.04%\n",
      "      0     0    29509.9375     4    29521.5625      Cuts: 37     1736    0.04%\n",
      "      0     0    29509.9375    15    29521.5625       Cuts: 8     1802    0.04%\n",
      "*     0+    0                        29511.8750    29509.9375             0.01%\n",
      "      0     2    29509.9375     6    29511.8750    29509.9375     1802    0.01%\n",
      "Elapsed time = 0.31 sec. (233.10 ticks, tree = 0.02 MB, solutions = 3)\n",
      "   1366   880    29509.9375     6    29511.8750    29509.9375    55293    0.01%\n",
      "   4305  3606    29510.9062    18    29511.8750    29509.9375   128891    0.01%\n",
      "*  4684+ 3323                        29509.9375    29509.9375             0.00%\n",
      "\n",
      "GUB cover cuts applied:  20\n",
      "Cover cuts applied:  154\n",
      "Flow cuts applied:  22\n",
      "Mixed integer rounding cuts applied:  55\n",
      "Zero-half cuts applied:  15\n",
      "Lift and project cuts applied:  4\n",
      "Gomory fractional cuts applied:  7\n",
      "\n",
      "Root node processing (before b&c):\n",
      "  Real time             =    0.27 sec. (232.78 ticks)\n",
      "Parallel b&c, 12 threads:\n",
      "  Real time             =    0.66 sec. (651.13 ticks)\n",
      "  Sync time (average)   =    0.10 sec.\n",
      "  Wait time (average)   =    0.00 sec.\n",
      "                          ------------\n",
      "Total (root+branch&cut) =    0.92 sec. (883.90 ticks)\n",
      "* model nurses solved with objective = 29509.938\n",
      "*  KPI: Total salary cost  = 29508.000\n",
      "*  KPI: Total over-worked  = 0.969\n",
      "*  KPI: Total under-worked = 0.969\n"
     ]
    }
   ],
   "source": [
    "sol2 = mdl.solve(log_output=True)  # solve again and get a new solution\n",
    "assert sol2, \"Solve failed\"\n",
    "mdl.report()"
   ]
  },
  {
   "cell_type": "markdown",
   "metadata": {},
   "source": [
    "### Step #4 : Alternative solve: multi-objective\n",
    "Instead of aggregating all objectives into a single goal, one may prioritize goals.\n",
    "For instance, one may first minimize cost, and then optimize fairness.\n",
    "This is a 2 steps optimization which may be configured by exploiting the multi-objective API of docplex as follows:"
   ]
  },
  {
   "cell_type": "markdown",
   "metadata": {},
   "source": [
    "First, redefine the optimization problem as a multi-objective minimization.\n",
    "Objectives are grouped into sub-problems with respect to the list of priorities that is provided. The number of items in the prioriries list must be the same as the number of objectives.\n",
    "\n",
    "Sub-problems are solved one after the other in the order of decreasing priorities.\n",
    "\n",
    "Objectives with same priorities are blended into an aggregated goal, where each objective is weighted according to the values provided in the _weights_ list. If no list of weights is provided, all objectives have unitary weight."
   ]
  },
  {
   "cell_type": "code",
   "execution_count": 44,
   "metadata": {},
   "outputs": [],
   "source": [
    "from docplex.mp.constants import ObjectiveSense\n",
    "\n",
    "mdl.set_multi_objective(ObjectiveSense.Minimize, [total_salary_cost, total_overw, total_underw], priorities=[1, 0, 0])"
   ]
  },
  {
   "cell_type": "markdown",
   "metadata": {},
   "source": [
    "For multi-objectives probles, solve is performed in the same way:"
   ]
  },
  {
   "cell_type": "code",
   "execution_count": 45,
   "metadata": {},
   "outputs": [
    {
     "name": "stdout",
     "output_type": "stream",
     "text": [
      "Version identifier: 22.1.1.0 | 2022-11-27 | 9160aff4d\n",
      "CPXPARAM_Read_DataCheck                          1\n",
      "CPXPARAM_MIP_Tolerances_MIPGap                   1.0000000000000001e-05\n",
      "\n",
      "Multi-objective solve log . . .\n",
      "\n",
      "Index  Priority  Blend          Objective      Nodes  Time (sec.)  DetTime (ticks)\n",
      "    1         1      1   2.9508000000e+04          0         0.02            13.96\n",
      "    2         0      2   1.9374999680e+00          0         0.09            78.69\n",
      "* model nurses solved with objectives = [29508.000, 0.969, 0.969]\n",
      "*  KPI: Total salary cost  = 29508.000\n",
      "*  KPI: Total over-worked  = 0.969\n",
      "*  KPI: Total under-worked = 0.969\n"
     ]
    }
   ],
   "source": [
    "sol3 = mdl.solve(log_output=True)  # solve the multi-objective problem\n",
    "assert sol3, \"Solve failed\"\n",
    "mdl.report()"
   ]
  },
  {
   "cell_type": "markdown",
   "metadata": {},
   "source": [
    "In this example, one gets the same solution when blending all the objectives together (Step #3) or when decomposing the problems into two sub-problems, setting higher priority for cost minimization."
   ]
  },
  {
   "cell_type": "markdown",
   "metadata": {},
   "source": [
    "However, if one wants to optimize fairness first, and then cost, multi-objective solve returns a different solution:"
   ]
  },
  {
   "cell_type": "code",
   "execution_count": 46,
   "metadata": {},
   "outputs": [
    {
     "name": "stdout",
     "output_type": "stream",
     "text": [
      "Version identifier: 22.1.1.0 | 2022-11-27 | 9160aff4d\n",
      "CPXPARAM_Read_DataCheck                          1\n",
      "CPXPARAM_MIP_Tolerances_MIPGap                   1.0000000000000001e-05\n",
      "\n",
      "Multi-objective solve log . . .\n",
      "\n",
      "Index  Priority  Blend          Objective      Nodes  Time (sec.)  DetTime (ticks)\n",
      "    1         1      2   9.9999999600e-01          0         0.11            96.67\n",
      "    2         0      1   2.9584000000e+04          0         0.25           187.73\n",
      "* model nurses solved with objectives = [1.000, -0.000, 29584.000]\n",
      "*  KPI: Total salary cost  = 29584.000\n",
      "*  KPI: Total over-worked  = 1.000\n",
      "*  KPI: Total under-worked = -0.000\n"
     ]
    }
   ],
   "source": [
    "mdl.set_multi_objective(ObjectiveSense.Minimize, [total_overw, total_underw, total_salary_cost], priorities=[1, 1, 0])\n",
    "\n",
    "sol4 = mdl.solve(log_output=True)  # solve the multi-objective problem\n",
    "assert sol4, \"Solve failed\"\n",
    "mdl.report()"
   ]
  },
  {
   "cell_type": "markdown",
   "metadata": {},
   "source": [
    "## Summary\n",
    "\n",
    "You learned how to set up and use IBM Decision Optimization CPLEX Modeling for Python to formulate a Mathematical Programming model and solve it with IBM Decision Optimization on Cloud.\n",
    "\n",
    "You also learned how to setup your problems if different objective are considered for evaluating solutions."
   ]
  },
  {
   "cell_type": "markdown",
   "metadata": {},
   "source": [
    "## References\n",
    "* [CPLEX Modeling for Python documentation](http://ibmdecisionoptimization.github.io/docplex-doc/)\n",
    "* [IBM Decision Optimization](https://www.ibm.com/analytics/decision-optimization)\n",
    "* Need help with DOcplex or to report a bug? Please go [here](https://stackoverflow.com/questions/tagged/docplex).\n",
    "* Contact us at dofeedback@wwpdl.vnet.ibm.com."
   ]
  },
  {
   "cell_type": "markdown",
   "metadata": {},
   "source": [
    "Copyright &copy; 2017-2022 IBM. IPLA licensed Sample Materials."
   ]
  },
  {
   "cell_type": "code",
   "execution_count": 46,
   "metadata": {},
   "outputs": [],
   "source": []
  },
  {
   "cell_type": "code",
   "execution_count": 54,
   "outputs": [],
   "source": [
    "from utils import *\n",
    "fname = \"..\\\\..\\\\..\\\\data\\\\NRP\\\\NRC\\\\Instance6.txt\"\n",
    "problem = NRCProblem()\n",
    "problem.load_from_txt(fname)\n"
   ],
   "metadata": {
    "collapsed": false
   }
  }
 ],
 "metadata": {
  "kernelspec": {
   "display_name": "Python 3",
   "language": "python",
   "name": "python3"
  },
  "language_info": {
   "codemirror_mode": {
    "name": "ipython",
    "version": 3
   },
   "file_extension": ".py",
   "mimetype": "text/x-python",
   "name": "python",
   "nbconvert_exporter": "python",
   "pygments_lexer": "ipython3",
   "version": "3.7.8"
  }
 },
 "nbformat": 4,
 "nbformat_minor": 1
}
