{
 "cells": [
  {
   "cell_type": "code",
   "id": "initial_id",
   "metadata": {
    "collapsed": true,
    "ExecuteTime": {
     "end_time": "2024-05-24T18:17:02.939932Z",
     "start_time": "2024-05-24T18:17:02.835908Z"
    }
   },
   "source": [
    "%load_ext autoreload\n",
    "%autoreload 2"
   ],
   "outputs": [
    {
     "name": "stdout",
     "output_type": "stream",
     "text": [
      "The autoreload extension is already loaded. To reload it, use:\n",
      "  %reload_ext autoreload\n"
     ]
    }
   ],
   "execution_count": 10
  },
  {
   "metadata": {
    "ExecuteTime": {
     "end_time": "2024-05-24T18:17:03.050920Z",
     "start_time": "2024-05-24T18:17:02.940932Z"
    }
   },
   "cell_type": "code",
   "source": [
    "import csv\n",
    "import os\n",
    "import sys\n",
    "import json\n",
    "import pandas as pd\n",
    "import numpy as np\n",
    "from matplotlib import pyplot as plt\n",
    "import matplotlib.ticker as ticker\n",
    "import seaborn as sns\n",
    "\n",
    "from src.general_optimization_solver import *\n",
    "from src.nrp.problem import *\n",
    "from src.nrp.solvers.solver_cp import *"
   ],
   "id": "c6af3de6a400ebe1",
   "outputs": [],
   "execution_count": 11
  },
  {
   "metadata": {
    "ExecuteTime": {
     "end_time": "2024-05-24T18:19:07.506094Z",
     "start_time": "2024-05-24T18:19:07.287045Z"
    }
   },
   "cell_type": "code",
   "source": [
    "# load the data\n",
    "\n",
    "folder = \"..\\\\..\\\\data\\\\NRP\\\\NRC\\\\\"\n",
    "\n",
    "for file in os.listdir(folder):\n",
    "    if file.endswith(\".json\"):\n",
    "        instance = load_instance(folder + file)\n",
    "        name = instance._instance_name\n",
    "        best = instance._solution['optimum']\n",
    "        for run in instance._run_history:\n",
    "            print(f\"{name} {run['solver_name']} refence: {best} found: {run['solution_value']} gap: {run['solution_value']/best}, time: {run['solve_time']}\")"
   ],
   "id": "3fa107b5ba64f25",
   "outputs": [
    {
     "name": "stdout",
     "output_type": "stream",
     "text": [
      "Instance1 CP Integer Model refence: 607 found: 1204 gap: 1.983525535420099, time: [5.468]\n",
      "Instance10 CP Integer Model refence: 4631 found: 12745 gap: 2.7521053768084647, time: [900.074]\n",
      "Instance11 CP Integer Model refence: 3443 found: 5848643359749961 gap: 1698705593886.1345, time: [900.103]\n",
      "Instance12 CP Integer Model refence: 4040 found: 9007199254740991 gap: 2229504766024.9976, time: [900.133]\n",
      "Instance14 CP Integer Model refence: 1278 found: 9945 gap: 7.78169014084507, time: [900.094]\n",
      "Instance15 CP Integer Model refence: 3829 found: 9007199254740991 gap: 2352363346759.2036, time: [900.329]\n",
      "Instance16 CP Integer Model refence: 3225 found: 9007199254740991 gap: 2792930001470.0747, time: [900.079]\n",
      "Instance17 CP Integer Model refence: 5746 found: 9007199254740991 gap: 1567559912067.6978, time: [900.228]\n",
      "Instance18 CP Integer Model refence: 4459 found: 9007199254740991 gap: 2020004318174.701, time: [900.147]\n",
      "Instance2 CP Integer Model refence: 828 found: 2121 gap: 2.5615942028985508, time: [900.015]\n",
      "Instance3 CP Integer Model refence: 1001 found: 3007 gap: 3.003996003996004, time: [900.057]\n",
      "Instance4 CP Integer Model refence: 1716 found: 3112 gap: 1.8135198135198136, time: [900.021]\n",
      "Instance5 CP Integer Model refence: 1143 found: 4529 gap: 3.962379702537183, time: [900.028]\n",
      "Instance6 CP Integer Model refence: 1950 found: 5227 gap: 2.6805128205128206, time: [900.037]\n",
      "Instance7 CP Integer Model refence: 1056 found: 4634 gap: 4.388257575757576, time: [900.029]\n",
      "Instance8 CP Integer Model refence: 1300 found: 6711 gap: 5.162307692307692, time: [900.057]\n",
      "Instance9 CP Integer Model refence: 439 found: 2657 gap: 6.052391799544419, time: [900.061]\n"
     ]
    }
   ],
   "execution_count": 15
  }
 ],
 "metadata": {
  "kernelspec": {
   "display_name": "Python 3",
   "language": "python",
   "name": "python3"
  },
  "language_info": {
   "codemirror_mode": {
    "name": "ipython",
    "version": 2
   },
   "file_extension": ".py",
   "mimetype": "text/x-python",
   "name": "python",
   "nbconvert_exporter": "python",
   "pygments_lexer": "ipython2",
   "version": "2.7.6"
  }
 },
 "nbformat": 4,
 "nbformat_minor": 5
}
