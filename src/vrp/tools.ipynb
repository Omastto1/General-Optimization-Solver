{
 "cells": [
  {
   "cell_type": "code",
   "outputs": [],
   "source": [
    "%load_ext autoreload\n",
    "%autoreload 2"
   ],
   "metadata": {
    "collapsed": false,
    "ExecuteTime": {
     "end_time": "2024-03-14T18:52:25.355468600Z",
     "start_time": "2024-03-14T18:52:25.296950600Z"
    }
   },
   "execution_count": 1
  },
  {
   "cell_type": "code",
   "outputs": [],
   "source": [
    "import csv\n",
    "import os\n",
    "import sys\n",
    "import json\n",
    "import pandas as pd\n",
    "import numpy as np\n",
    "from matplotlib import pyplot as plt\n",
    "import matplotlib.ticker as ticker\n",
    "import seaborn as sns"
   ],
   "metadata": {
    "collapsed": false,
    "ExecuteTime": {
     "end_time": "2024-03-14T18:52:26.428008700Z",
     "start_time": "2024-03-14T18:52:25.358469900Z"
    }
   },
   "execution_count": 2
  },
  {
   "cell_type": "code",
   "outputs": [
    {
     "name": "stdout",
     "output_type": "stream",
     "text": [
      "C:\\Users\\micha\\OneDrive - České vysoké učení technické v Praze\\Dokumenty\\PycharmProjects\\optimizin\\General-Optimization-Solver\\src\\vrp\\old\n"
     ]
    }
   ],
   "source": [
    "# list working dir\n",
    "\n",
    "print(os.getcwd())"
   ],
   "metadata": {
    "collapsed": false
   },
   "execution_count": 5
  },
  {
   "cell_type": "code",
   "outputs": [],
   "source": [
    "# renaming results\n",
    "\n",
    "import os\n",
    "import json\n",
    "\n",
    "def process_json_files(folder_path):\n",
    "    for filename in os.listdir(folder_path):\n",
    "        if filename.endswith('.json'):\n",
    "            file_path = os.path.join(folder_path, filename)\n",
    "            with open(file_path, 'r') as file:\n",
    "                data = json.load(file)\n",
    "\n",
    "            # Seřadíme záznamy ve slovníku\n",
    "            data = {\n",
    "                'benchmark_name': data.pop('benchmark_name'),\n",
    "                'instance_name': os.path.splitext(filename)[0],  # Consistency with original source of Solomon instances\n",
    "                'instance_kind': 'CVRPTW',\n",
    "                'reference_solution': data.pop('reference_solution'),\n",
    "                'data': data.pop('data'),\n",
    "                'run_history': data.pop('run_history'),\n",
    "            }\n",
    "            \n",
    "            # Uložíme změny zpět do JSON souboru\n",
    "            with open(file_path, 'w') as file:\n",
    "                json.dump(data, file, indent=4)\n",
    "        # break\n",
    "\n",
    "folder_path = \"..\\\\..\\\\data\\\\VRPTW\\\\solomon_25\\\\\"\n",
    "process_json_files(folder_path)\n"
   ],
   "metadata": {
    "collapsed": false
   }
  }
 ],
 "metadata": {
  "kernelspec": {
   "display_name": "Python 3 (ipykernel)",
   "language": "python",
   "name": "python3"
  },
  "language_info": {
   "codemirror_mode": {
    "name": "ipython",
    "version": 3
   },
   "file_extension": ".py",
   "mimetype": "text/x-python",
   "name": "python",
   "nbconvert_exporter": "python",
   "pygments_lexer": "ipython3",
   "version": "3.10.11"
  }
 },
 "nbformat": 4,
 "nbformat_minor": 1
}
