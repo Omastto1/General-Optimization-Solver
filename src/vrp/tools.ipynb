{
 "cells": [
  {
   "cell_type": "code",
   "source": [
    "%load_ext autoreload\n",
    "%autoreload 2"
   ],
   "metadata": {
    "collapsed": false,
    "ExecuteTime": {
     "end_time": "2024-05-19T00:37:28.389233Z",
     "start_time": "2024-05-19T00:37:27.943114Z"
    }
   },
   "outputs": [
    {
     "name": "stdout",
     "output_type": "stream",
     "text": [
      "The autoreload extension is already loaded. To reload it, use:\n",
      "  %reload_ext autoreload\n"
     ]
    }
   ],
   "execution_count": 23
  },
  {
   "cell_type": "code",
   "source": [
    "import csv\n",
    "import os\n",
    "import sys\n",
    "import json\n",
    "import pandas as pd\n",
    "import numpy as np\n",
    "from matplotlib import pyplot as plt\n",
    "import matplotlib.ticker as ticker\n",
    "import seaborn as sns"
   ],
   "metadata": {
    "collapsed": false,
    "ExecuteTime": {
     "end_time": "2024-05-19T00:37:30.114720Z",
     "start_time": "2024-05-19T00:37:29.990579Z"
    }
   },
   "outputs": [],
   "execution_count": 24
  },
  {
   "cell_type": "code",
   "source": [
    "# list working dir\n",
    "\n",
    "print(os.getcwd())"
   ],
   "metadata": {
    "collapsed": false,
    "ExecuteTime": {
     "end_time": "2024-05-06T13:17:06.369666Z",
     "start_time": "2024-05-06T13:17:06.274645Z"
    }
   },
   "outputs": [
    {
     "name": "stdout",
     "output_type": "stream",
     "text": [
      "C:\\Users\\micha\\OneDrive - České vysoké učení technické v Praze\\Dokumenty\\PycharmProjects\\optimizin\\General-Optimization-Solver\\src\\vrp\n"
     ]
    }
   ],
   "execution_count": 3
  },
  {
   "cell_type": "code",
   "source": [
    "# renaming results\n",
    "\n",
    "\n",
    "def process_json_files(folder_path):\n",
    "    for filename in os.listdir(folder_path):\n",
    "        if filename.endswith('.json'):\n",
    "            file_path = os.path.join(folder_path, filename)\n",
    "            with open(file_path, 'r') as file:\n",
    "                data = json.load(file)\n",
    "                \n",
    "            run_history = data.pop('run_history')\n",
    "            \n",
    "            for run in run_history:\n",
    "                if 'solver_type' in run.keys() and run['solver_type'] == 'GA':\n",
    "                    run['solution_progress'] = [[run['solution_value']*10, run['solve_time'], -1]]\n",
    "\n",
    "            # Seřadíme záznamy ve slovníku\n",
    "            data = {\n",
    "                'instance_kind': 'VRPTW',\n",
    "                'benchmark_name': 'solomon_100',\n",
    "                'instance_name': data.pop('instance_name'),  # Consistency with original source of Solomon instances\n",
    "                'reference_solution': data.pop('reference_solution'),\n",
    "                'data': data.pop('data'),\n",
    "                'run_history': run_history,\n",
    "            }\n",
    "            \n",
    "            # Uložíme změny zpět do JSON souboru\n",
    "            with open(file_path, 'w') as file:\n",
    "                json.dump(data, file, indent=4)\n",
    "        # break\n",
    "\n",
    "folder_path = \"..\\\\..\\\\data\\\\VRPTW\\\\solomon_100\\\\\"\n",
    "process_json_files(folder_path)\n"
   ],
   "metadata": {
    "collapsed": false,
    "ExecuteTime": {
     "end_time": "2024-05-05T11:16:41.912224Z",
     "start_time": "2024-05-05T11:16:41.066984Z"
    }
   },
   "outputs": [],
   "execution_count": 5
  },
  {
   "metadata": {
    "ExecuteTime": {
     "end_time": "2024-05-19T00:39:27.734793Z",
     "start_time": "2024-05-19T00:39:23.753712Z"
    }
   },
   "cell_type": "code",
   "source": [
    "# merge results\n",
    "\n",
    "folder = \"..\\\\..\\\\output\\\\\"\n",
    "\n",
    "subfolders = [f.path for f in os.scandir(folder) if f.is_dir()]\n",
    "print(subfolders)\n",
    "\n",
    "# Ask user to choose the target folder\n",
    "\n",
    "for i, folder in enumerate(subfolders):\n",
    "    print(f\"{i}: {folder}\")\n",
    "\n",
    "print()\n",
    "\n",
    "target_folder = subfolders[int(input(\"Choose target folder: \"))]\n",
    "\n",
    "# use the first subfolder as target and copy the last results to them\n",
    "\n",
    "for benchmark in os.scandir(subfolders[-1]):\n",
    "    if benchmark.is_dir():\n",
    "        print(benchmark.path)\n",
    "        for file in os.scandir(benchmark):\n",
    "            file_path = file.path\n",
    "            if file_path.endswith('.json'):\n",
    "                print(file_path)\n",
    "                with open(file, 'r') as f:\n",
    "                    target = json.load(f)\n",
    "                for folder in subfolders[:-1]:\n",
    "                    if not os.path.exists(os.path.join(folder, benchmark.name, file.name)):\n",
    "                        continue\n",
    "                    with open(os.path.join(folder, benchmark.name, file.name), 'r') as f:\n",
    "                        source = json.load(f)\n",
    "                    new = source['run_history'][-1]\n",
    "                    target['run_history'].append(new)\n",
    "                with open(file_path, 'w') as f:\n",
    "                    json.dump(target, f, indent=4)\n",
    "                    "
   ],
   "outputs": [
    {
     "name": "stdout",
     "output_type": "stream",
     "text": [
      "['..\\\\..\\\\output\\\\1', '..\\\\..\\\\output\\\\2']\n",
      "0: ..\\..\\output\\1\n",
      "1: ..\\..\\output\\2\n",
      "\n",
      "..\\..\\output\\2\\my_output\n",
      "..\\..\\output\\2\\solomon_100\n",
      "..\\..\\output\\2\\solomon_100\\C101.json\n",
      "..\\..\\output\\2\\solomon_100\\C102.json\n",
      "..\\..\\output\\2\\solomon_100\\C103.json\n",
      "..\\..\\output\\2\\solomon_100\\C104.json\n",
      "..\\..\\output\\2\\solomon_100\\C105.json\n",
      "..\\..\\output\\2\\solomon_100\\C106.json\n",
      "..\\..\\output\\2\\solomon_100\\C107.json\n",
      "..\\..\\output\\2\\solomon_100\\C108.json\n",
      "..\\..\\output\\2\\solomon_100\\C109.json\n",
      "..\\..\\output\\2\\solomon_100\\C201.json\n",
      "..\\..\\output\\2\\solomon_100\\C202.json\n",
      "..\\..\\output\\2\\solomon_100\\C203.json\n",
      "..\\..\\output\\2\\solomon_100\\C204.json\n",
      "..\\..\\output\\2\\solomon_100\\C205.json\n",
      "..\\..\\output\\2\\solomon_100\\C206.json\n",
      "..\\..\\output\\2\\solomon_100\\C207.json\n",
      "..\\..\\output\\2\\solomon_100\\C208.json\n",
      "..\\..\\output\\2\\solomon_100\\R101.json\n",
      "..\\..\\output\\2\\solomon_100\\R102.json\n",
      "..\\..\\output\\2\\solomon_100\\R103.json\n",
      "..\\..\\output\\2\\solomon_100\\R104.json\n",
      "..\\..\\output\\2\\solomon_100\\R105.json\n",
      "..\\..\\output\\2\\solomon_100\\R106.json\n",
      "..\\..\\output\\2\\solomon_100\\R107.json\n",
      "..\\..\\output\\2\\solomon_100\\R108.json\n",
      "..\\..\\output\\2\\solomon_100\\R109.json\n",
      "..\\..\\output\\2\\solomon_100\\R110.json\n",
      "..\\..\\output\\2\\solomon_100\\R111.json\n",
      "..\\..\\output\\2\\solomon_100\\R112.json\n",
      "..\\..\\output\\2\\solomon_100\\R201.json\n",
      "..\\..\\output\\2\\solomon_100\\R202.json\n",
      "..\\..\\output\\2\\solomon_100\\R203.json\n",
      "..\\..\\output\\2\\solomon_100\\R204.json\n",
      "..\\..\\output\\2\\solomon_100\\R205.json\n",
      "..\\..\\output\\2\\solomon_100\\R206.json\n",
      "..\\..\\output\\2\\solomon_100\\R207.json\n",
      "..\\..\\output\\2\\solomon_100\\R208.json\n",
      "..\\..\\output\\2\\solomon_100\\R209.json\n",
      "..\\..\\output\\2\\solomon_100\\R210.json\n",
      "..\\..\\output\\2\\solomon_100\\R211.json\n",
      "..\\..\\output\\2\\solomon_100\\RC101.json\n",
      "..\\..\\output\\2\\solomon_100\\RC102.json\n",
      "..\\..\\output\\2\\solomon_100\\RC103.json\n",
      "..\\..\\output\\2\\solomon_100\\RC104.json\n",
      "..\\..\\output\\2\\solomon_100\\RC105.json\n",
      "..\\..\\output\\2\\solomon_100\\RC106.json\n",
      "..\\..\\output\\2\\solomon_100\\RC107.json\n",
      "..\\..\\output\\2\\solomon_100\\RC108.json\n",
      "..\\..\\output\\2\\solomon_100\\RC201.json\n",
      "..\\..\\output\\2\\solomon_100\\RC202.json\n",
      "..\\..\\output\\2\\solomon_100\\RC203.json\n",
      "..\\..\\output\\2\\solomon_100\\RC204.json\n",
      "..\\..\\output\\2\\solomon_100\\RC205.json\n",
      "..\\..\\output\\2\\solomon_100\\RC206.json\n",
      "..\\..\\output\\2\\solomon_100\\RC207.json\n",
      "..\\..\\output\\2\\solomon_100\\RC208.json\n",
      "..\\..\\output\\2\\solomon_25\n",
      "..\\..\\output\\2\\solomon_25\\C101.json\n",
      "..\\..\\output\\2\\solomon_25\\C102.json\n",
      "..\\..\\output\\2\\solomon_25\\C103.json\n",
      "..\\..\\output\\2\\solomon_25\\C104.json\n",
      "..\\..\\output\\2\\solomon_25\\C105.json\n",
      "..\\..\\output\\2\\solomon_25\\C106.json\n",
      "..\\..\\output\\2\\solomon_25\\C107.json\n",
      "..\\..\\output\\2\\solomon_25\\C108.json\n",
      "..\\..\\output\\2\\solomon_25\\C109.json\n",
      "..\\..\\output\\2\\solomon_25\\C201.json\n",
      "..\\..\\output\\2\\solomon_25\\C202.json\n",
      "..\\..\\output\\2\\solomon_25\\C203.json\n",
      "..\\..\\output\\2\\solomon_25\\C204.json\n",
      "..\\..\\output\\2\\solomon_25\\C205.json\n",
      "..\\..\\output\\2\\solomon_25\\C206.json\n",
      "..\\..\\output\\2\\solomon_25\\C207.json\n",
      "..\\..\\output\\2\\solomon_25\\C208.json\n",
      "..\\..\\output\\2\\solomon_25\\R101.json\n",
      "..\\..\\output\\2\\solomon_25\\R102.json\n",
      "..\\..\\output\\2\\solomon_25\\R103.json\n",
      "..\\..\\output\\2\\solomon_25\\R104.json\n",
      "..\\..\\output\\2\\solomon_25\\R105.json\n",
      "..\\..\\output\\2\\solomon_25\\R106.json\n",
      "..\\..\\output\\2\\solomon_25\\R107.json\n",
      "..\\..\\output\\2\\solomon_25\\R108.json\n",
      "..\\..\\output\\2\\solomon_25\\R109.json\n",
      "..\\..\\output\\2\\solomon_25\\R110.json\n",
      "..\\..\\output\\2\\solomon_25\\R111.json\n",
      "..\\..\\output\\2\\solomon_25\\R112.json\n",
      "..\\..\\output\\2\\solomon_25\\R201.json\n",
      "..\\..\\output\\2\\solomon_25\\R202.json\n",
      "..\\..\\output\\2\\solomon_25\\R203.json\n",
      "..\\..\\output\\2\\solomon_25\\R204.json\n",
      "..\\..\\output\\2\\solomon_25\\R205.json\n",
      "..\\..\\output\\2\\solomon_25\\R206.json\n",
      "..\\..\\output\\2\\solomon_25\\R207.json\n",
      "..\\..\\output\\2\\solomon_25\\R208.json\n",
      "..\\..\\output\\2\\solomon_25\\R209.json\n",
      "..\\..\\output\\2\\solomon_25\\R210.json\n",
      "..\\..\\output\\2\\solomon_25\\R211.json\n",
      "..\\..\\output\\2\\solomon_25\\RC101.json\n",
      "..\\..\\output\\2\\solomon_25\\RC102.json\n",
      "..\\..\\output\\2\\solomon_25\\RC103.json\n",
      "..\\..\\output\\2\\solomon_25\\RC104.json\n",
      "..\\..\\output\\2\\solomon_25\\RC105.json\n",
      "..\\..\\output\\2\\solomon_25\\RC106.json\n",
      "..\\..\\output\\2\\solomon_25\\RC107.json\n",
      "..\\..\\output\\2\\solomon_25\\RC108.json\n",
      "..\\..\\output\\2\\solomon_25\\RC201.json\n",
      "..\\..\\output\\2\\solomon_25\\RC202.json\n",
      "..\\..\\output\\2\\solomon_25\\RC203.json\n",
      "..\\..\\output\\2\\solomon_25\\RC204.json\n",
      "..\\..\\output\\2\\solomon_25\\RC205.json\n",
      "..\\..\\output\\2\\solomon_25\\RC206.json\n",
      "..\\..\\output\\2\\solomon_25\\RC207.json\n",
      "..\\..\\output\\2\\solomon_25\\RC208.json\n",
      "..\\..\\output\\2\\solomon_50\n",
      "..\\..\\output\\2\\solomon_50\\C101.json\n",
      "..\\..\\output\\2\\solomon_50\\C102.json\n",
      "..\\..\\output\\2\\solomon_50\\C103.json\n",
      "..\\..\\output\\2\\solomon_50\\C104.json\n",
      "..\\..\\output\\2\\solomon_50\\C105.json\n",
      "..\\..\\output\\2\\solomon_50\\C106.json\n",
      "..\\..\\output\\2\\solomon_50\\C107.json\n",
      "..\\..\\output\\2\\solomon_50\\C108.json\n",
      "..\\..\\output\\2\\solomon_50\\C109.json\n",
      "..\\..\\output\\2\\solomon_50\\C201.json\n",
      "..\\..\\output\\2\\solomon_50\\C202.json\n",
      "..\\..\\output\\2\\solomon_50\\C203.json\n",
      "..\\..\\output\\2\\solomon_50\\C204.json\n",
      "..\\..\\output\\2\\solomon_50\\C205.json\n",
      "..\\..\\output\\2\\solomon_50\\C206.json\n",
      "..\\..\\output\\2\\solomon_50\\C207.json\n",
      "..\\..\\output\\2\\solomon_50\\C208.json\n",
      "..\\..\\output\\2\\solomon_50\\R101.json\n",
      "..\\..\\output\\2\\solomon_50\\R102.json\n",
      "..\\..\\output\\2\\solomon_50\\R103.json\n",
      "..\\..\\output\\2\\solomon_50\\R104.json\n",
      "..\\..\\output\\2\\solomon_50\\R105.json\n",
      "..\\..\\output\\2\\solomon_50\\R106.json\n",
      "..\\..\\output\\2\\solomon_50\\R107.json\n",
      "..\\..\\output\\2\\solomon_50\\R108.json\n",
      "..\\..\\output\\2\\solomon_50\\R109.json\n",
      "..\\..\\output\\2\\solomon_50\\R110.json\n",
      "..\\..\\output\\2\\solomon_50\\R111.json\n",
      "..\\..\\output\\2\\solomon_50\\R112.json\n",
      "..\\..\\output\\2\\solomon_50\\R201.json\n",
      "..\\..\\output\\2\\solomon_50\\R202.json\n",
      "..\\..\\output\\2\\solomon_50\\R203.json\n",
      "..\\..\\output\\2\\solomon_50\\R204.json\n",
      "..\\..\\output\\2\\solomon_50\\R205.json\n",
      "..\\..\\output\\2\\solomon_50\\R206.json\n",
      "..\\..\\output\\2\\solomon_50\\R207.json\n",
      "..\\..\\output\\2\\solomon_50\\R208.json\n",
      "..\\..\\output\\2\\solomon_50\\R209.json\n",
      "..\\..\\output\\2\\solomon_50\\R210.json\n",
      "..\\..\\output\\2\\solomon_50\\R211.json\n",
      "..\\..\\output\\2\\solomon_50\\RC101.json\n",
      "..\\..\\output\\2\\solomon_50\\RC102.json\n",
      "..\\..\\output\\2\\solomon_50\\RC103.json\n",
      "..\\..\\output\\2\\solomon_50\\RC104.json\n",
      "..\\..\\output\\2\\solomon_50\\RC105.json\n",
      "..\\..\\output\\2\\solomon_50\\RC106.json\n",
      "..\\..\\output\\2\\solomon_50\\RC107.json\n",
      "..\\..\\output\\2\\solomon_50\\RC108.json\n",
      "..\\..\\output\\2\\solomon_50\\RC201.json\n",
      "..\\..\\output\\2\\solomon_50\\RC202.json\n",
      "..\\..\\output\\2\\solomon_50\\RC203.json\n",
      "..\\..\\output\\2\\solomon_50\\RC204.json\n",
      "..\\..\\output\\2\\solomon_50\\RC205.json\n",
      "..\\..\\output\\2\\solomon_50\\RC206.json\n",
      "..\\..\\output\\2\\solomon_50\\RC207.json\n",
      "..\\..\\output\\2\\solomon_50\\RC208.json\n"
     ]
    }
   ],
   "execution_count": 27
  },
  {
   "metadata": {
    "ExecuteTime": {
     "end_time": "2024-05-17T23:21:04.190638Z",
     "start_time": "2024-05-17T23:21:04.061607Z"
    }
   },
   "cell_type": "code",
   "source": [
    "# randomly select a few instances\n",
    "\n",
    "import random\n",
    "import os\n",
    "\n",
    "folder = \"..\\\\..\\\\data\\\\VRPTW\\\\\"\n",
    "instances = []\n",
    "for subfolder in os.listdir(folder):\n",
    "    if os.path.isdir(os.path.join(folder, subfolder)):\n",
    "        for file in os.listdir(os.path.join(folder, subfolder)):\n",
    "            if file.endswith(\".json\"):\n",
    "                instances.append(os.path.join(folder, subfolder, file))\n",
    "                \n",
    "# random.seed(0)\n",
    "train = random.sample(instances, 4)\n",
    "print(train)"
   ],
   "outputs": [
    {
     "name": "stdout",
     "output_type": "stream",
     "text": [
      "['..\\\\..\\\\data\\\\VRPTW\\\\solomon_100\\\\RC108.json', '..\\\\..\\\\data\\\\VRPTW\\\\solomon_50\\\\RC202.json', '..\\\\..\\\\data\\\\VRPTW\\\\solomon_25\\\\R103.json', '..\\\\..\\\\data\\\\VRPTW\\\\solomon_100\\\\R202.json']\n"
     ]
    }
   ],
   "execution_count": 16
  },
  {
   "metadata": {
    "ExecuteTime": {
     "end_time": "2024-05-17T23:21:06.329797Z",
     "start_time": "2024-05-17T23:21:06.200769Z"
    }
   },
   "cell_type": "code",
   "source": [
    "test = random.sample([instance for instance in instances if instance not in train], 5)\n",
    "print(test)"
   ],
   "outputs": [
    {
     "name": "stdout",
     "output_type": "stream",
     "text": [
      "['..\\\\..\\\\data\\\\VRPTW\\\\solomon_25\\\\R204.json', '..\\\\..\\\\data\\\\VRPTW\\\\solomon_50\\\\R103.json', '..\\\\..\\\\data\\\\VRPTW\\\\solomon_25\\\\RC208.json', '..\\\\..\\\\data\\\\VRPTW\\\\solomon_50\\\\R104.json', '..\\\\..\\\\data\\\\VRPTW\\\\solomon_100\\\\RC203.json']\n"
     ]
    }
   ],
   "execution_count": 17
  },
  {
   "metadata": {
    "ExecuteTime": {
     "end_time": "2024-05-17T23:53:45.234334Z",
     "start_time": "2024-05-17T23:33:39.764314Z"
    }
   },
   "cell_type": "code",
   "source": [
    "from pymoo.algorithms.soo.nonconvex.brkga import BRKGA\n",
    "# optimize hyperparameters\n",
    "\n",
    "from pymoo.algorithms.soo.nonconvex.de import DE\n",
    "from pymoo.algorithms.hyperparameters import HyperparameterProblem, MultiRun, stats_avg_nevals\n",
    "from pymoo.algorithms.soo.nonconvex.g3pcx import G3PCX\n",
    "from pymoo.core.mixed import MixedVariableGA\n",
    "from pymoo.core.parameters import set_params, hierarchical\n",
    "from pymoo.core.termination import TerminateIfAny\n",
    "from pymoo.optimize import minimize\n",
    "from pymoo.problems.single import Sphere\n",
    "from pymoo.termination.fmin import MinimumFunctionValueTermination\n",
    "from pymoo.termination.max_eval import MaximumFunctionCallTermination\n",
    "from src.vrp.solvers.ga_model import *\n",
    "from src.vrp.problem import *\n",
    "\n",
    "algorithm = DE()\n",
    "# algorithm = BRKGA()\n",
    "\n",
    "class VRPTW(ElementwiseProblem):\n",
    "    \"\"\"pymoo wrapper class\n",
    "    \"\"\"\n",
    "\n",
    "    def __init__(self, instance, fitness_func_):\n",
    "        # print(\"number of customers\", instance.nb_customers)\n",
    "        super().__init__(n_var=instance.nb_customers, n_obj=1, xl=0, xu=1)\n",
    "        self.instance = instance\n",
    "        self.fitness_func = fitness_func_\n",
    "\n",
    "    def _evaluate(self, x, out, *args, **kwargs):\n",
    "        out = self.fitness_func(self.instance, x, out)\n",
    "\n",
    "        assert \"solution\" not in out, \"Do not use `solution` key, it is pymoo reserved keyword\"\n",
    "\n",
    "        return out\n",
    "            \n",
    "hyperparams = []\n",
    "            \n",
    "for instance in train:\n",
    "    print(instance)\n",
    "    instance = load_instance(instance)\n",
    "    problem = VRPTW(instance, fitness_func)\n",
    "    \n",
    "    termination = TerminateIfAny(MinimumFunctionValueTermination(1e-5), MaximumFunctionCallTermination(500))\n",
    "    \n",
    "    performance = MultiRun(problem, seeds=[5, 50, 500], func_stats=stats_avg_nevals, termination=termination)\n",
    "    \n",
    "    res = minimize(HyperparameterProblem(algorithm, performance),\n",
    "                   MixedVariableGA(pop_size=5),\n",
    "                   (\"time\", \"00:5:00\"),\n",
    "                   seed=1,\n",
    "                   verbose=False)\n",
    "    \n",
    "    print(res.X)\n",
    "    \n",
    "    hyperparams.append(res.X.copy())\n",
    "    \n",
    "print()\n",
    "print(hyperparams)"
   ],
   "outputs": [
    {
     "name": "stdout",
     "output_type": "stream",
     "text": [
      "..\\..\\data\\VRPTW\\solomon_100\\RC108.json\n",
      "{'mating.jitter': False, 'mating.CR': 0.4502132028215444, 'mating.crossover': 'bin', 'mating.F': 0.4277015784306394, 'mating.n_diffs': 1, 'mating.selection': 'rand'}\n",
      "..\\..\\data\\VRPTW\\solomon_50\\RC202.json\n",
      "{'mating.jitter': False, 'mating.CR': 0.4502132028215444, 'mating.crossover': 'bin', 'mating.F': 0.4277015784306394, 'mating.n_diffs': 1, 'mating.selection': 'rand'}\n",
      "..\\..\\data\\VRPTW\\solomon_25\\R103.json\n",
      "{'mating.jitter': False, 'mating.CR': 0.4502132028215444, 'mating.crossover': 'bin', 'mating.F': 0.4277015784306394, 'mating.n_diffs': 1, 'mating.selection': 'rand'}\n",
      "..\\..\\data\\VRPTW\\solomon_100\\R202.json\n",
      "{'mating.jitter': False, 'mating.CR': 0.4502132028215444, 'mating.crossover': 'bin', 'mating.F': 0.4277015784306394, 'mating.n_diffs': 1, 'mating.selection': 'rand'}\n",
      "\n",
      "[{'mating.jitter': False, 'mating.CR': 0.4502132028215444, 'mating.crossover': 'bin', 'mating.F': 0.4277015784306394, 'mating.n_diffs': 1, 'mating.selection': 'rand'}, {'mating.jitter': False, 'mating.CR': 0.4502132028215444, 'mating.crossover': 'bin', 'mating.F': 0.4277015784306394, 'mating.n_diffs': 1, 'mating.selection': 'rand'}, {'mating.jitter': False, 'mating.CR': 0.4502132028215444, 'mating.crossover': 'bin', 'mating.F': 0.4277015784306394, 'mating.n_diffs': 1, 'mating.selection': 'rand'}, {'mating.jitter': False, 'mating.CR': 0.4502132028215444, 'mating.crossover': 'bin', 'mating.F': 0.4277015784306394, 'mating.n_diffs': 1, 'mating.selection': 'rand'}]\n"
     ]
    }
   ],
   "execution_count": 20
  },
  {
   "metadata": {
    "ExecuteTime": {
     "end_time": "2024-05-16T10:40:03.411927Z",
     "start_time": "2024-05-16T10:40:03.176138Z"
    }
   },
   "cell_type": "code",
   "source": [
    "# save hyperparameters\n",
    "\n",
    "with open(\"hyperparameters.json\", \"w\") as f:\n",
    "    json.dump(hyperparams, f, indent=4)"
   ],
   "outputs": [
    {
     "ename": "TypeError",
     "evalue": "Object of type bool_ is not JSON serializable",
     "output_type": "error",
     "traceback": [
      "\u001B[1;31m---------------------------------------------------------------------------\u001B[0m",
      "\u001B[1;31mTypeError\u001B[0m                                 Traceback (most recent call last)",
      "Cell \u001B[1;32mIn[8], line 4\u001B[0m\n\u001B[0;32m      1\u001B[0m \u001B[38;5;66;03m# save hyperparameters\u001B[39;00m\n\u001B[0;32m      3\u001B[0m \u001B[38;5;28;01mwith\u001B[39;00m \u001B[38;5;28mopen\u001B[39m(\u001B[38;5;124m\"\u001B[39m\u001B[38;5;124mhyperparameters.json\u001B[39m\u001B[38;5;124m\"\u001B[39m, \u001B[38;5;124m\"\u001B[39m\u001B[38;5;124mw\u001B[39m\u001B[38;5;124m\"\u001B[39m) \u001B[38;5;28;01mas\u001B[39;00m f:\n\u001B[1;32m----> 4\u001B[0m     \u001B[43mjson\u001B[49m\u001B[38;5;241;43m.\u001B[39;49m\u001B[43mdump\u001B[49m\u001B[43m(\u001B[49m\u001B[43mhyperparams\u001B[49m\u001B[43m,\u001B[49m\u001B[43m \u001B[49m\u001B[43mf\u001B[49m\u001B[43m,\u001B[49m\u001B[43m \u001B[49m\u001B[43mindent\u001B[49m\u001B[38;5;241;43m=\u001B[39;49m\u001B[38;5;241;43m4\u001B[39;49m\u001B[43m)\u001B[49m\n",
      "File \u001B[1;32m~\\anaconda3\\envs\\optimizin\\lib\\json\\__init__.py:179\u001B[0m, in \u001B[0;36mdump\u001B[1;34m(obj, fp, skipkeys, ensure_ascii, check_circular, allow_nan, cls, indent, separators, default, sort_keys, **kw)\u001B[0m\n\u001B[0;32m    173\u001B[0m     iterable \u001B[38;5;241m=\u001B[39m \u001B[38;5;28mcls\u001B[39m(skipkeys\u001B[38;5;241m=\u001B[39mskipkeys, ensure_ascii\u001B[38;5;241m=\u001B[39mensure_ascii,\n\u001B[0;32m    174\u001B[0m         check_circular\u001B[38;5;241m=\u001B[39mcheck_circular, allow_nan\u001B[38;5;241m=\u001B[39mallow_nan, indent\u001B[38;5;241m=\u001B[39mindent,\n\u001B[0;32m    175\u001B[0m         separators\u001B[38;5;241m=\u001B[39mseparators,\n\u001B[0;32m    176\u001B[0m         default\u001B[38;5;241m=\u001B[39mdefault, sort_keys\u001B[38;5;241m=\u001B[39msort_keys, \u001B[38;5;241m*\u001B[39m\u001B[38;5;241m*\u001B[39mkw)\u001B[38;5;241m.\u001B[39miterencode(obj)\n\u001B[0;32m    177\u001B[0m \u001B[38;5;66;03m# could accelerate with writelines in some versions of Python, at\u001B[39;00m\n\u001B[0;32m    178\u001B[0m \u001B[38;5;66;03m# a debuggability cost\u001B[39;00m\n\u001B[1;32m--> 179\u001B[0m \u001B[38;5;28;01mfor\u001B[39;00m chunk \u001B[38;5;129;01min\u001B[39;00m iterable:\n\u001B[0;32m    180\u001B[0m     fp\u001B[38;5;241m.\u001B[39mwrite(chunk)\n",
      "File \u001B[1;32m~\\anaconda3\\envs\\optimizin\\lib\\json\\encoder.py:429\u001B[0m, in \u001B[0;36m_make_iterencode.<locals>._iterencode\u001B[1;34m(o, _current_indent_level)\u001B[0m\n\u001B[0;32m    427\u001B[0m     \u001B[38;5;28;01myield\u001B[39;00m _floatstr(o)\n\u001B[0;32m    428\u001B[0m \u001B[38;5;28;01melif\u001B[39;00m \u001B[38;5;28misinstance\u001B[39m(o, (\u001B[38;5;28mlist\u001B[39m, \u001B[38;5;28mtuple\u001B[39m)):\n\u001B[1;32m--> 429\u001B[0m     \u001B[38;5;28;01myield from\u001B[39;00m _iterencode_list(o, _current_indent_level)\n\u001B[0;32m    430\u001B[0m \u001B[38;5;28;01melif\u001B[39;00m \u001B[38;5;28misinstance\u001B[39m(o, \u001B[38;5;28mdict\u001B[39m):\n\u001B[0;32m    431\u001B[0m     \u001B[38;5;28;01myield from\u001B[39;00m _iterencode_dict(o, _current_indent_level)\n",
      "File \u001B[1;32m~\\anaconda3\\envs\\optimizin\\lib\\json\\encoder.py:325\u001B[0m, in \u001B[0;36m_make_iterencode.<locals>._iterencode_list\u001B[1;34m(lst, _current_indent_level)\u001B[0m\n\u001B[0;32m    323\u001B[0m         \u001B[38;5;28;01melse\u001B[39;00m:\n\u001B[0;32m    324\u001B[0m             chunks \u001B[38;5;241m=\u001B[39m _iterencode(value, _current_indent_level)\n\u001B[1;32m--> 325\u001B[0m         \u001B[38;5;28;01myield from\u001B[39;00m chunks\n\u001B[0;32m    326\u001B[0m \u001B[38;5;28;01mif\u001B[39;00m newline_indent \u001B[38;5;129;01mis\u001B[39;00m \u001B[38;5;129;01mnot\u001B[39;00m \u001B[38;5;28;01mNone\u001B[39;00m:\n\u001B[0;32m    327\u001B[0m     _current_indent_level \u001B[38;5;241m-\u001B[39m\u001B[38;5;241m=\u001B[39m \u001B[38;5;241m1\u001B[39m\n",
      "File \u001B[1;32m~\\anaconda3\\envs\\optimizin\\lib\\json\\encoder.py:405\u001B[0m, in \u001B[0;36m_make_iterencode.<locals>._iterencode_dict\u001B[1;34m(dct, _current_indent_level)\u001B[0m\n\u001B[0;32m    403\u001B[0m         \u001B[38;5;28;01melse\u001B[39;00m:\n\u001B[0;32m    404\u001B[0m             chunks \u001B[38;5;241m=\u001B[39m _iterencode(value, _current_indent_level)\n\u001B[1;32m--> 405\u001B[0m         \u001B[38;5;28;01myield from\u001B[39;00m chunks\n\u001B[0;32m    406\u001B[0m \u001B[38;5;28;01mif\u001B[39;00m newline_indent \u001B[38;5;129;01mis\u001B[39;00m \u001B[38;5;129;01mnot\u001B[39;00m \u001B[38;5;28;01mNone\u001B[39;00m:\n\u001B[0;32m    407\u001B[0m     _current_indent_level \u001B[38;5;241m-\u001B[39m\u001B[38;5;241m=\u001B[39m \u001B[38;5;241m1\u001B[39m\n",
      "File \u001B[1;32m~\\anaconda3\\envs\\optimizin\\lib\\json\\encoder.py:438\u001B[0m, in \u001B[0;36m_make_iterencode.<locals>._iterencode\u001B[1;34m(o, _current_indent_level)\u001B[0m\n\u001B[0;32m    436\u001B[0m         \u001B[38;5;28;01mraise\u001B[39;00m \u001B[38;5;167;01mValueError\u001B[39;00m(\u001B[38;5;124m\"\u001B[39m\u001B[38;5;124mCircular reference detected\u001B[39m\u001B[38;5;124m\"\u001B[39m)\n\u001B[0;32m    437\u001B[0m     markers[markerid] \u001B[38;5;241m=\u001B[39m o\n\u001B[1;32m--> 438\u001B[0m o \u001B[38;5;241m=\u001B[39m \u001B[43m_default\u001B[49m\u001B[43m(\u001B[49m\u001B[43mo\u001B[49m\u001B[43m)\u001B[49m\n\u001B[0;32m    439\u001B[0m \u001B[38;5;28;01myield from\u001B[39;00m _iterencode(o, _current_indent_level)\n\u001B[0;32m    440\u001B[0m \u001B[38;5;28;01mif\u001B[39;00m markers \u001B[38;5;129;01mis\u001B[39;00m \u001B[38;5;129;01mnot\u001B[39;00m \u001B[38;5;28;01mNone\u001B[39;00m:\n",
      "File \u001B[1;32m~\\anaconda3\\envs\\optimizin\\lib\\json\\encoder.py:179\u001B[0m, in \u001B[0;36mJSONEncoder.default\u001B[1;34m(self, o)\u001B[0m\n\u001B[0;32m    160\u001B[0m \u001B[38;5;28;01mdef\u001B[39;00m \u001B[38;5;21mdefault\u001B[39m(\u001B[38;5;28mself\u001B[39m, o):\n\u001B[0;32m    161\u001B[0m \u001B[38;5;250m    \u001B[39m\u001B[38;5;124;03m\"\"\"Implement this method in a subclass such that it returns\u001B[39;00m\n\u001B[0;32m    162\u001B[0m \u001B[38;5;124;03m    a serializable object for ``o``, or calls the base implementation\u001B[39;00m\n\u001B[0;32m    163\u001B[0m \u001B[38;5;124;03m    (to raise a ``TypeError``).\u001B[39;00m\n\u001B[1;32m   (...)\u001B[0m\n\u001B[0;32m    177\u001B[0m \n\u001B[0;32m    178\u001B[0m \u001B[38;5;124;03m    \"\"\"\u001B[39;00m\n\u001B[1;32m--> 179\u001B[0m     \u001B[38;5;28;01mraise\u001B[39;00m \u001B[38;5;167;01mTypeError\u001B[39;00m(\u001B[38;5;124mf\u001B[39m\u001B[38;5;124m'\u001B[39m\u001B[38;5;124mObject of type \u001B[39m\u001B[38;5;132;01m{\u001B[39;00mo\u001B[38;5;241m.\u001B[39m\u001B[38;5;18m__class__\u001B[39m\u001B[38;5;241m.\u001B[39m\u001B[38;5;18m__name__\u001B[39m\u001B[38;5;132;01m}\u001B[39;00m\u001B[38;5;124m \u001B[39m\u001B[38;5;124m'\u001B[39m\n\u001B[0;32m    180\u001B[0m                     \u001B[38;5;124mf\u001B[39m\u001B[38;5;124m'\u001B[39m\u001B[38;5;124mis not JSON serializable\u001B[39m\u001B[38;5;124m'\u001B[39m)\n",
      "\u001B[1;31mTypeError\u001B[0m: Object of type bool_ is not JSON serializable"
     ]
    }
   ],
   "execution_count": 8
  },
  {
   "metadata": {},
   "cell_type": "code",
   "source": [
    "# load hyperparameters\n",
    "\n",
    "with open(\"hyperparameters.json\", \"r\") as f:\n",
    "    hyperparams = json.load(f)"
   ],
   "outputs": [],
   "execution_count": null
  },
  {
   "metadata": {
    "ExecuteTime": {
     "end_time": "2024-05-18T00:18:45.727014Z",
     "start_time": "2024-05-17T23:53:45.235335Z"
    }
   },
   "cell_type": "code",
   "source": [
    "# evaluate on test instances\n",
    "\n",
    "results = np.zeros((len(test), len(hyperparams) + 1))\n",
    "\n",
    "\n",
    "for i, instance in enumerate(test):\n",
    "    print(i)\n",
    "    instance = load_instance(instance)\n",
    "    \n",
    "    # Add default hyperparameters\n",
    "    algorithm = DE()\n",
    "    # algorithm = BRKGA()\n",
    "    problem = VRPTW(instance, fitness_func)\n",
    "    res = minimize(problem, algorithm, termination=(\"time\", \"00:1:00\"), seed=1, verbose=False)\n",
    "    results[i, 0] = res.F[0]\n",
    "    \n",
    "    for j, hyperparam in enumerate(hyperparams):\n",
    "        algorithm = DE()\n",
    "        # algorithm = BRKGA()\n",
    "        set_params(algorithm, hierarchical(hyperparam))\n",
    "        problem = VRPTW(instance, fitness_func)\n",
    "        res = minimize(problem, algorithm, termination=(\"time\", \"00:1:00\"), seed=1, verbose=False)\n",
    "        results[i, j+1] = res.F[0]\n",
    "        "
   ],
   "outputs": [
    {
     "name": "stdout",
     "output_type": "stream",
     "text": [
      "0\n",
      "1\n",
      "2\n",
      "3\n",
      "4\n"
     ]
    }
   ],
   "execution_count": 21
  },
  {
   "metadata": {
    "ExecuteTime": {
     "end_time": "2024-05-18T01:35:53.982127Z",
     "start_time": "2024-05-18T01:35:53.848096Z"
    }
   },
   "cell_type": "code",
   "source": [
    "# find the best hyperparameters\n",
    "\n",
    "best_hyperparams = np.argmin(np.mean(results, axis=0))\n",
    "print(best_hyperparams)\n",
    "print(hyperparams[best_hyperparams])"
   ],
   "outputs": [
    {
     "name": "stdout",
     "output_type": "stream",
     "text": [
      "0\n",
      "{'mating.jitter': False, 'mating.CR': 0.4502132028215444, 'mating.crossover': 'bin', 'mating.F': 0.4277015784306394, 'mating.n_diffs': 1, 'mating.selection': 'rand'}\n"
     ]
    }
   ],
   "execution_count": 22
  }
 ],
 "metadata": {
  "kernelspec": {
   "display_name": "Python 3 (ipykernel)",
   "language": "python",
   "name": "python3"
  },
  "language_info": {
   "codemirror_mode": {
    "name": "ipython",
    "version": 3
   },
   "file_extension": ".py",
   "mimetype": "text/x-python",
   "name": "python",
   "nbconvert_exporter": "python",
   "pygments_lexer": "ipython3",
   "version": "3.10.11"
  }
 },
 "nbformat": 4,
 "nbformat_minor": 1
}
