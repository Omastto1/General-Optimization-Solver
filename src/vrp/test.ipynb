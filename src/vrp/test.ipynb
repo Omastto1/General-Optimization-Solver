{
 "cells": [
  {
   "cell_type": "code",
   "execution_count": 1,
   "metadata": {},
   "outputs": [],
   "source": [
    "import numpy as np\n",
    "%load_ext autoreload\n",
    "%autoreload 2"
   ]
  },
  {
   "cell_type": "code",
   "execution_count": 2,
   "outputs": [],
   "source": [
    "import csv\n",
    "from cvrptw import *\n",
    "import os\n",
    "import sys\n",
    "import json"
   ],
   "metadata": {
    "collapsed": false
   }
  },
  {
   "cell_type": "code",
   "execution_count": 4,
   "metadata": {},
   "outputs": [
    {
     "name": "stdout",
     "output_type": "stream",
     "text": [
      "best_known_solution: 191.3\n"
     ]
    }
   ],
   "source": [
    "fname = \"..\\\\..\\\\data\\\\VRPTW\\\\solomon_25\\\\C101.json\"\n",
    "\n",
    "tlim = 300\n",
    "\n",
    "cvrptw_prob = CVRPTWProblem()\n",
    "with open(fname, 'r') as f:\n",
    "    instance = json.load(f)\n",
    "    print('best_known_solution:', instance['best_known_solution']['Distance'])\n",
    "cvrptw_prob.from_dict(instance['data'])\n",
    "model, data_model = build_model(cvrptw_prob)\n",
    "# solution = model.solve(TimeLimit=tlim,\n",
    "#                         agent='local',\n",
    "#                        execfile='/home/lukesmi1/Cplex/cpoptimizer/bin/x86-64_linux/cpoptimizer')\n",
    "# solution = model.solve(TimeLimit=tlim)"
   ]
  },
  {
   "cell_type": "code",
   "execution_count": null,
   "outputs": [],
   "source": [
    "fname = \"..\\\\..\\\\data\\\\VRPTW\\\\solomon_100\\\\C101.json\"\n",
    "tlim = 60\n",
    "\n",
    "instance = Cvrptw()\n",
    "instance.read_json(fname)\n",
    "\n",
    "print('best_known_solution:', instance.instance['best_known_solution']['Distance'])\n",
    "if instance.instance['best_known_solution'] is not None:\n",
    "    print('best_known_solution:', instance.instance['best_known_solution']['Distance'])\n",
    "    print('prdel')\n",
    "else:\n",
    "    print('best_known_solution: None')\n",
    "\n",
    "instance.solve(tlim)\n",
    "instance.visualize_solution()\n",
    "instance.visualize_progress()"
   ],
   "metadata": {
    "collapsed": false
   }
  },
  {
   "cell_type": "code",
   "execution_count": null,
   "outputs": [],
   "source": [
    "print('best_known_solution:', instance.instance['best_known_solution']['Distance'])"
   ],
   "metadata": {
    "collapsed": false
   }
  },
  {
   "cell_type": "code",
   "execution_count": null,
   "outputs": [],
   "source": [
    "print(instance.solution['search_progress'][-1])"
   ],
   "metadata": {
    "collapsed": false
   }
  },
  {
   "cell_type": "code",
   "execution_count": null,
   "outputs": [],
   "source": [
    "instance.save_to_json()"
   ],
   "metadata": {
    "collapsed": false
   }
  },
  {
   "cell_type": "code",
   "execution_count": null,
   "outputs": [],
   "source": [
    "# def load_optimal_values(json_data):\n",
    "optimal_values_file = '..\\\\..\\\\data\\\\VRPTW\\\\optimals.csv'  # Specify the path to the CSV file\n",
    "optimal_values = {}\n",
    "\n",
    "with open(optimal_values_file, 'r') as csv_file:\n",
    "    csv_reader = csv.DictReader(csv_file, delimiter=';')\n",
    "\n",
    "    for row in csv_reader:\n",
    "        instance_key = row.pop('Problem')  # Remove the instance key from the row\n",
    "        optimal_values[instance_key] = row\n",
    "\n",
    "# Call the function to load the optimal values and update the JSON data\n",
    "# load_optimal_values(json_data)\n"
   ],
   "metadata": {
    "collapsed": false
   }
  },
  {
   "cell_type": "code",
   "execution_count": null,
   "metadata": {},
   "outputs": [],
   "source": [
    "def get_best_known_solution(instance_name, N):\n",
    "    # Function to retrieve the best known solution based on instance name and N\n",
    "    return optimal_values.get(instance_name + '.' + str(N), None)\n",
    "\n",
    "# def convert_data_to_json():\n",
    "data_folder = '..\\\\..\\\\data\\\\VRPTW\\\\'  # Specify the folder name where the data files are located\n",
    "cvrptw_prob = CVRPTWProblem()\n",
    "\n",
    "for folder_name in os.listdir(data_folder):\n",
    "    if not os.path.isdir(os.path.join(data_folder, folder_name)):\n",
    "        continue\n",
    "\n",
    "    print(folder_name)\n",
    "\n",
    "    N = int(folder_name.split('_')[-1])  # Extract the value of N from the folder name\n",
    "    folder_path = os.path.join(data_folder, folder_name)\n",
    "\n",
    "    for filename in os.listdir(folder_path):\n",
    "        instance_name = filename.split('.')[0]  # Extract the instance name from the file name\n",
    "        instance_path = os.path.join(folder_path, filename)\n",
    "        cvrptw_prob = CVRPTWProblem()\n",
    "        print(instance_name)\n",
    "        with open(instance_path, 'r') as f:\n",
    "            instance = json.load(f)\n",
    "        print(instance['best_known_solution'])\n",
    "        print(get_best_known_solution(instance_name, N))\n",
    "        instance['best_known_solution'] = get_best_known_solution(instance_name, N)\n",
    "        instance['best_known_solution']['Distance'] = float(instance['best_known_solution']['Distance'])\n",
    "\n",
    "        # Create the JSON object\n",
    "        # json_obj = {\n",
    "        #     'name': 'cvrptw',\n",
    "        #     'N': N,\n",
    "        #     'best_known_solution': get_best_known_solution(instance_name, N),\n",
    "        #     'our_best_solution': '',\n",
    "        #     'solutions': [],\n",
    "        #     'data': instance_data,\n",
    "        # }\n",
    "\n",
    "        with open(instance_path, 'w') as json_file:\n",
    "            json.dump(instance, json_file)\n",
    "    #     break\n",
    "    # break\n",
    "# Save the JSON data to a file\n",
    "\n",
    "\n",
    "\n",
    "\n",
    "# Call the function to convert the data to JSON\n",
    "# convert_data_to_json()\n"
   ]
  },
  {
   "cell_type": "code",
   "execution_count": null,
   "outputs": [],
   "source": [
    "fname = \"R109-24.json\"\n",
    "tlim = 60*1\n",
    "\n",
    "instance = Cvrptw()\n",
    "instance.read_json(fname)\n",
    "print(instance.instance['our_best_solution']['n_workers'])\n",
    "print(instance.instance['our_best_solution']['total_distance'])\n",
    "instance.visualize_progress(instance.instance['our_best_solution'])"
   ],
   "metadata": {
    "collapsed": false
   }
  },
  {
   "cell_type": "code",
   "execution_count": null,
   "outputs": [],
   "source": [
    "fname = \"R109-56.json\"\n",
    "tlim = 60 * 1\n",
    "\n",
    "instance = Cvrptw()\n",
    "instance.read_json(fname)\n",
    "print(instance.instance['our_best_solution']['n_workers'])\n",
    "print(instance.instance['our_best_solution']['total_distance'])\n",
    "instance.visualize_progress(instance.instance['our_best_solution'])"
   ],
   "metadata": {
    "collapsed": false
   }
  },
  {
   "cell_type": "code",
   "execution_count": null,
   "outputs": [],
   "source": [
    "fname = \"R109-1-1.json\"\n",
    "tlim = 60*1\n",
    "\n",
    "instance = Cvrptw()\n",
    "instance.read_json(fname)\n",
    "print(instance.instance['our_best_solution']['n_workers'])\n",
    "print(instance.instance['our_best_solution']['total_distance'])\n",
    "instance.visualize_progress(instance.instance['our_best_solution'])"
   ],
   "metadata": {
    "collapsed": false
   }
  },
  {
   "cell_type": "markdown",
   "source": [],
   "metadata": {
    "collapsed": false
   }
  },
  {
   "cell_type": "code",
   "execution_count": null,
   "outputs": [],
   "source": [
    "fname = \"R109-1-56.json\"\n",
    "tlim = 60*1\n",
    "\n",
    "instance = Cvrptw()\n",
    "instance.read_json(fname)\n",
    "print(instance.instance['our_best_solution']['n_workers'])\n",
    "print(instance.instance['our_best_solution']['total_distance'])\n",
    "instance.visualize_progress(instance.instance['our_best_solution'])\n"
   ],
   "metadata": {
    "collapsed": false
   }
  },
  {
   "cell_type": "code",
   "execution_count": null,
   "outputs": [],
   "source": [
    "fname = \"R109-24-24.json\"\n",
    "tlim = 60*1\n",
    "\n",
    "instance = Cvrptw()\n",
    "instance.read_json(fname)\n",
    "print(instance.instance['our_best_solution']['n_workers'])\n",
    "print(instance.instance['our_best_solution']['total_distance'])\n",
    "instance.visualize_progress(instance.instance['our_best_solution'])\n"
   ],
   "metadata": {
    "collapsed": false
   }
  },
  {
   "cell_type": "code",
   "execution_count": null,
   "outputs": [],
   "source": [
    "\n",
    "\n",
    "fname = \"..\\\\..\\\\data\\\\VRPTW\\\\solomon_25\\\\C101.json\"\n",
    "\n",
    "tlim = 15\n",
    "\n",
    "cvrptw_prob = CVRPTWProblem()\n",
    "with open(fname, 'r') as f:\n",
    "    instance = json.load(f)\n",
    "    print('best_known_solution:', instance['best_known_solution']['Distance'])\n",
    "cvrptw_prob.from_dict(instance['data'])\n"
   ],
   "metadata": {
    "collapsed": false
   }
  },
  {
   "cell_type": "code",
   "execution_count": null,
   "outputs": [],
   "source": [
    "data_folder = '..\\\\..\\\\data\\\\VRPTW'\n",
    "\n",
    "ktimes = []\n",
    "times = []\n",
    "best = []\n",
    "typee = []\n",
    "\n",
    "def optimality(instance):\n",
    "    known = instance['best_known_solution']\n",
    "    our = instance['our_best_solution']\n",
    "\n",
    "    if known is None or known['Distance'] == '' or our['total_distance'] < float(known['Distance']):\n",
    "        return 'Best'\n",
    "    elif our['total_distance'] == float(known['Distance']):\n",
    "        return 'Good'\n",
    "    else:\n",
    "        return 'Bad'\n",
    "\n",
    "for folder_name in os.listdir(data_folder):\n",
    "    if not os.path.isdir(os.path.join(data_folder, folder_name)):\n",
    "        continue\n",
    "    N = int(folder_name.split('_')[-1])  # Extract the value of N from the folder name\n",
    "    folder_path = os.path.join(data_folder, folder_name)\n",
    "    print('folder_name:', folder_name)\n",
    "    for filename in os.listdir(folder_path):\n",
    "        if not filename.endswith('.json'):\n",
    "            continue\n",
    "        instance_name = filename.split('.')[0]  # Extract the instance name from the file name\n",
    "        instance_path = os.path.join(folder_path, filename)\n",
    "        print('instance_name:', instance_name)\n",
    "\n",
    "        instance = Cvrptw()\n",
    "        instance.read_json(instance_path)\n",
    "\n",
    "        if instance.instance['best_known_solution'] is not None:\n",
    "            ktimes.append(instance.instance['best_known_solution']['Distance'])\n",
    "        else:\n",
    "            ktimes.append(-1)\n",
    "\n",
    "        if instance.instance['our_best_solution'] is not None:\n",
    "            # print('our_best_solution:', instance.instance['our_best_solution']['total_distance'], 'found in', instance.instance['our_best_solution']['search_progress'][-1][1], 's')\n",
    "            times.append(instance.instance['our_best_solution']['search_progress'][-1][1])\n",
    "            best.append(optimality(instance.instance))\n",
    "            typee.append([str(N), 'RC' if instance_name[:2] == 'RC' else instance_name[0], instance_name[2] if instance_name[:2] == 'RC' else instance_name[1]])\n",
    "        else:\n",
    "            print('our_best_solution: None')\n",
    "\n",
    "    #     break\n",
    "    # break\n"
   ],
   "metadata": {
    "collapsed": false
   }
  },
  {
   "cell_type": "code",
   "execution_count": null,
   "outputs": [],
   "source": [
    "import matplotlib.pyplot as plt\n",
    "\n",
    "best_values = ['r' if x == 'Best' else 'g' if x == 'Good' else 'b' for x in best]\n",
    "\n",
    "# Plot the times and best values\n",
    "plt.scatter(range(len(times)), times, c=best_values)\n",
    "\n",
    "# Set the x-axis label\n",
    "plt.ylabel('Time (seconds)')\n",
    "\n",
    "# Display the plot\n",
    "plt.show()\n"
   ],
   "metadata": {
    "collapsed": false
   }
  },
  {
   "cell_type": "code",
   "execution_count": null,
   "outputs": [],
   "source": [
    "import matplotlib.pyplot as plt\n",
    "\n",
    "# Create a set of unique typee values\n",
    "unique_types = set(tuple(t) for t in typee)\n",
    "\n",
    "# Sort the unique typee values based on the order of importance\n",
    "sorted_types = sorted(unique_types, key=lambda x: (int(x[0]), x[1], x[2]))\n",
    "\n",
    "# Create x-values representing the tree structure\n",
    "x_values = [''.join(t) for t in sorted_types]\n",
    "\n",
    "x_dict = {x: i for i, x in enumerate(x_values)}\n",
    "\n",
    "# Create a dictionary to map each type to a color\n",
    "type_colors = {'RC': 'r', 'C': 'g'}\n",
    "\n",
    "# Plot the grouped results\n",
    "for i, (t, b) in enumerate(zip(typee, best)):\n",
    "    type_label = ''.join(t)\n",
    "    type_color = best_values[i]#type_colors.get(t[1], 'b')\n",
    "    # print(x_dict[type_label], type_label, times[i])\n",
    "    plt.scatter(x_dict[type_label], times[i], c=type_color)\n",
    "\n",
    "# Set the x-axis labels and limits\n",
    "plt.xticks(range(len(x_values)), x_values, rotation=90)\n",
    "plt.xlim(-0.5, len(x_values) - 0.5)\n",
    "\n",
    "# Set the y-axis label\n",
    "plt.yscale('log')\n",
    "plt.ylabel('Time (seconds)')\n",
    "\n",
    "legend_labels = ['Optimal Solution', 'Optimal Solution (None)', 'Suboptimal Solution']\n",
    "legend_colors = ['g', 'b', 'r']\n",
    "# legend_markers = ['o', 's', 'x']\n",
    "plt.legend(legend_labels, loc='best')\n",
    "ax = plt.gca()\n",
    "leg = ax.get_legend()\n",
    "leg.legend_handles[0].set_color('green')\n",
    "leg.legend_handles[1].set_color('blue')\n",
    "leg.legend_handles[2].set_color('red')\n",
    "\n",
    "# Display the plot\n",
    "plt.show()\n"
   ],
   "metadata": {
    "collapsed": false
   }
  },
  {
   "cell_type": "code",
   "execution_count": null,
   "outputs": [],
   "source": [
    "import os\n",
    "import json\n",
    "import pandas as pd\n",
    "\n",
    "# Define the folder path containing the JSON files\n",
    "\n",
    "# Initialize an empty list to store the dataframes\n",
    "dfs = []\n",
    "\n",
    "# Iterate over the files in the folder\n",
    "\n",
    "data_folder = '..\\\\..\\\\data\\\\VRPTW\\\\'  # Specify the folder name where the data files are located\n",
    "cvrptw_prob = CVRPTWProblem()\n",
    "\n",
    "for folder_name in os.listdir(data_folder):\n",
    "    if not os.path.isdir(os.path.join(data_folder, folder_name)):\n",
    "        continue\n",
    "    folder_path = os.path.join(data_folder, folder_name)\n",
    "    for filename in os.listdir(folder_path):\n",
    "        if filename.endswith('.json'):\n",
    "            # Read the JSON file\n",
    "\n",
    "            instance_name = filename.split('.')[0]\n",
    "            file_path = os.path.join(folder_path, filename)\n",
    "            with open(file_path) as f:\n",
    "                data = json.load(f)\n",
    "\n",
    "            # Extract the required data from the JSON\n",
    "            name = data['name']\n",
    "            N = data['N']\n",
    "            best_known_solution = data['best_known_solution']\n",
    "            our_best_solution = data['our_best_solution']\n",
    "\n",
    "            horizon = instance_name[2] if instance_name[:2] == 'RC' else instance_name[1]\n",
    "\n",
    "            # Create a DataFrame with the extracted data\n",
    "            df = pd.DataFrame({\n",
    "                'name': [name],\n",
    "                'N': [N],\n",
    "                'horizon': 'short' if horizon == '1' else 'long',\n",
    "                'sampling': 'RC' if instance_name[:2] == 'RC' else instance_name[0],\n",
    "                'best_known_dist': float(best_known_solution['Distance']) if best_known_solution is not None and best_known_solution['Distance'] != '' else -1,\n",
    "                'our_best_dist': our_best_solution['total_distance'],\n",
    "                'our_best_time': our_best_solution['search_progress'][-1][1],\n",
    "                'diff': float(best_known_solution['Distance']) - our_best_solution['total_distance'] if best_known_solution is not None and best_known_solution['Distance'] != '' else None,\n",
    "                'best_known_solution': [best_known_solution],\n",
    "                'our_best_solution': [our_best_solution]\n",
    "            })\n",
    "\n",
    "            # Append the DataFrame to the list\n",
    "            dfs.append(df)\n",
    "\n",
    "# Concatenate the list of DataFrames into a single DataFrame\n",
    "result_df = pd.concat(dfs, ignore_index=True)\n",
    "\n",
    "# Display the resulting DataFrame\n",
    "print(result_df)\n"
   ],
   "metadata": {
    "collapsed": false
   }
  },
  {
   "cell_type": "code",
   "execution_count": null,
   "outputs": [],
   "source": [
    "import matplotlib.pyplot as plt\n",
    "\n",
    "# Calculate the difference between best_known_solution distance and our_best_solution total_distance\n",
    "result_df['distance_difference'] = result_df.apply(\n",
    "    lambda row: float(row['best_known_solution']['Distance']) - row['our_best_solution']['total_distance']\n",
    "    if row['best_known_solution'] is not None and row['best_known_solution']['Distance'] != \"\"\n",
    "    else None,\n",
    "    axis=1\n",
    ")\n",
    "\n",
    "# Filter out rows where distance_difference is None\n",
    "filtered_df = result_df.dropna(subset=['distance_difference'])\n",
    "\n",
    "# Plot the difference\n",
    "plt.bar(filtered_df.index, filtered_df['distance_difference'])\n",
    "\n",
    "# Set the x-axis label and tick labels\n",
    "plt.xlabel('File Index')\n",
    "uni = filtered_df['name'].unique()\n",
    "plt.xticks(range(len(uni)), uni, rotation='vertical')\n",
    "\n",
    "# Set the y-axis label\n",
    "plt.ylabel('Distance Difference')\n",
    "\n",
    "# Display the plot\n",
    "plt.tight_layout()\n",
    "plt.show()\n"
   ],
   "metadata": {
    "collapsed": false
   }
  },
  {
   "cell_type": "code",
   "execution_count": null,
   "outputs": [],
   "source": [
    "#save df\n",
    "\n",
    "result_df.to_csv('..\\\\..\\\\data\\\\VRPTW\\\\result_df.csv', index=False)\n"
   ],
   "metadata": {
    "collapsed": false
   }
  },
  {
   "cell_type": "code",
   "execution_count": 28,
   "outputs": [],
   "source": [
    "from ORsolver import *\n",
    "\n",
    "path = '..\\\\..\\\\data\\\\VRPTW\\\\solomon_25\\\\C101.json'\n",
    "\n",
    "cvrptw_prob = CVRPTWProblem()\n",
    "with open(path) as f:\n",
    "    instance = json.load(f)\n",
    "cvrptw_prob.from_dict(instance['data'])\n",
    "\n",
    "time_precision_scaler = 10\n",
    "solver = Solver(time_precision_scaler)\n",
    "solver.load_instance(cvrptw_prob)\n",
    "solver.create_model()\n",
    "settings = {'time_limit': int(instance['our_best_solution']['search_progress'][-1][1]+5)}\n",
    "solver.solve_model(settings)\n",
    "# solver.print_solution()\n",
    "out = solver.output()\n",
    "instance['solutions'].append(out)\n"
   ],
   "metadata": {
    "collapsed": false
   }
  },
  {
   "cell_type": "code",
   "execution_count": 29,
   "outputs": [
    {
     "name": "stdout",
     "output_type": "stream",
     "text": [
      "{'distance': 0, 'vehicles': 3, 'time': 13, 'solver': 'OR-Tools', 'paths': [[0, 20, 24, 25, 23, 22, 21, 0], [0, 5, 3, 7, 8, 10, 11, 9, 6, 4, 2, 1, 0], [0, 13, 17, 18, 19, 15, 16, 14, 12, 0]]}\n"
     ]
    }
   ],
   "source": [
    "\n",
    "out = solver.output()\n",
    "instance['solutions'].append(out)\n",
    "print(out)"
   ],
   "metadata": {
    "collapsed": false
   }
  },
  {
   "cell_type": "code",
   "execution_count": 15,
   "outputs": [
    {
     "name": "stdout",
     "output_type": "stream",
     "text": [
      "demands [0, 10, 30, 10, 10, 10, 20, 20, 20, 10, 10, 10, 20, 30, 10, 40, 40, 20, 20, 10, 10, 20, 20, 10, 10, 40]\n",
      "depot 0\n",
      "num_vehicles 25\n",
      "service_times [0, 900, 900, 900, 900, 900, 900, 900, 900, 900, 900, 900, 900, 900, 900, 900, 900, 900, 900, 900, 900, 900, 900, 900, 900, 900]\n",
      "time_matrix [[0, 1086, 1106, 1061, 1081, 1051, 1090, 1060, 1081, 1100, 1067, 1096, 1280, 1208, 1293, 1260, 1303, 1233, 1253, 1290, 1000, 1001, 1021, 1030, 1050, 1051], [186, 0, 920, 936, 930, 942, 950, 953, 970, 972, 1001, 1000, 1162, 1140, 1186, 1177, 1202, 1178, 1208, 1223, 1134, 1119, 1133, 1114, 1169, 1156], [206, 920, 0, 950, 936, 958, 950, 964, 972, 970, 1007, 1000, 1150, 1135, 1174, 1169, 1191, 1174, 1204, 1216, 1150, 1134, 1147, 1126, 1182, 1169], [161, 936, 950, 0, 920, 910, 936, 920, 944, 956, 970, 976, 1154, 1119, 1175, 1160, 1190, 1156, 1184, 1204, 1100, 1084, 1097, 1078, 1133, 1120], [181, 930, 936, 920, 0, 930, 922, 928, 940, 944, 972, 970, 1140, 1111, 1162, 1150, 1178, 1150, 1178, 1195, 1116, 1100, 1112, 1091, 1147, 1133], [151, 942, 958, 910, 930, 0, 944, 922, 950, 964, 970, 980, 1162, 1123, 1182, 1166, 1197, 1160, 1187, 1208, 1092, 1076, 1091, 1072, 1126, 1114], [190, 950, 950, 936, 922, 944, 0, 930, 922, 922, 958, 950, 1119, 1089, 1140, 1128, 1156, 1128, 1157, 1173, 1114, 1097, 1108, 1084, 1142, 1126], [160, 953, 964, 920, 928, 922, 930, 0, 928, 944, 950, 958, 1142, 1101, 1161, 1144, 1175, 1137, 1165, 1186, 1088, 1072, 1084, 1062, 1119, 1105], [181, 970, 972, 944, 940, 950, 922, 928, 0, 920, 936, 931, 1114, 1074, 1133, 1116, 1147, 1111, 1140, 1159, 1096, 1078, 1088, 1064, 1122, 1106], [200, 972, 970, 956, 944, 964, 922, 944, 920, 0, 950, 931, 1098, 1067, 1119, 1105, 1134, 1106, 1135, 1150, 1115, 1096, 1105, 1080, 1138, 1122], [167, 1001, 1007, 970, 972, 970, 958, 950, 936, 950, 0, 930, 1114, 1058, 1130, 1105, 1142, 1092, 1119, 1144, 1067, 1048, 1056, 1030, 1088, 1072], [196, 1000, 1000, 976, 970, 980, 950, 958, 931, 931, 930, 0, 1088, 1043, 1106, 1086, 1119, 1080, 1108, 1128, 1096, 1077, 1083, 1056, 1114, 1097], [380, 1162, 1150, 1154, 1140, 1162, 1119, 1142, 1114, 1098, 1114, 1088, 0, 1004, 930, 970, 950, 1022, 1041, 1011, 1253, 1233, 1231, 1201, 1250, 1230], [308, 1140, 1135, 1119, 1111, 1123, 1089, 1101, 1074, 1067, 1058, 1043, 1004, 0, 1000, 953, 1001, 940, 970, 986, 1162, 1143, 1137, 1108, 1151, 1131], [393, 1186, 1174, 1175, 1162, 1182, 1140, 1161, 1133, 1119, 1130, 1106, 930, 1000, 0, 953, 920, 1007, 1022, 986, 1259, 1239, 1235, 1205, 1251, 1231], [360, 1177, 1169, 1160, 1150, 1166, 1128, 1144, 1116, 1105, 1105, 1086, 970, 953, 953, 0, 950, 953, 970, 950, 1216, 1197, 1191, 1162, 1204, 1184], [403, 1202, 1191, 1190, 1178, 1197, 1156, 1175, 1147, 1134, 1142, 1119, 950, 1001, 920, 950, 0, 1001, 1011, 970, 1264, 1244, 1239, 1210, 1253, 1233], [333, 1178, 1174, 1156, 1150, 1160, 1128, 1137, 1111, 1106, 1092, 1080, 1022, 940, 1007, 953, 1001, 0, 930, 958, 1177, 1159, 1150, 1123, 1159, 1140], [353, 1208, 1204, 1184, 1178, 1187, 1157, 1165, 1140, 1135, 1119, 1108, 1041, 970, 1022, 970, 1011, 930, 0, 950, 1191, 1174, 1164, 1138, 1169, 1150], [390, 1223, 1216, 1204, 1195, 1208, 1173, 1186, 1159, 1150, 1144, 1128, 1011, 986, 986, 950, 970, 958, 950, 0, 1235, 1217, 1208, 1181, 1216, 1197], [100, 1134, 1150, 1100, 1116, 1092, 1114, 1088, 1096, 1115, 1067, 1096, 1253, 1162, 1259, 1216, 1264, 1177, 1191, 1235, 0, 920, 928, 953, 950, 953], [101, 1119, 1134, 1084, 1100, 1076, 1097, 1072, 1078, 1096, 1048, 1077, 1233, 1143, 1239, 1197, 1244, 1159, 1174, 1217, 920, 0, 920, 936, 953, 950], [121, 1133, 1147, 1097, 1112, 1091, 1108, 1084, 1088, 1105, 1056, 1083, 1231, 1137, 1235, 1191, 1239, 1150, 1164, 1208, 928, 920, 0, 930, 936, 930], [130, 1114, 1126, 1078, 1091, 1072, 1084, 1062, 1064, 1080, 1030, 1056, 1201, 1108, 1205, 1162, 1210, 1123, 1138, 1181, 953, 936, 930, 0, 958, 942], [150, 1169, 1182, 1133, 1147, 1126, 1142, 1119, 1122, 1138, 1088, 1114, 1250, 1151, 1251, 1204, 1253, 1159, 1169, 1216, 950, 953, 936, 958, 0, 920], [151, 1156, 1169, 1120, 1133, 1114, 1126, 1105, 1106, 1122, 1072, 1097, 1230, 1131, 1231, 1184, 1233, 1140, 1150, 1197, 953, 950, 930, 942, 920, 0]]\n",
      "time_windows [(0, 12360), (10020, 10570), (9150, 9600), (1550, 2360), (8170, 8720), (1050, 1570), (7110, 7920), (2600, 3150), (3450, 4140), (6240, 6950), (4470, 5000), (5380, 5950), (7420, 8110), (1200, 1820), (6570, 7100), (4740, 5190), (5650, 6180), (1890, 2380), (2690, 3440), (3680, 4350), (1000, 1630), (10040, 10550), (9020, 9730), (8220, 8670), (1550, 2340), (2590, 3140)]\n",
      "vehicle_capacities [200, 200, 200, 200, 200, 200, 200, 200, 200, 200, 200, 200, 200, 200, 200, 200, 200, 200, 200, 200, 200, 200, 200, 200, 200]\n"
     ]
    }
   ],
   "source": [
    "# print solver data, sorted by key\n",
    "\n",
    "for key, value in sorted(solver.data.items()):\n",
    "    print(key, value)\n"
   ],
   "metadata": {
    "collapsed": false
   }
  }
 ],
 "metadata": {
  "kernelspec": {
   "display_name": "Python 3 (ipykernel)",
   "language": "python",
   "name": "python3"
  },
  "language_info": {
   "codemirror_mode": {
    "name": "ipython",
    "version": 3
   },
   "file_extension": ".py",
   "mimetype": "text/x-python",
   "name": "python",
   "nbconvert_exporter": "python",
   "pygments_lexer": "ipython3",
   "version": "3.10.10"
  }
 },
 "nbformat": 4,
 "nbformat_minor": 1
}
